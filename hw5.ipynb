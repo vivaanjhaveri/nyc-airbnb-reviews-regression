{
 "cells": [
  {
   "cell_type": "code",
   "execution_count": 3,
   "metadata": {
    "deletable": false,
    "editable": false
   },
   "outputs": [],
   "source": [
    "# Initialize Otter\n",
    "import otter\n",
    "grader = otter.Notebook(\"hw5.ipynb\")"
   ]
  },
  {
   "cell_type": "markdown",
   "metadata": {},
   "source": [
    "# CPSC 330 - Applied Machine Learning \n",
    "\n",
    "## Homework 5: Putting it all together \n",
    "### Associated lectures: All material till lecture 13 \n",
    "\n",
    "**Due date: [Monday, Mar 10, 11:59 pm](https://github.com/UBC-CS/cpsc330-2024W2?tab=readme-ov-file#deliverable-due-dates-tentative)**"
   ]
  },
  {
   "cell_type": "markdown",
   "metadata": {},
   "source": [
    "## Table of contents\n",
    "0. [Submission instructions](#si)\n",
    "1. [Understanding the problem](#1)\n",
    "2. [Data splitting](#2)\n",
    "3. [EDA](#3)\n",
    "4. [Feature engineering](#4)\n",
    "5. [Preprocessing and transformations](#5) \n",
    "6. [Baseline model](#6)\n",
    "7. [Linear models](#7)\n",
    "8. [Different models](#8)\n",
    "9. [Feature selection](#9)\n",
    "10. [Hyperparameter optimization](#10)\n",
    "11. [Interpretation and feature importances](#11) \n",
    "12. [Results on the test set](#12)\n",
    "13. [Summary of the results](#13)\n",
    "14. [Your takeaway from the course](#15)"
   ]
  },
  {
   "cell_type": "markdown",
   "metadata": {},
   "source": [
    "<div class=\"alert alert-info\">\n",
    "\n",
    "## Submission instructions\n",
    "<hr>\n",
    "rubric={points:4}\n",
    "\n",
    "**You may work with a partner on this homework and submit your assignment as a group.** Below are some instructions on working as a group.  \n",
    "- The maximum group size is 2. \n",
    "- Use group work as an opportunity to collaborate and learn new things from each other. \n",
    "- Be respectful to each other and make sure you understand all the concepts in the assignment well. \n",
    "- It's your responsibility to make sure that the assignment is submitted by one of the group members before the deadline. \n",
    "- You can find the instructions on how to do group submission on Gradescope [here](https://help.gradescope.com/article/m5qz2xsnjy-student-add-group-members).\n",
    "- If you would like to use late tokens for the homework, all group members must have the necessary late tokens available. Please note that the late tokens will be counted for all members of the group.   \n",
    "\n",
    "\n",
    "Follow the [homework submission instructions](https://github.com/UBC-CS/cpsc330-2024W2/blob/master/docs/homework_instructions.md). \n",
    "\n",
    "1. Before submitting the assignment, run all cells in your notebook to make sure there are no errors by doing `Kernel -> Restart Kernel and Clear All Outputs` and then `Run -> Run All Cells`. \n",
    "2. Notebooks with cell execution numbers out of order or not starting from \"1\" will have marks deducted. Notebooks without the output displayed may not be graded at all (because we need to see the output in order to grade your work).\n",
    "3. Follow the [CPSC 330 homework instructions](https://ubc-cs.github.io/cpsc330-2024W2/docs/homework_instructions.html), which include information on how to do your assignment and how to submit your assignment.\n",
    "4. Upload your solution on Gradescope. Check out this [Gradescope Student Guide](https://lthub.ubc.ca/guides/gradescope-student-guide/) if you need help with Gradescope submission. \n",
    "5. Make sure that the plots and output are rendered properly in your submitted file. If the .ipynb file is too big and doesn't render on Gradescope, also upload a pdf or html in addition to the .ipynb so that the TAs can view your submission on Gradescope.\n",
    "\n",
    "\n",
    "_Note: The assignments will get gradually more open-ended as we progress through the course. In many cases, there won't be a single correct solution. Sometimes you will have to make your own choices and your own decisions (for example, on what parameter values to use when they are not explicitly provided in the instructions). Use your own judgment in such cases and justify your choices, if necessary._\n",
    "\n",
    "</div>"
   ]
  },
  {
   "cell_type": "markdown",
   "metadata": {
    "deletable": false,
    "editable": false
   },
   "source": [
    "<!-- BEGIN QUESTION -->\n",
    "\n",
    "## Imports"
   ]
  },
  {
   "cell_type": "markdown",
   "metadata": {
    "deletable": false,
    "editable": false
   },
   "source": [
    "<div class=\"alert alert-warning\">\n",
    "    \n",
    "Imports\n",
    "    \n",
    "</div>\n",
    "\n",
    "_Points:_ 0"
   ]
  },
  {
   "cell_type": "code",
   "execution_count": null,
   "metadata": {
    "tags": []
   },
   "outputs": [],
   "source": [
    "from hashlib import sha1\n",
    "\n",
    "import matplotlib.pyplot as plt\n",
    "import numpy as np\n",
    "import pandas as pd\n",
    "\n",
    "\n",
    "plt.rcParams[\"font.size\"] = 16\n",
    "\n",
    "\n",
    "from sklearn.model_selection import train_test_split\n",
    "\n",
    "import os\n",
    "import matplotlib.pyplot as plt\n",
    "import numpy as np\n",
    "import pandas as pd\n",
    "from sklearn.compose import (\n",
    "    ColumnTransformer,\n",
    "    TransformedTargetRegressor,\n",
    "    make_column_transformer,\n",
    ")\n",
    "from sklearn.dummy import DummyRegressor\n",
    "from sklearn.ensemble import RandomForestRegressor\n",
    "from sklearn.impute import SimpleImputer\n",
    "from sklearn.linear_model import Ridge, RidgeCV\n",
    "from sklearn.metrics import make_scorer, mean_squared_error, r2_score\n",
    "from sklearn.model_selection import (\n",
    "    GridSearchCV,\n",
    "    cross_val_score,\n",
    "    cross_validate,\n",
    "    train_test_split,\n",
    ")\n",
    "from sklearn.pipeline import Pipeline, make_pipeline\n",
    "from sklearn.preprocessing import OneHotEncoder, OrdinalEncoder, StandardScaler\n",
    "from sklearn.tree import DecisionTreeRegressor\n",
    "from sklearn.model_selection import RandomizedSearchCV"
   ]
  },
  {
   "cell_type": "markdown",
   "metadata": {
    "deletable": false,
    "editable": false
   },
   "source": [
    "<!-- END QUESTION -->\n",
    "\n",
    "## Introduction <a name=\"in\"></a>\n",
    "\n",
    "In this homework you will be working on an open-ended mini-project, where you will put all the different things you have learned so far together to solve an interesting problem.\n",
    "\n",
    "A few notes and tips when you work on this mini-project: \n",
    "\n",
    "#### Tips\n",
    "1. This mini-project is open-ended, and while working on it, there might be some situations where you'll have to use your own judgment and make your own decisions (as you would be doing when you work as a data scientist). Make sure you explain your decisions whenever necessary. \n",
    "2. **Do not include everything you ever tried in your submission** -- it's fine just to have your final code. That said, your code should be reproducible and well-documented. For example, if you chose your hyperparameters based on some hyperparameter optimization experiment, you should leave in the code for that experiment so that someone else could re-run it and obtain the same hyperparameters, rather than mysteriously just setting the hyperparameters to some (carefully chosen) values in your code. \n",
    "3. If you realize that you are repeating a lot of code try to organize it in functions. Clear presentation of your code, experiments, and results is the key to be successful in this lab. You may use code from lecture notes or previous lab solutions with appropriate attributions. \n",
    "\n",
    "#### Assessment\n",
    "We plan to grade fairly and leniently. We don't have some secret target score that you need to achieve to get a good grade. **You'll be assessed on demonstration of mastery of course topics, clear presentation, and the quality of your analysis and results.** For example, if you just have a bunch of code and no text or figures, that's not good. If you do a bunch of sane things and get a lower accuracy than your friend, don't sweat it.\n",
    "\n",
    "\n",
    "#### A final note\n",
    "Finally, this style of this \"project\" question is different from other assignments. It'll be up to you to decide when you're \"done\" -- in fact, this is one of the hardest parts of real projects. But please don't spend WAY too much time on this... perhaps \"a few hours\" (15-20 hours???) is a good guideline for this project . Of course if you're having fun you're welcome to spend as much time as you want! But, if so, try not to do it out of perfectionism or getting the best possible grade. Do it because you're learning and enjoying it. Students from the past cohorts have found such kind of labs useful and fun and I hope you enjoy it as well. "
   ]
  },
  {
   "cell_type": "markdown",
   "metadata": {},
   "source": [
    "<br><br>"
   ]
  },
  {
   "cell_type": "markdown",
   "metadata": {
    "deletable": false,
    "editable": false
   },
   "source": [
    "<!-- BEGIN QUESTION -->\n",
    "\n",
    "## 1. Pick your problem and explain the prediction problem <a name=\"1\"></a>\n",
    "<hr>\n",
    "rubric={points:3}\n",
    "\n",
    "In this mini project, you have the option to choose on which dataset you will be working on. The tasks you will need to carry on will be similar, independently of your choice.\n",
    "\n",
    "### Option 1\n",
    "You can choose to work on a classification problem of predicting whether a credit card client will default or not. \n",
    "For this problem, you will use [Default of Credit Card Clients Dataset](https://www.kaggle.com/uciml/default-of-credit-card-clients-dataset). In this data set, there are 30,000 examples and 24 features, and the goal is to estimate whether a person will default (fail to pay) their credit card bills; this column is labeled \"default.payment.next.month\" in the data. The rest of the columns can be used as features. You may take some ideas and compare your results with [the associated research paper](https://www.sciencedirect.com/science/article/pii/S0957417407006719), which is available through [the UBC library](https://www.library.ubc.ca/). \n",
    "\n",
    "\n",
    "### Option 2\n",
    "You can choose to work on a regression problem using a [dataset](https://www.kaggle.com/dgomonov/new-york-city-airbnb-open-data) of New York City Airbnb listings from 2019. As usual, you'll need to start by downloading the dataset, then you will try to predict `reviews_per_month`, as a proxy for the popularity of the listing. Airbnb could use this sort of model to predict how popular future listings might be before they are posted, perhaps to help guide hosts create more appealing listings. In reality they might instead use something like vacancy rate or average rating as their target, but we do not have that available here.\n",
    "\n",
    "> Note there is an updated version of this dataset with more features available [here](http://insideairbnb.com/). The features were are using in `listings.csv.gz` for the New York city datasets. You will also see some other files like `reviews.csv.gz`. For your own interest you may want to explore the expanded dataset and try your analysis there. However, please submit your results on the dataset obtained from Kaggle.\n",
    "\n",
    "\n",
    "**Your tasks:**\n",
    "\n",
    "1. Spend some time understanding the options and pick the one you find more interesting (it may help spending some time looking at the documentation available on Kaggle for each dataset).\n",
    "2. After making your choice, focus on understanding the problem and what each feature means, again using the documentation on the dataset page on Kaggle. Write a few sentences on your initial thoughts on the problem and the dataset. \n",
    "3. Download the dataset and read it as a pandas dataframe. "
   ]
  },
  {
   "cell_type": "markdown",
   "metadata": {
    "deletable": false,
    "editable": false
   },
   "source": [
    "<div class=\"alert alert-warning\">\n",
    "    \n",
    "Solution_1\n",
    "    \n",
    "</div>\n",
    "\n",
    "_Points:_ 3"
   ]
  },
  {
   "cell_type": "markdown",
   "metadata": {
    "tags": []
   },
   "source": [
    "1. After examining the two Kaggle datasets and their documentation, we chose the New York City Airbnb dataset due to its robust numerical features and alignment with our interest in regression.\n",
    "\n",
    "\n",
    "2. We are working with the NYC Airbnb dataset from 2019, which includes various listing attributes such as host ID, neighborhood information, room type, and pricing details. Our goal is to predict the “reviews_per_month” feature to understand what influences listing popularity or engagement. The data contains both numerical features (e.g., price, availability) and categorical features (e.g., room type, neighborhood), making it a promising candidate for a regression task."
   ]
  },
  {
   "cell_type": "code",
   "execution_count": 2,
   "metadata": {},
   "outputs": [
    {
     "data": {
      "text/html": [
       "<div>\n",
       "<style scoped>\n",
       "    .dataframe tbody tr th:only-of-type {\n",
       "        vertical-align: middle;\n",
       "    }\n",
       "\n",
       "    .dataframe tbody tr th {\n",
       "        vertical-align: top;\n",
       "    }\n",
       "\n",
       "    .dataframe thead th {\n",
       "        text-align: right;\n",
       "    }\n",
       "</style>\n",
       "<table border=\"1\" class=\"dataframe\">\n",
       "  <thead>\n",
       "    <tr style=\"text-align: right;\">\n",
       "      <th></th>\n",
       "      <th>id</th>\n",
       "      <th>name</th>\n",
       "      <th>host_id</th>\n",
       "      <th>host_name</th>\n",
       "      <th>neighbourhood_group</th>\n",
       "      <th>neighbourhood</th>\n",
       "      <th>latitude</th>\n",
       "      <th>longitude</th>\n",
       "      <th>room_type</th>\n",
       "      <th>price</th>\n",
       "      <th>minimum_nights</th>\n",
       "      <th>number_of_reviews</th>\n",
       "      <th>last_review</th>\n",
       "      <th>reviews_per_month</th>\n",
       "      <th>calculated_host_listings_count</th>\n",
       "      <th>availability_365</th>\n",
       "    </tr>\n",
       "  </thead>\n",
       "  <tbody>\n",
       "    <tr>\n",
       "      <th>0</th>\n",
       "      <td>2539</td>\n",
       "      <td>Clean &amp; quiet apt home by the park</td>\n",
       "      <td>2787</td>\n",
       "      <td>John</td>\n",
       "      <td>Brooklyn</td>\n",
       "      <td>Kensington</td>\n",
       "      <td>40.64749</td>\n",
       "      <td>-73.97237</td>\n",
       "      <td>Private room</td>\n",
       "      <td>149</td>\n",
       "      <td>1</td>\n",
       "      <td>9</td>\n",
       "      <td>2018-10-19</td>\n",
       "      <td>0.21</td>\n",
       "      <td>6</td>\n",
       "      <td>365</td>\n",
       "    </tr>\n",
       "    <tr>\n",
       "      <th>1</th>\n",
       "      <td>2595</td>\n",
       "      <td>Skylit Midtown Castle</td>\n",
       "      <td>2845</td>\n",
       "      <td>Jennifer</td>\n",
       "      <td>Manhattan</td>\n",
       "      <td>Midtown</td>\n",
       "      <td>40.75362</td>\n",
       "      <td>-73.98377</td>\n",
       "      <td>Entire home/apt</td>\n",
       "      <td>225</td>\n",
       "      <td>1</td>\n",
       "      <td>45</td>\n",
       "      <td>2019-05-21</td>\n",
       "      <td>0.38</td>\n",
       "      <td>2</td>\n",
       "      <td>355</td>\n",
       "    </tr>\n",
       "    <tr>\n",
       "      <th>2</th>\n",
       "      <td>3647</td>\n",
       "      <td>THE VILLAGE OF HARLEM....NEW YORK !</td>\n",
       "      <td>4632</td>\n",
       "      <td>Elisabeth</td>\n",
       "      <td>Manhattan</td>\n",
       "      <td>Harlem</td>\n",
       "      <td>40.80902</td>\n",
       "      <td>-73.94190</td>\n",
       "      <td>Private room</td>\n",
       "      <td>150</td>\n",
       "      <td>3</td>\n",
       "      <td>0</td>\n",
       "      <td>NaN</td>\n",
       "      <td>NaN</td>\n",
       "      <td>1</td>\n",
       "      <td>365</td>\n",
       "    </tr>\n",
       "    <tr>\n",
       "      <th>3</th>\n",
       "      <td>3831</td>\n",
       "      <td>Cozy Entire Floor of Brownstone</td>\n",
       "      <td>4869</td>\n",
       "      <td>LisaRoxanne</td>\n",
       "      <td>Brooklyn</td>\n",
       "      <td>Clinton Hill</td>\n",
       "      <td>40.68514</td>\n",
       "      <td>-73.95976</td>\n",
       "      <td>Entire home/apt</td>\n",
       "      <td>89</td>\n",
       "      <td>1</td>\n",
       "      <td>270</td>\n",
       "      <td>2019-07-05</td>\n",
       "      <td>4.64</td>\n",
       "      <td>1</td>\n",
       "      <td>194</td>\n",
       "    </tr>\n",
       "    <tr>\n",
       "      <th>4</th>\n",
       "      <td>5022</td>\n",
       "      <td>Entire Apt: Spacious Studio/Loft by central park</td>\n",
       "      <td>7192</td>\n",
       "      <td>Laura</td>\n",
       "      <td>Manhattan</td>\n",
       "      <td>East Harlem</td>\n",
       "      <td>40.79851</td>\n",
       "      <td>-73.94399</td>\n",
       "      <td>Entire home/apt</td>\n",
       "      <td>80</td>\n",
       "      <td>10</td>\n",
       "      <td>9</td>\n",
       "      <td>2018-11-19</td>\n",
       "      <td>0.10</td>\n",
       "      <td>1</td>\n",
       "      <td>0</td>\n",
       "    </tr>\n",
       "  </tbody>\n",
       "</table>\n",
       "</div>"
      ],
      "text/plain": [
       "     id                                              name  host_id  \\\n",
       "0  2539                Clean & quiet apt home by the park     2787   \n",
       "1  2595                             Skylit Midtown Castle     2845   \n",
       "2  3647               THE VILLAGE OF HARLEM....NEW YORK !     4632   \n",
       "3  3831                   Cozy Entire Floor of Brownstone     4869   \n",
       "4  5022  Entire Apt: Spacious Studio/Loft by central park     7192   \n",
       "\n",
       "     host_name neighbourhood_group neighbourhood  latitude  longitude  \\\n",
       "0         John            Brooklyn    Kensington  40.64749  -73.97237   \n",
       "1     Jennifer           Manhattan       Midtown  40.75362  -73.98377   \n",
       "2    Elisabeth           Manhattan        Harlem  40.80902  -73.94190   \n",
       "3  LisaRoxanne            Brooklyn  Clinton Hill  40.68514  -73.95976   \n",
       "4        Laura           Manhattan   East Harlem  40.79851  -73.94399   \n",
       "\n",
       "         room_type  price  minimum_nights  number_of_reviews last_review  \\\n",
       "0     Private room    149               1                  9  2018-10-19   \n",
       "1  Entire home/apt    225               1                 45  2019-05-21   \n",
       "2     Private room    150               3                  0         NaN   \n",
       "3  Entire home/apt     89               1                270  2019-07-05   \n",
       "4  Entire home/apt     80              10                  9  2018-11-19   \n",
       "\n",
       "   reviews_per_month  calculated_host_listings_count  availability_365  \n",
       "0               0.21                               6               365  \n",
       "1               0.38                               2               355  \n",
       "2                NaN                               1               365  \n",
       "3               4.64                               1               194  \n",
       "4               0.10                               1                 0  "
      ]
     },
     "execution_count": 2,
     "metadata": {},
     "output_type": "execute_result"
    }
   ],
   "source": [
    "#3\n",
    "bnb_dataset = pd.read_csv(\"data/AB_NYC_2019.csv\")\n",
    "bnb_dataset.head()"
   ]
  },
  {
   "cell_type": "markdown",
   "metadata": {
    "deletable": false,
    "editable": false
   },
   "source": [
    "<!-- END QUESTION -->\n",
    "\n",
    "<br><br>"
   ]
  },
  {
   "cell_type": "markdown",
   "metadata": {
    "deletable": false,
    "editable": false
   },
   "source": [
    "<!-- BEGIN QUESTION -->\n",
    "\n",
    "## 2. Data splitting <a name=\"2\"></a>\n",
    "<hr>\n",
    "rubric={points:2}\n",
    "\n",
    "**Your tasks:**\n",
    "\n",
    "1. Split the data into train (70%) and test (30%) portions with `random_state=123`.\n",
    "\n",
    "> If your computer cannot handle training on 70% training data, make the test split bigger.  "
   ]
  },
  {
   "cell_type": "markdown",
   "metadata": {
    "deletable": false,
    "editable": false
   },
   "source": [
    "<div class=\"alert alert-warning\">\n",
    "    \n",
    "Solution_2\n",
    "    \n",
    "</div>\n",
    "\n",
    "_Points:_ 2"
   ]
  },
  {
   "cell_type": "code",
   "execution_count": null,
   "metadata": {
    "tags": []
   },
   "outputs": [
    {
     "name": "stdout",
     "output_type": "stream",
     "text": [
      "(4889, 16)\n",
      "(44006, 16)\n"
     ]
    }
   ],
   "source": [
    "# Train-Test Split\n",
    "# Changing test split (90%) to reduce training time - advice taken from Piazza post @461 regarding long training times\n",
    "train_df, test_df = train_test_split(bnb_dataset, test_size = 0.90, random_state = 123)\n",
    "\n",
    "# Target variable (y)\n",
    "y_train = train_df[\"reviews_per_month\"]\n",
    "y_test = test_df[\"reviews_per_month\"]\n",
    "\n",
    "# Input features (X)\n",
    "X_train = train_df.drop(columns=[\"reviews_per_month\"])\n",
    "X_test = test_df.drop(columns=[\"reviews_per_month\"])\n",
    "\n",
    "print(train_df.shape)\n",
    "print(test_df.shape)"
   ]
  },
  {
   "cell_type": "markdown",
   "metadata": {
    "deletable": false,
    "editable": false
   },
   "source": [
    "<!-- END QUESTION -->\n",
    "\n",
    "<br><br>"
   ]
  },
  {
   "cell_type": "markdown",
   "metadata": {
    "deletable": false,
    "editable": false
   },
   "source": [
    "<!-- BEGIN QUESTION -->\n",
    "\n",
    "## 3. EDA <a name=\"3\"></a>\n",
    "<hr>\n",
    "rubric={points:10}\n",
    "\n",
    "**Your tasks:**\n",
    "\n",
    "1. Perform exploratory data analysis on the train set.\n",
    "2. Include at least two summary statistics and two visualizations that you find useful, and accompany each one with a sentence explaining it.\n",
    "3. Summarize your initial observations about the data. \n",
    "4. Pick appropriate metric/metrics for assessment. "
   ]
  },
  {
   "cell_type": "markdown",
   "metadata": {
    "deletable": false,
    "editable": false
   },
   "source": [
    "<div class=\"alert alert-warning\">\n",
    "    \n",
    "Solution_3\n",
    "    \n",
    "</div>\n",
    "\n",
    "_Points:_ 10"
   ]
  },
  {
   "cell_type": "code",
   "execution_count": 7,
   "metadata": {},
   "outputs": [
    {
     "name": "stdout",
     "output_type": "stream",
     "text": [
      "<class 'pandas.core.frame.DataFrame'>\n",
      "Index: 4889 entries, 8829 to 15725\n",
      "Data columns (total 16 columns):\n",
      " #   Column                          Non-Null Count  Dtype  \n",
      "---  ------                          --------------  -----  \n",
      " 0   id                              4889 non-null   int64  \n",
      " 1   name                            4887 non-null   object \n",
      " 2   host_id                         4889 non-null   int64  \n",
      " 3   host_name                       4887 non-null   object \n",
      " 4   neighbourhood_group             4889 non-null   object \n",
      " 5   neighbourhood                   4889 non-null   object \n",
      " 6   latitude                        4889 non-null   float64\n",
      " 7   longitude                       4889 non-null   float64\n",
      " 8   room_type                       4889 non-null   object \n",
      " 9   price                           4889 non-null   int64  \n",
      " 10  minimum_nights                  4889 non-null   int64  \n",
      " 11  number_of_reviews               4889 non-null   int64  \n",
      " 12  last_review                     3907 non-null   object \n",
      " 13  reviews_per_month               3907 non-null   float64\n",
      " 14  calculated_host_listings_count  4889 non-null   int64  \n",
      " 15  availability_365                4889 non-null   int64  \n",
      "dtypes: float64(3), int64(7), object(6)\n",
      "memory usage: 649.3+ KB\n"
     ]
    },
    {
     "data": {
      "text/html": [
       "<div>\n",
       "<style scoped>\n",
       "    .dataframe tbody tr th:only-of-type {\n",
       "        vertical-align: middle;\n",
       "    }\n",
       "\n",
       "    .dataframe tbody tr th {\n",
       "        vertical-align: top;\n",
       "    }\n",
       "\n",
       "    .dataframe thead th {\n",
       "        text-align: right;\n",
       "    }\n",
       "</style>\n",
       "<table border=\"1\" class=\"dataframe\">\n",
       "  <thead>\n",
       "    <tr style=\"text-align: right;\">\n",
       "      <th></th>\n",
       "      <th>id</th>\n",
       "      <th>host_id</th>\n",
       "      <th>latitude</th>\n",
       "      <th>longitude</th>\n",
       "      <th>price</th>\n",
       "      <th>minimum_nights</th>\n",
       "      <th>number_of_reviews</th>\n",
       "      <th>reviews_per_month</th>\n",
       "      <th>calculated_host_listings_count</th>\n",
       "      <th>availability_365</th>\n",
       "    </tr>\n",
       "  </thead>\n",
       "  <tbody>\n",
       "    <tr>\n",
       "      <th>count</th>\n",
       "      <td>4.889000e+03</td>\n",
       "      <td>4.889000e+03</td>\n",
       "      <td>4889.000000</td>\n",
       "      <td>4889.000000</td>\n",
       "      <td>4889.000000</td>\n",
       "      <td>4889.000000</td>\n",
       "      <td>4889.000000</td>\n",
       "      <td>3907.000000</td>\n",
       "      <td>4889.000000</td>\n",
       "      <td>4889.000000</td>\n",
       "    </tr>\n",
       "    <tr>\n",
       "      <th>mean</th>\n",
       "      <td>1.872368e+07</td>\n",
       "      <td>6.572780e+07</td>\n",
       "      <td>40.729061</td>\n",
       "      <td>-73.951424</td>\n",
       "      <td>149.055021</td>\n",
       "      <td>6.649622</td>\n",
       "      <td>23.011659</td>\n",
       "      <td>1.318626</td>\n",
       "      <td>6.376151</td>\n",
       "      <td>109.069953</td>\n",
       "    </tr>\n",
       "    <tr>\n",
       "      <th>std</th>\n",
       "      <td>1.100551e+07</td>\n",
       "      <td>7.741428e+07</td>\n",
       "      <td>0.054971</td>\n",
       "      <td>0.046955</td>\n",
       "      <td>240.470116</td>\n",
       "      <td>17.394320</td>\n",
       "      <td>43.489897</td>\n",
       "      <td>1.611563</td>\n",
       "      <td>29.780887</td>\n",
       "      <td>130.104045</td>\n",
       "    </tr>\n",
       "    <tr>\n",
       "      <th>min</th>\n",
       "      <td>6.021000e+03</td>\n",
       "      <td>2.438000e+03</td>\n",
       "      <td>40.508730</td>\n",
       "      <td>-74.239140</td>\n",
       "      <td>15.000000</td>\n",
       "      <td>1.000000</td>\n",
       "      <td>0.000000</td>\n",
       "      <td>0.010000</td>\n",
       "      <td>1.000000</td>\n",
       "      <td>0.000000</td>\n",
       "    </tr>\n",
       "    <tr>\n",
       "      <th>25%</th>\n",
       "      <td>9.106735e+06</td>\n",
       "      <td>7.728754e+06</td>\n",
       "      <td>40.689620</td>\n",
       "      <td>-73.982560</td>\n",
       "      <td>69.000000</td>\n",
       "      <td>1.000000</td>\n",
       "      <td>1.000000</td>\n",
       "      <td>0.190000</td>\n",
       "      <td>1.000000</td>\n",
       "      <td>0.000000</td>\n",
       "    </tr>\n",
       "    <tr>\n",
       "      <th>50%</th>\n",
       "      <td>1.920989e+07</td>\n",
       "      <td>2.893732e+07</td>\n",
       "      <td>40.722220</td>\n",
       "      <td>-73.955100</td>\n",
       "      <td>105.000000</td>\n",
       "      <td>3.000000</td>\n",
       "      <td>5.000000</td>\n",
       "      <td>0.650000</td>\n",
       "      <td>1.000000</td>\n",
       "      <td>40.000000</td>\n",
       "    </tr>\n",
       "    <tr>\n",
       "      <th>75%</th>\n",
       "      <td>2.896169e+07</td>\n",
       "      <td>1.052395e+08</td>\n",
       "      <td>40.763800</td>\n",
       "      <td>-73.935660</td>\n",
       "      <td>175.000000</td>\n",
       "      <td>5.000000</td>\n",
       "      <td>24.000000</td>\n",
       "      <td>2.000000</td>\n",
       "      <td>2.000000</td>\n",
       "      <td>212.000000</td>\n",
       "    </tr>\n",
       "    <tr>\n",
       "      <th>max</th>\n",
       "      <td>3.648543e+07</td>\n",
       "      <td>2.738493e+08</td>\n",
       "      <td>40.912340</td>\n",
       "      <td>-73.721730</td>\n",
       "      <td>9999.000000</td>\n",
       "      <td>500.000000</td>\n",
       "      <td>510.000000</td>\n",
       "      <td>16.220000</td>\n",
       "      <td>327.000000</td>\n",
       "      <td>365.000000</td>\n",
       "    </tr>\n",
       "  </tbody>\n",
       "</table>\n",
       "</div>"
      ],
      "text/plain": [
       "                 id       host_id     latitude    longitude        price  \\\n",
       "count  4.889000e+03  4.889000e+03  4889.000000  4889.000000  4889.000000   \n",
       "mean   1.872368e+07  6.572780e+07    40.729061   -73.951424   149.055021   \n",
       "std    1.100551e+07  7.741428e+07     0.054971     0.046955   240.470116   \n",
       "min    6.021000e+03  2.438000e+03    40.508730   -74.239140    15.000000   \n",
       "25%    9.106735e+06  7.728754e+06    40.689620   -73.982560    69.000000   \n",
       "50%    1.920989e+07  2.893732e+07    40.722220   -73.955100   105.000000   \n",
       "75%    2.896169e+07  1.052395e+08    40.763800   -73.935660   175.000000   \n",
       "max    3.648543e+07  2.738493e+08    40.912340   -73.721730  9999.000000   \n",
       "\n",
       "       minimum_nights  number_of_reviews  reviews_per_month  \\\n",
       "count     4889.000000        4889.000000        3907.000000   \n",
       "mean         6.649622          23.011659           1.318626   \n",
       "std         17.394320          43.489897           1.611563   \n",
       "min          1.000000           0.000000           0.010000   \n",
       "25%          1.000000           1.000000           0.190000   \n",
       "50%          3.000000           5.000000           0.650000   \n",
       "75%          5.000000          24.000000           2.000000   \n",
       "max        500.000000         510.000000          16.220000   \n",
       "\n",
       "       calculated_host_listings_count  availability_365  \n",
       "count                     4889.000000       4889.000000  \n",
       "mean                         6.376151        109.069953  \n",
       "std                         29.780887        130.104045  \n",
       "min                          1.000000          0.000000  \n",
       "25%                          1.000000          0.000000  \n",
       "50%                          1.000000         40.000000  \n",
       "75%                          2.000000        212.000000  \n",
       "max                        327.000000        365.000000  "
      ]
     },
     "execution_count": 7,
     "metadata": {},
     "output_type": "execute_result"
    }
   ],
   "source": [
    "train_df.info()\n",
    "train_df.describe()"
   ]
  },
  {
   "cell_type": "markdown",
   "metadata": {
    "tags": []
   },
   "source": [
    "\n",
    "<b> 2. Summary Statistics:</b> \n",
    "\n",
    "<b> Price Distribution </b> (Mean price $149.06):\n",
    "\n",
    "The mean price of listings is $149.06, however the the standard deviation is high ($240.47), indicating that prices vary widely. The median price (50th percentile) is $105, which suggests that most listings are priced lower than the mean, confirming the presence of outliers like luxury listings (~ $10,000).\n",
    "\n",
    "<b> Reviews Per Month Distribution </b> (Mean per month 1.32):\n",
    "\n",
    "The mean number of reviews per month is 1.32, but the standard deviation is high 1.61, meaning some listings receive significantly more reviews than others. The minimum value is 0 which is likely indicating inactive or new listings, while the maximum is 16.2, showing that some listings are exceptionally popular.\n"
   ]
  },
  {
   "cell_type": "code",
   "execution_count": 8,
   "metadata": {
    "tags": []
   },
   "outputs": [
    {
     "data": {
      "image/png": "[encoded data removed]",
      "text/plain": [
       "<Figure size 600x400 with 1 Axes>"
      ]
     },
     "metadata": {},
     "output_type": "display_data"
    }
   ],
   "source": [
    "plt.figure(figsize=(6,4))\n",
    "plt.hist(X_train[\"price\"], bins=50, color='blue', edgecolor='black', alpha=0.7)\n",
    "plt.xlabel(\"Price\")\n",
    "plt.ylabel(\"Frequency\")\n",
    "plt.title(\"Histogram of Price\")\n",
    "plt.xlim(0, 1000)  # Limiting to ignore outliers and better visualization\n",
    "plt.show()"
   ]
  },
  {
   "cell_type": "markdown",
   "metadata": {
    "tags": []
   },
   "source": [
    "<b>The histogram shows that most Airbnb listings are priced below $200, with a sharp drop in frequency as prices increase, further on the distribution is highly skewed to the right, meaning a small number of listings have very high prices (luxury listings) which suggests that price normalization will be necessary for regression to prevent the extreme values from influencing the model. </b>"
   ]
  },
  {
   "cell_type": "code",
   "execution_count": null,
   "metadata": {
    "tags": []
   },
   "outputs": [
    {
     "data": {
      "image/png": "[encoded data removed]",
      "text/plain": [
       "<Figure size 800x400 with 1 Axes>"
      ]
     },
     "metadata": {},
     "output_type": "display_data"
    }
   ],
   "source": [
    "plt.figure(figsize=(8,4)) \n",
    "plt.scatter(X_train[\"price\"], y_train, alpha=0.5, color='blue')\n",
    "plt.xlabel(\"Price\")\n",
    "plt.ylabel(\"Reviews Per Month\")\n",
    "plt.title(\"Scatter Plot of Price vs. Reviews Per Month\")\n",
    "plt.xlim(0, 1000)  # For extreme price outliers\n",
    "plt.ylim(0, 20) # For better visualization because the default scale makes all the point blend together.\n",
    "plt.show()"
   ]
  },
  {
   "cell_type": "markdown",
   "metadata": {
    "tags": []
   },
   "source": [
    "<b> The scatter plot indicates an inverse relationship between price and reviews per month where cheaper listings generally receive more reviews. Listings priced under $200 tend to have higher review activity, whereas expensive listings receive fewer reviews per month suggesting that price is a significant factor affecting a listing's popularity, because affordable listings attract more guests, leading to more frequent reviews. </b>"
   ]
  },
  {
   "cell_type": "markdown",
   "metadata": {
    "tags": []
   },
   "source": [
    "<b> 3. Initial Observation </b>\n",
    "\n",
    "The exploratory data analysis reveals that price distribution is highly skewed, with most Airbnb listings priced below $200 but a few luxury listings reaching up to $10,000 and leading to potential outliers. The histogram of `price` confirms this right-skewed trend, suggesting that normalization will be needed for better regression performance. The scatter plot of `reviews_per_month` vs. `price` shows an inverse relationship, where cheaper listings receive more reviews, indicating that affordability plays a major role in listing popularity. Additionally, some listings have zero or near zero reviews, suggesting inactive or new properties, while extreme values in both `price` and `reviews_per_month` highlight the need for data cleaning and feature engineering. To improve model accuracy, factors like location, availability, and room type should be further analyzed, as they may significantly impact review frequency."
   ]
  },
  {
   "cell_type": "markdown",
   "metadata": {
    "tags": []
   },
   "source": [
    "<b> 4. Appropriate Metrics </b>\n",
    "\n",
    "Since this is a regression problem predicting `reviews_per_month`, we need metrics that evaluate how well the model predicts continuous values. <br>\n",
    "The most appropriate metrics are:\n",
    "- <b>$R^2$ Score (Coefficient of Determination)</b> – Indicates how well the model explains the variance in reviews_per_month and useful as a supplementary metric but should be interpreted cautiously due to skewed data and alongside RMSE/MAE.\n",
    "- <b> Mean Absolute Error (MAE) </b> – Measures the average absolute difference between predictions and actual values, making it easy to interpret. It is less sensitive to extreme values than RMSE, providing a balanced accuracy measure.\n",
    "- <b> Root Mean Squared Error (RMSE) </b> – Primary metric for model evaluation as it penalizes larger errors, making it useful for handling outliers in reviews_per_month. Also provides an error measurement in the same unit as the target variable, making it interpretable.\n",
    "- <b> Mean Squared Error (MSE) </b> - Useful in early stages to assess raw model performance between models, can provide insights but less interpretable due to squared error units.\n",
    "- <b> Mean Absolute Percentage Error (MAPE) </b> - Can be useful before transformations to understand relative errors across different listing types. May become unreliable due to zero values in reviews_per_month."
   ]
  },
  {
   "cell_type": "markdown",
   "metadata": {
    "deletable": false,
    "editable": false
   },
   "source": [
    "<!-- END QUESTION -->\n",
    "\n",
    "<br><br>"
   ]
  },
  {
   "cell_type": "markdown",
   "metadata": {
    "deletable": false,
    "editable": false
   },
   "source": [
    "<!-- BEGIN QUESTION -->\n",
    "\n",
    "## 4. Feature engineering <a name=\"4\"></a>\n",
    "<hr>\n",
    "rubric={points:1}\n",
    "\n",
    "**Your tasks:**\n",
    "\n",
    "1. Carry out feature engineering. In other words, extract new features relevant for the problem and work with your new feature set in the following exercises. You may have to go back and forth between feature engineering and preprocessing. "
   ]
  },
  {
   "cell_type": "markdown",
   "metadata": {
    "deletable": false,
    "editable": false
   },
   "source": [
    "<div class=\"alert alert-warning\">\n",
    "    \n",
    "Solution_4\n",
    "    \n",
    "</div>\n",
    "\n",
    "_Points:_ 1"
   ]
  },
  {
   "cell_type": "markdown",
   "metadata": {},
   "source": [
    "<b> Feature 1:</b> `price_per_night`\n",
    "\n",
    "Since some listings have very high `minimum_nights` values, directly using price as a feature does not capture how affordable a listing is <b>per night</b>. To address this, we create a new feature: `price_per_night`, which gives a clearer representation of the actual per night cost.\n",
    "\n",
    "<b> Why do this? </b> <br>\n",
    "\n",
    "We do this because it gives us a more realistic cost measure compared to just using price. Further on it avoids distortion from long-term stays, which makes a listing appear expensive when it is not and prepares the dataset for regression modeling by ensuring price comparisons are fair across listings."
   ]
  },
  {
   "cell_type": "code",
   "execution_count": 10,
   "metadata": {},
   "outputs": [
    {
     "data": {
      "text/html": [
       "<div>\n",
       "<style scoped>\n",
       "    .dataframe tbody tr th:only-of-type {\n",
       "        vertical-align: middle;\n",
       "    }\n",
       "\n",
       "    .dataframe tbody tr th {\n",
       "        vertical-align: top;\n",
       "    }\n",
       "\n",
       "    .dataframe thead th {\n",
       "        text-align: right;\n",
       "    }\n",
       "</style>\n",
       "<table border=\"1\" class=\"dataframe\">\n",
       "  <thead>\n",
       "    <tr style=\"text-align: right;\">\n",
       "      <th></th>\n",
       "      <th>id</th>\n",
       "      <th>name</th>\n",
       "      <th>host_id</th>\n",
       "      <th>host_name</th>\n",
       "      <th>neighbourhood_group</th>\n",
       "      <th>neighbourhood</th>\n",
       "      <th>latitude</th>\n",
       "      <th>longitude</th>\n",
       "      <th>room_type</th>\n",
       "      <th>price</th>\n",
       "      <th>minimum_nights</th>\n",
       "      <th>number_of_reviews</th>\n",
       "      <th>last_review</th>\n",
       "      <th>calculated_host_listings_count</th>\n",
       "      <th>availability_365</th>\n",
       "      <th>price_per_night</th>\n",
       "    </tr>\n",
       "  </thead>\n",
       "  <tbody>\n",
       "    <tr>\n",
       "      <th>8829</th>\n",
       "      <td>6768399</td>\n",
       "      <td>3)Cozy Sunny Warm Room  阳光温馨单房 停车容易</td>\n",
       "      <td>30616879</td>\n",
       "      <td>Anna</td>\n",
       "      <td>Queens</td>\n",
       "      <td>Flushing</td>\n",
       "      <td>40.75443</td>\n",
       "      <td>-73.80787</td>\n",
       "      <td>Private room</td>\n",
       "      <td>48</td>\n",
       "      <td>2</td>\n",
       "      <td>53</td>\n",
       "      <td>2019-04-07</td>\n",
       "      <td>3</td>\n",
       "      <td>153</td>\n",
       "      <td>24.00</td>\n",
       "    </tr>\n",
       "    <tr>\n",
       "      <th>9030</th>\n",
       "      <td>6930780</td>\n",
       "      <td>Beautiful Sunny Top Floor 1BD Flat</td>\n",
       "      <td>36333834</td>\n",
       "      <td>Paul</td>\n",
       "      <td>Brooklyn</td>\n",
       "      <td>Bedford-Stuyvesant</td>\n",
       "      <td>40.68378</td>\n",
       "      <td>-73.93573</td>\n",
       "      <td>Entire home/apt</td>\n",
       "      <td>139</td>\n",
       "      <td>4</td>\n",
       "      <td>152</td>\n",
       "      <td>2019-06-13</td>\n",
       "      <td>1</td>\n",
       "      <td>281</td>\n",
       "      <td>34.75</td>\n",
       "    </tr>\n",
       "    <tr>\n",
       "      <th>19652</th>\n",
       "      <td>15735169</td>\n",
       "      <td>Spacious studio in Upper East Side</td>\n",
       "      <td>85726670</td>\n",
       "      <td>Priscilla</td>\n",
       "      <td>Manhattan</td>\n",
       "      <td>Upper East Side</td>\n",
       "      <td>40.77043</td>\n",
       "      <td>-73.95557</td>\n",
       "      <td>Entire home/apt</td>\n",
       "      <td>150</td>\n",
       "      <td>3</td>\n",
       "      <td>2</td>\n",
       "      <td>2019-06-09</td>\n",
       "      <td>1</td>\n",
       "      <td>0</td>\n",
       "      <td>50.00</td>\n",
       "    </tr>\n",
       "    <tr>\n",
       "      <th>22344</th>\n",
       "      <td>18041862</td>\n",
       "      <td>Bushwick's Private Modern Space</td>\n",
       "      <td>124142417</td>\n",
       "      <td>Marlene</td>\n",
       "      <td>Brooklyn</td>\n",
       "      <td>Bushwick</td>\n",
       "      <td>40.68824</td>\n",
       "      <td>-73.91567</td>\n",
       "      <td>Entire home/apt</td>\n",
       "      <td>100</td>\n",
       "      <td>2</td>\n",
       "      <td>111</td>\n",
       "      <td>2019-06-18</td>\n",
       "      <td>2</td>\n",
       "      <td>10</td>\n",
       "      <td>50.00</td>\n",
       "    </tr>\n",
       "    <tr>\n",
       "      <th>25129</th>\n",
       "      <td>20135558</td>\n",
       "      <td>Awesome Newly Renovated 2-bdrm. - E,F,J trains.</td>\n",
       "      <td>143186772</td>\n",
       "      <td>Femi</td>\n",
       "      <td>Queens</td>\n",
       "      <td>Jamaica</td>\n",
       "      <td>40.69499</td>\n",
       "      <td>-73.79910</td>\n",
       "      <td>Entire home/apt</td>\n",
       "      <td>130</td>\n",
       "      <td>2</td>\n",
       "      <td>95</td>\n",
       "      <td>2019-06-27</td>\n",
       "      <td>1</td>\n",
       "      <td>117</td>\n",
       "      <td>65.00</td>\n",
       "    </tr>\n",
       "  </tbody>\n",
       "</table>\n",
       "</div>"
      ],
      "text/plain": [
       "             id                                             name    host_id  \\\n",
       "8829    6768399              3)Cozy Sunny Warm Room  阳光温馨单房 停车容易   30616879   \n",
       "9030    6930780               Beautiful Sunny Top Floor 1BD Flat   36333834   \n",
       "19652  15735169               Spacious studio in Upper East Side   85726670   \n",
       "22344  18041862                  Bushwick's Private Modern Space  124142417   \n",
       "25129  20135558  Awesome Newly Renovated 2-bdrm. - E,F,J trains.  143186772   \n",
       "\n",
       "       host_name neighbourhood_group       neighbourhood  latitude  longitude  \\\n",
       "8829        Anna              Queens            Flushing  40.75443  -73.80787   \n",
       "9030        Paul            Brooklyn  Bedford-Stuyvesant  40.68378  -73.93573   \n",
       "19652  Priscilla           Manhattan     Upper East Side  40.77043  -73.95557   \n",
       "22344    Marlene            Brooklyn            Bushwick  40.68824  -73.91567   \n",
       "25129       Femi              Queens             Jamaica  40.69499  -73.79910   \n",
       "\n",
       "             room_type  price  minimum_nights  number_of_reviews last_review  \\\n",
       "8829      Private room     48               2                 53  2019-04-07   \n",
       "9030   Entire home/apt    139               4                152  2019-06-13   \n",
       "19652  Entire home/apt    150               3                  2  2019-06-09   \n",
       "22344  Entire home/apt    100               2                111  2019-06-18   \n",
       "25129  Entire home/apt    130               2                 95  2019-06-27   \n",
       "\n",
       "       calculated_host_listings_count  availability_365  price_per_night  \n",
       "8829                                3               153            24.00  \n",
       "9030                                1               281            34.75  \n",
       "19652                               1                 0            50.00  \n",
       "22344                               2                10            50.00  \n",
       "25129                               1               117            65.00  "
      ]
     },
     "execution_count": 10,
     "metadata": {},
     "output_type": "execute_result"
    }
   ],
   "source": [
    "X_train[\"price_per_night\"] = X_train[\"price\"] / X_train[\"minimum_nights\"]\n",
    "X_test[\"price_per_night\"] = X_test[\"price\"] / X_test[\"minimum_nights\"]\n",
    "\n",
    "X_train.head()"
   ]
  },
  {
   "cell_type": "markdown",
   "metadata": {
    "deletable": false,
    "editable": false
   },
   "source": [
    "<!-- END QUESTION -->\n",
    "\n",
    "<br><br>"
   ]
  },
  {
   "cell_type": "markdown",
   "metadata": {
    "deletable": false,
    "editable": false
   },
   "source": [
    "<!-- BEGIN QUESTION -->\n",
    "\n",
    "## 5. Preprocessing and transformations <a name=\"5\"></a>\n",
    "<hr>\n",
    "rubric={points:10}\n",
    "\n",
    "**Your tasks:**\n",
    "\n",
    "1. Identify different feature types and the transformations you would apply on each feature type. \n",
    "2. Define a column transformer, if necessary. "
   ]
  },
  {
   "cell_type": "markdown",
   "metadata": {
    "deletable": false,
    "editable": false
   },
   "source": [
    "<div class=\"alert alert-warning\">\n",
    "    \n",
    "Solution_5\n",
    "    \n",
    "</div>\n",
    "\n",
    "_Points:_ 10"
   ]
  },
  {
   "cell_type": "code",
   "execution_count": 11,
   "metadata": {
    "tags": []
   },
   "outputs": [],
   "source": [
    "# Features to drop \n",
    "# They do not provide any value for regression\n",
    "\n",
    "## Drop features (irrelevant for prediction) \n",
    "drop_features = [\"id\", \"name\", \"host_id\", \"host_name\", \"last_review\"]\n",
    "\n",
    "# Numerical features \n",
    "numerical_features = [\"price\", \"price_per_night\", \"minimum_nights\", \"number_of_reviews\", \"availability_365\", \"calculated_host_listings_count\"]\n",
    "\n",
    "# Categorical features\n",
    "categorical_features = [\"room_type\", \"neighbourhood_group\", \"neighbourhood\"]\n",
    "\n",
    "# Pass Through features\n",
    "passthrough_features = [\"latitude\", \"longitude\"]"
   ]
  },
  {
   "cell_type": "code",
   "execution_count": 12,
   "metadata": {},
   "outputs": [
    {
     "name": "stdout",
     "output_type": "stream",
     "text": [
      "room_type              0\n",
      "neighbourhood_group    0\n",
      "neighbourhood          0\n",
      "dtype: int64\n",
      "price                             0\n",
      "price_per_night                   0\n",
      "minimum_nights                    0\n",
      "number_of_reviews                 0\n",
      "availability_365                  0\n",
      "calculated_host_listings_count    0\n",
      "dtype: int64\n"
     ]
    }
   ],
   "source": [
    "# Check for missing values in X_train\n",
    "print(X_train[categorical_features].isnull().sum())\n",
    "print(X_train[numerical_features].isnull().sum())"
   ]
  },
  {
   "cell_type": "code",
   "execution_count": 13,
   "metadata": {},
   "outputs": [
    {
     "name": "stdout",
     "output_type": "stream",
     "text": [
      "982\n"
     ]
    }
   ],
   "source": [
    "# Check for missing values in y_train\n",
    "print(y_train.isnull().sum())"
   ]
  },
  {
   "cell_type": "markdown",
   "metadata": {},
   "source": [
    "Hence, we can see that `X_train` has no missing values but `y_train` has 982 missing values. So, we impute `y_train` with the median of `reviews_per_month` since the mean would be influenced by outliers. We chose to not remove these rows since we anyway reduced the training set size to reduce model running times."
   ]
  },
  {
   "cell_type": "code",
   "execution_count": 14,
   "metadata": {},
   "outputs": [
    {
     "name": "stdout",
     "output_type": "stream",
     "text": [
      "0\n"
     ]
    }
   ],
   "source": [
    "y_train = y_train.fillna(y_train.median())\n",
    "print(y_train.isnull().sum())"
   ]
  },
  {
   "cell_type": "markdown",
   "metadata": {},
   "source": [
    "For numerical features, we will use `StandardScaler` to standardise our values. <br>\n",
    "For categorical features, we will use `OneHotEncoder` since there is no inherent order to our categorical values."
   ]
  },
  {
   "cell_type": "code",
   "execution_count": 15,
   "metadata": {},
   "outputs": [],
   "source": [
    "numeric_transformer = make_pipeline(\n",
    "    StandardScaler())\n",
    "\n",
    "categorical_transformer = make_pipeline(\n",
    "    OneHotEncoder(handle_unknown=\"ignore\"),\n",
    ")"
   ]
  },
  {
   "cell_type": "code",
   "execution_count": 16,
   "metadata": {},
   "outputs": [
    {
     "data": {
      "text/html": [
       "<style>#sk-container-id-1 {\n",
       "  /* Definition of color scheme common for light and dark mode */\n",
       "  --sklearn-color-text: #000;\n",
       "  --sklearn-color-text-muted: #666;\n",
       "  --sklearn-color-line: gray;\n",
       "  /* Definition of color scheme for unfitted estimators */\n",
       "  --sklearn-color-unfitted-level-0: #fff5e6;\n",
       "  --sklearn-color-unfitted-level-1: #f6e4d2;\n",
       "  --sklearn-color-unfitted-level-2: #ffe0b3;\n",
       "  --sklearn-color-unfitted-level-3: chocolate;\n",
       "  /* Definition of color scheme for fitted estimators */\n",
       "  --sklearn-color-fitted-level-0: #f0f8ff;\n",
       "  --sklearn-color-fitted-level-1: #d4ebff;\n",
       "  --sklearn-color-fitted-level-2: #b3dbfd;\n",
       "  --sklearn-color-fitted-level-3: cornflowerblue;\n",
       "\n",
       "  /* Specific color for light theme */\n",
       "  --sklearn-color-text-on-default-background: var(--sg-text-color, var(--theme-code-foreground, var(--jp-content-font-color1, black)));\n",
       "  --sklearn-color-background: var(--sg-background-color, var(--theme-background, var(--jp-layout-color0, white)));\n",
       "  --sklearn-color-border-box: var(--sg-text-color, var(--theme-code-foreground, var(--jp-content-font-color1, black)));\n",
       "  --sklearn-color-icon: #696969;\n",
       "\n",
       "  @media (prefers-color-scheme: dark) {\n",
       "    /* Redefinition of color scheme for dark theme */\n",
       "    --sklearn-color-text-on-default-background: var(--sg-text-color, var(--theme-code-foreground, var(--jp-content-font-color1, white)));\n",
       "    --sklearn-color-background: var(--sg-background-color, var(--theme-background, var(--jp-layout-color0, #111)));\n",
       "    --sklearn-color-border-box: var(--sg-text-color, var(--theme-code-foreground, var(--jp-content-font-color1, white)));\n",
       "    --sklearn-color-icon: #878787;\n",
       "  }\n",
       "}\n",
       "\n",
       "#sk-container-id-1 {\n",
       "  color: var(--sklearn-color-text);\n",
       "}\n",
       "\n",
       "#sk-container-id-1 pre {\n",
       "  padding: 0;\n",
       "}\n",
       "\n",
       "#sk-container-id-1 input.sk-hidden--visually {\n",
       "  border: 0;\n",
       "  clip: rect(1px 1px 1px 1px);\n",
       "  clip: rect(1px, 1px, 1px, 1px);\n",
       "  height: 1px;\n",
       "  margin: -1px;\n",
       "  overflow: hidden;\n",
       "  padding: 0;\n",
       "  position: absolute;\n",
       "  width: 1px;\n",
       "}\n",
       "\n",
       "#sk-container-id-1 div.sk-dashed-wrapped {\n",
       "  border: 1px dashed var(--sklearn-color-line);\n",
       "  margin: 0 0.4em 0.5em 0.4em;\n",
       "  box-sizing: border-box;\n",
       "  padding-bottom: 0.4em;\n",
       "  background-color: var(--sklearn-color-background);\n",
       "}\n",
       "\n",
       "#sk-container-id-1 div.sk-container {\n",
       "  /* jupyter's `normalize.less` sets `[hidden] { display: none; }`\n",
       "     but bootstrap.min.css set `[hidden] { display: none !important; }`\n",
       "     so we also need the `!important` here to be able to override the\n",
       "     default hidden behavior on the sphinx rendered scikit-learn.org.\n",
       "     See: https://github.com/scikit-learn/scikit-learn/issues/21755 */\n",
       "  display: inline-block !important;\n",
       "  position: relative;\n",
       "}\n",
       "\n",
       "#sk-container-id-1 div.sk-text-repr-fallback {\n",
       "  display: none;\n",
       "}\n",
       "\n",
       "div.sk-parallel-item,\n",
       "div.sk-serial,\n",
       "div.sk-item {\n",
       "  /* draw centered vertical line to link estimators */\n",
       "  background-image: linear-gradient(var(--sklearn-color-text-on-default-background), var(--sklearn-color-text-on-default-background));\n",
       "  background-size: 2px 100%;\n",
       "  background-repeat: no-repeat;\n",
       "  background-position: center center;\n",
       "}\n",
       "\n",
       "/* Parallel-specific style estimator block */\n",
       "\n",
       "#sk-container-id-1 div.sk-parallel-item::after {\n",
       "  content: \"\";\n",
       "  width: 100%;\n",
       "  border-bottom: 2px solid var(--sklearn-color-text-on-default-background);\n",
       "  flex-grow: 1;\n",
       "}\n",
       "\n",
       "#sk-container-id-1 div.sk-parallel {\n",
       "  display: flex;\n",
       "  align-items: stretch;\n",
       "  justify-content: center;\n",
       "  background-color: var(--sklearn-color-background);\n",
       "  position: relative;\n",
       "}\n",
       "\n",
       "#sk-container-id-1 div.sk-parallel-item {\n",
       "  display: flex;\n",
       "  flex-direction: column;\n",
       "}\n",
       "\n",
       "#sk-container-id-1 div.sk-parallel-item:first-child::after {\n",
       "  align-self: flex-end;\n",
       "  width: 50%;\n",
       "}\n",
       "\n",
       "#sk-container-id-1 div.sk-parallel-item:last-child::after {\n",
       "  align-self: flex-start;\n",
       "  width: 50%;\n",
       "}\n",
       "\n",
       "#sk-container-id-1 div.sk-parallel-item:only-child::after {\n",
       "  width: 0;\n",
       "}\n",
       "\n",
       "/* Serial-specific style estimator block */\n",
       "\n",
       "#sk-container-id-1 div.sk-serial {\n",
       "  display: flex;\n",
       "  flex-direction: column;\n",
       "  align-items: center;\n",
       "  background-color: var(--sklearn-color-background);\n",
       "  padding-right: 1em;\n",
       "  padding-left: 1em;\n",
       "}\n",
       "\n",
       "\n",
       "/* Toggleable style: style used for estimator/Pipeline/ColumnTransformer box that is\n",
       "clickable and can be expanded/collapsed.\n",
       "- Pipeline and ColumnTransformer use this feature and define the default style\n",
       "- Estimators will overwrite some part of the style using the `sk-estimator` class\n",
       "*/\n",
       "\n",
       "/* Pipeline and ColumnTransformer style (default) */\n",
       "\n",
       "#sk-container-id-1 div.sk-toggleable {\n",
       "  /* Default theme specific background. It is overwritten whether we have a\n",
       "  specific estimator or a Pipeline/ColumnTransformer */\n",
       "  background-color: var(--sklearn-color-background);\n",
       "}\n",
       "\n",
       "/* Toggleable label */\n",
       "#sk-container-id-1 label.sk-toggleable__label {\n",
       "  cursor: pointer;\n",
       "  display: flex;\n",
       "  width: 100%;\n",
       "  margin-bottom: 0;\n",
       "  padding: 0.5em;\n",
       "  box-sizing: border-box;\n",
       "  text-align: center;\n",
       "  align-items: start;\n",
       "  justify-content: space-between;\n",
       "  gap: 0.5em;\n",
       "}\n",
       "\n",
       "#sk-container-id-1 label.sk-toggleable__label .caption {\n",
       "  font-size: 0.6rem;\n",
       "  font-weight: lighter;\n",
       "  color: var(--sklearn-color-text-muted);\n",
       "}\n",
       "\n",
       "#sk-container-id-1 label.sk-toggleable__label-arrow:before {\n",
       "  /* Arrow on the left of the label */\n",
       "  content: \"▸\";\n",
       "  float: left;\n",
       "  margin-right: 0.25em;\n",
       "  color: var(--sklearn-color-icon);\n",
       "}\n",
       "\n",
       "#sk-container-id-1 label.sk-toggleable__label-arrow:hover:before {\n",
       "  color: var(--sklearn-color-text);\n",
       "}\n",
       "\n",
       "/* Toggleable content - dropdown */\n",
       "\n",
       "#sk-container-id-1 div.sk-toggleable__content {\n",
       "  max-height: 0;\n",
       "  max-width: 0;\n",
       "  overflow: hidden;\n",
       "  text-align: left;\n",
       "  /* unfitted */\n",
       "  background-color: var(--sklearn-color-unfitted-level-0);\n",
       "}\n",
       "\n",
       "#sk-container-id-1 div.sk-toggleable__content.fitted {\n",
       "  /* fitted */\n",
       "  background-color: var(--sklearn-color-fitted-level-0);\n",
       "}\n",
       "\n",
       "#sk-container-id-1 div.sk-toggleable__content pre {\n",
       "  margin: 0.2em;\n",
       "  border-radius: 0.25em;\n",
       "  color: var(--sklearn-color-text);\n",
       "  /* unfitted */\n",
       "  background-color: var(--sklearn-color-unfitted-level-0);\n",
       "}\n",
       "\n",
       "#sk-container-id-1 div.sk-toggleable__content.fitted pre {\n",
       "  /* unfitted */\n",
       "  background-color: var(--sklearn-color-fitted-level-0);\n",
       "}\n",
       "\n",
       "#sk-container-id-1 input.sk-toggleable__control:checked~div.sk-toggleable__content {\n",
       "  /* Expand drop-down */\n",
       "  max-height: 200px;\n",
       "  max-width: 100%;\n",
       "  overflow: auto;\n",
       "}\n",
       "\n",
       "#sk-container-id-1 input.sk-toggleable__control:checked~label.sk-toggleable__label-arrow:before {\n",
       "  content: \"▾\";\n",
       "}\n",
       "\n",
       "/* Pipeline/ColumnTransformer-specific style */\n",
       "\n",
       "#sk-container-id-1 div.sk-label input.sk-toggleable__control:checked~label.sk-toggleable__label {\n",
       "  color: var(--sklearn-color-text);\n",
       "  background-color: var(--sklearn-color-unfitted-level-2);\n",
       "}\n",
       "\n",
       "#sk-container-id-1 div.sk-label.fitted input.sk-toggleable__control:checked~label.sk-toggleable__label {\n",
       "  background-color: var(--sklearn-color-fitted-level-2);\n",
       "}\n",
       "\n",
       "/* Estimator-specific style */\n",
       "\n",
       "/* Colorize estimator box */\n",
       "#sk-container-id-1 div.sk-estimator input.sk-toggleable__control:checked~label.sk-toggleable__label {\n",
       "  /* unfitted */\n",
       "  background-color: var(--sklearn-color-unfitted-level-2);\n",
       "}\n",
       "\n",
       "#sk-container-id-1 div.sk-estimator.fitted input.sk-toggleable__control:checked~label.sk-toggleable__label {\n",
       "  /* fitted */\n",
       "  background-color: var(--sklearn-color-fitted-level-2);\n",
       "}\n",
       "\n",
       "#sk-container-id-1 div.sk-label label.sk-toggleable__label,\n",
       "#sk-container-id-1 div.sk-label label {\n",
       "  /* The background is the default theme color */\n",
       "  color: var(--sklearn-color-text-on-default-background);\n",
       "}\n",
       "\n",
       "/* On hover, darken the color of the background */\n",
       "#sk-container-id-1 div.sk-label:hover label.sk-toggleable__label {\n",
       "  color: var(--sklearn-color-text);\n",
       "  background-color: var(--sklearn-color-unfitted-level-2);\n",
       "}\n",
       "\n",
       "/* Label box, darken color on hover, fitted */\n",
       "#sk-container-id-1 div.sk-label.fitted:hover label.sk-toggleable__label.fitted {\n",
       "  color: var(--sklearn-color-text);\n",
       "  background-color: var(--sklearn-color-fitted-level-2);\n",
       "}\n",
       "\n",
       "/* Estimator label */\n",
       "\n",
       "#sk-container-id-1 div.sk-label label {\n",
       "  font-family: monospace;\n",
       "  font-weight: bold;\n",
       "  display: inline-block;\n",
       "  line-height: 1.2em;\n",
       "}\n",
       "\n",
       "#sk-container-id-1 div.sk-label-container {\n",
       "  text-align: center;\n",
       "}\n",
       "\n",
       "/* Estimator-specific */\n",
       "#sk-container-id-1 div.sk-estimator {\n",
       "  font-family: monospace;\n",
       "  border: 1px dotted var(--sklearn-color-border-box);\n",
       "  border-radius: 0.25em;\n",
       "  box-sizing: border-box;\n",
       "  margin-bottom: 0.5em;\n",
       "  /* unfitted */\n",
       "  background-color: var(--sklearn-color-unfitted-level-0);\n",
       "}\n",
       "\n",
       "#sk-container-id-1 div.sk-estimator.fitted {\n",
       "  /* fitted */\n",
       "  background-color: var(--sklearn-color-fitted-level-0);\n",
       "}\n",
       "\n",
       "/* on hover */\n",
       "#sk-container-id-1 div.sk-estimator:hover {\n",
       "  /* unfitted */\n",
       "  background-color: var(--sklearn-color-unfitted-level-2);\n",
       "}\n",
       "\n",
       "#sk-container-id-1 div.sk-estimator.fitted:hover {\n",
       "  /* fitted */\n",
       "  background-color: var(--sklearn-color-fitted-level-2);\n",
       "}\n",
       "\n",
       "/* Specification for estimator info (e.g. \"i\" and \"?\") */\n",
       "\n",
       "/* Common style for \"i\" and \"?\" */\n",
       "\n",
       ".sk-estimator-doc-link,\n",
       "a:link.sk-estimator-doc-link,\n",
       "a:visited.sk-estimator-doc-link {\n",
       "  float: right;\n",
       "  font-size: smaller;\n",
       "  line-height: 1em;\n",
       "  font-family: monospace;\n",
       "  background-color: var(--sklearn-color-background);\n",
       "  border-radius: 1em;\n",
       "  height: 1em;\n",
       "  width: 1em;\n",
       "  text-decoration: none !important;\n",
       "  margin-left: 0.5em;\n",
       "  text-align: center;\n",
       "  /* unfitted */\n",
       "  border: var(--sklearn-color-unfitted-level-1) 1pt solid;\n",
       "  color: var(--sklearn-color-unfitted-level-1);\n",
       "}\n",
       "\n",
       ".sk-estimator-doc-link.fitted,\n",
       "a:link.sk-estimator-doc-link.fitted,\n",
       "a:visited.sk-estimator-doc-link.fitted {\n",
       "  /* fitted */\n",
       "  border: var(--sklearn-color-fitted-level-1) 1pt solid;\n",
       "  color: var(--sklearn-color-fitted-level-1);\n",
       "}\n",
       "\n",
       "/* On hover */\n",
       "div.sk-estimator:hover .sk-estimator-doc-link:hover,\n",
       ".sk-estimator-doc-link:hover,\n",
       "div.sk-label-container:hover .sk-estimator-doc-link:hover,\n",
       ".sk-estimator-doc-link:hover {\n",
       "  /* unfitted */\n",
       "  background-color: var(--sklearn-color-unfitted-level-3);\n",
       "  color: var(--sklearn-color-background);\n",
       "  text-decoration: none;\n",
       "}\n",
       "\n",
       "div.sk-estimator.fitted:hover .sk-estimator-doc-link.fitted:hover,\n",
       ".sk-estimator-doc-link.fitted:hover,\n",
       "div.sk-label-container:hover .sk-estimator-doc-link.fitted:hover,\n",
       ".sk-estimator-doc-link.fitted:hover {\n",
       "  /* fitted */\n",
       "  background-color: var(--sklearn-color-fitted-level-3);\n",
       "  color: var(--sklearn-color-background);\n",
       "  text-decoration: none;\n",
       "}\n",
       "\n",
       "/* Span, style for the box shown on hovering the info icon */\n",
       ".sk-estimator-doc-link span {\n",
       "  display: none;\n",
       "  z-index: 9999;\n",
       "  position: relative;\n",
       "  font-weight: normal;\n",
       "  right: .2ex;\n",
       "  padding: .5ex;\n",
       "  margin: .5ex;\n",
       "  width: min-content;\n",
       "  min-width: 20ex;\n",
       "  max-width: 50ex;\n",
       "  color: var(--sklearn-color-text);\n",
       "  box-shadow: 2pt 2pt 4pt #999;\n",
       "  /* unfitted */\n",
       "  background: var(--sklearn-color-unfitted-level-0);\n",
       "  border: .5pt solid var(--sklearn-color-unfitted-level-3);\n",
       "}\n",
       "\n",
       ".sk-estimator-doc-link.fitted span {\n",
       "  /* fitted */\n",
       "  background: var(--sklearn-color-fitted-level-0);\n",
       "  border: var(--sklearn-color-fitted-level-3);\n",
       "}\n",
       "\n",
       ".sk-estimator-doc-link:hover span {\n",
       "  display: block;\n",
       "}\n",
       "\n",
       "/* \"?\"-specific style due to the `<a>` HTML tag */\n",
       "\n",
       "#sk-container-id-1 a.estimator_doc_link {\n",
       "  float: right;\n",
       "  font-size: 1rem;\n",
       "  line-height: 1em;\n",
       "  font-family: monospace;\n",
       "  background-color: var(--sklearn-color-background);\n",
       "  border-radius: 1rem;\n",
       "  height: 1rem;\n",
       "  width: 1rem;\n",
       "  text-decoration: none;\n",
       "  /* unfitted */\n",
       "  color: var(--sklearn-color-unfitted-level-1);\n",
       "  border: var(--sklearn-color-unfitted-level-1) 1pt solid;\n",
       "}\n",
       "\n",
       "#sk-container-id-1 a.estimator_doc_link.fitted {\n",
       "  /* fitted */\n",
       "  border: var(--sklearn-color-fitted-level-1) 1pt solid;\n",
       "  color: var(--sklearn-color-fitted-level-1);\n",
       "}\n",
       "\n",
       "/* On hover */\n",
       "#sk-container-id-1 a.estimator_doc_link:hover {\n",
       "  /* unfitted */\n",
       "  background-color: var(--sklearn-color-unfitted-level-3);\n",
       "  color: var(--sklearn-color-background);\n",
       "  text-decoration: none;\n",
       "}\n",
       "\n",
       "#sk-container-id-1 a.estimator_doc_link.fitted:hover {\n",
       "  /* fitted */\n",
       "  background-color: var(--sklearn-color-fitted-level-3);\n",
       "}\n",
       "</style><div id=\"sk-container-id-1\" class=\"sk-top-container\"><div class=\"sk-text-repr-fallback\"><pre>ColumnTransformer(transformers=[(&#x27;pipeline-1&#x27;,\n",
       "                                 Pipeline(steps=[(&#x27;standardscaler&#x27;,\n",
       "                                                  StandardScaler())]),\n",
       "                                 [&#x27;price&#x27;, &#x27;price_per_night&#x27;, &#x27;minimum_nights&#x27;,\n",
       "                                  &#x27;number_of_reviews&#x27;, &#x27;availability_365&#x27;,\n",
       "                                  &#x27;calculated_host_listings_count&#x27;]),\n",
       "                                (&#x27;pipeline-2&#x27;,\n",
       "                                 Pipeline(steps=[(&#x27;onehotencoder&#x27;,\n",
       "                                                  OneHotEncoder(handle_unknown=&#x27;ignore&#x27;))]),\n",
       "                                 [&#x27;room_type&#x27;, &#x27;neighbourhood_group&#x27;,\n",
       "                                  &#x27;neighbourhood&#x27;]),\n",
       "                                (&#x27;passthrough&#x27;, &#x27;passthrough&#x27;,\n",
       "                                 [&#x27;latitude&#x27;, &#x27;longitude&#x27;]),\n",
       "                                (&#x27;drop&#x27;, &#x27;drop&#x27;,\n",
       "                                 [&#x27;id&#x27;, &#x27;name&#x27;, &#x27;host_id&#x27;, &#x27;host_name&#x27;,\n",
       "                                  &#x27;last_review&#x27;])])</pre><b>In a Jupyter environment, please rerun this cell to show the HTML representation or trust the notebook. <br />On GitHub, the HTML representation is unable to render, please try loading this page with nbviewer.org.</b></div><div class=\"sk-container\" hidden><div class=\"sk-item sk-dashed-wrapped\"><div class=\"sk-label-container\"><div class=\"sk-label  sk-toggleable\"><input class=\"sk-toggleable__control sk-hidden--visually\" id=\"sk-estimator-id-1\" type=\"checkbox\" ><label for=\"sk-estimator-id-1\" class=\"sk-toggleable__label  sk-toggleable__label-arrow\"><div><div>ColumnTransformer</div></div><div><a class=\"sk-estimator-doc-link \" rel=\"noreferrer\" target=\"_blank\" href=\"https://scikit-learn.org/1.6/modules/generated/sklearn.compose.ColumnTransformer.html\">?<span>Documentation for ColumnTransformer</span></a><span class=\"sk-estimator-doc-link \">i<span>Not fitted</span></span></div></label><div class=\"sk-toggleable__content \"><pre>ColumnTransformer(transformers=[(&#x27;pipeline-1&#x27;,\n",
       "                                 Pipeline(steps=[(&#x27;standardscaler&#x27;,\n",
       "                                                  StandardScaler())]),\n",
       "                                 [&#x27;price&#x27;, &#x27;price_per_night&#x27;, &#x27;minimum_nights&#x27;,\n",
       "                                  &#x27;number_of_reviews&#x27;, &#x27;availability_365&#x27;,\n",
       "                                  &#x27;calculated_host_listings_count&#x27;]),\n",
       "                                (&#x27;pipeline-2&#x27;,\n",
       "                                 Pipeline(steps=[(&#x27;onehotencoder&#x27;,\n",
       "                                                  OneHotEncoder(handle_unknown=&#x27;ignore&#x27;))]),\n",
       "                                 [&#x27;room_type&#x27;, &#x27;neighbourhood_group&#x27;,\n",
       "                                  &#x27;neighbourhood&#x27;]),\n",
       "                                (&#x27;passthrough&#x27;, &#x27;passthrough&#x27;,\n",
       "                                 [&#x27;latitude&#x27;, &#x27;longitude&#x27;]),\n",
       "                                (&#x27;drop&#x27;, &#x27;drop&#x27;,\n",
       "                                 [&#x27;id&#x27;, &#x27;name&#x27;, &#x27;host_id&#x27;, &#x27;host_name&#x27;,\n",
       "                                  &#x27;last_review&#x27;])])</pre></div> </div></div><div class=\"sk-parallel\"><div class=\"sk-parallel-item\"><div class=\"sk-item\"><div class=\"sk-label-container\"><div class=\"sk-label  sk-toggleable\"><input class=\"sk-toggleable__control sk-hidden--visually\" id=\"sk-estimator-id-2\" type=\"checkbox\" ><label for=\"sk-estimator-id-2\" class=\"sk-toggleable__label  sk-toggleable__label-arrow\"><div><div>pipeline-1</div></div></label><div class=\"sk-toggleable__content \"><pre>[&#x27;price&#x27;, &#x27;price_per_night&#x27;, &#x27;minimum_nights&#x27;, &#x27;number_of_reviews&#x27;, &#x27;availability_365&#x27;, &#x27;calculated_host_listings_count&#x27;]</pre></div> </div></div><div class=\"sk-serial\"><div class=\"sk-item\"><div class=\"sk-serial\"><div class=\"sk-item\"><div class=\"sk-estimator  sk-toggleable\"><input class=\"sk-toggleable__control sk-hidden--visually\" id=\"sk-estimator-id-3\" type=\"checkbox\" ><label for=\"sk-estimator-id-3\" class=\"sk-toggleable__label  sk-toggleable__label-arrow\"><div><div>StandardScaler</div></div><div><a class=\"sk-estimator-doc-link \" rel=\"noreferrer\" target=\"_blank\" href=\"https://scikit-learn.org/1.6/modules/generated/sklearn.preprocessing.StandardScaler.html\">?<span>Documentation for StandardScaler</span></a></div></label><div class=\"sk-toggleable__content \"><pre>StandardScaler()</pre></div> </div></div></div></div></div></div></div><div class=\"sk-parallel-item\"><div class=\"sk-item\"><div class=\"sk-label-container\"><div class=\"sk-label  sk-toggleable\"><input class=\"sk-toggleable__control sk-hidden--visually\" id=\"sk-estimator-id-4\" type=\"checkbox\" ><label for=\"sk-estimator-id-4\" class=\"sk-toggleable__label  sk-toggleable__label-arrow\"><div><div>pipeline-2</div></div></label><div class=\"sk-toggleable__content \"><pre>[&#x27;room_type&#x27;, &#x27;neighbourhood_group&#x27;, &#x27;neighbourhood&#x27;]</pre></div> </div></div><div class=\"sk-serial\"><div class=\"sk-item\"><div class=\"sk-serial\"><div class=\"sk-item\"><div class=\"sk-estimator  sk-toggleable\"><input class=\"sk-toggleable__control sk-hidden--visually\" id=\"sk-estimator-id-5\" type=\"checkbox\" ><label for=\"sk-estimator-id-5\" class=\"sk-toggleable__label  sk-toggleable__label-arrow\"><div><div>OneHotEncoder</div></div><div><a class=\"sk-estimator-doc-link \" rel=\"noreferrer\" target=\"_blank\" href=\"https://scikit-learn.org/1.6/modules/generated/sklearn.preprocessing.OneHotEncoder.html\">?<span>Documentation for OneHotEncoder</span></a></div></label><div class=\"sk-toggleable__content \"><pre>OneHotEncoder(handle_unknown=&#x27;ignore&#x27;)</pre></div> </div></div></div></div></div></div></div><div class=\"sk-parallel-item\"><div class=\"sk-item\"><div class=\"sk-label-container\"><div class=\"sk-label  sk-toggleable\"><input class=\"sk-toggleable__control sk-hidden--visually\" id=\"sk-estimator-id-6\" type=\"checkbox\" ><label for=\"sk-estimator-id-6\" class=\"sk-toggleable__label  sk-toggleable__label-arrow\"><div><div>passthrough</div></div></label><div class=\"sk-toggleable__content \"><pre>[&#x27;latitude&#x27;, &#x27;longitude&#x27;]</pre></div> </div></div><div class=\"sk-serial\"><div class=\"sk-item\"><div class=\"sk-estimator  sk-toggleable\"><input class=\"sk-toggleable__control sk-hidden--visually\" id=\"sk-estimator-id-7\" type=\"checkbox\" ><label for=\"sk-estimator-id-7\" class=\"sk-toggleable__label  sk-toggleable__label-arrow\"><div><div>passthrough</div></div></label><div class=\"sk-toggleable__content \"><pre>passthrough</pre></div> </div></div></div></div></div><div class=\"sk-parallel-item\"><div class=\"sk-item\"><div class=\"sk-label-container\"><div class=\"sk-label  sk-toggleable\"><input class=\"sk-toggleable__control sk-hidden--visually\" id=\"sk-estimator-id-8\" type=\"checkbox\" ><label for=\"sk-estimator-id-8\" class=\"sk-toggleable__label  sk-toggleable__label-arrow\"><div><div>drop</div></div></label><div class=\"sk-toggleable__content \"><pre>[&#x27;id&#x27;, &#x27;name&#x27;, &#x27;host_id&#x27;, &#x27;host_name&#x27;, &#x27;last_review&#x27;]</pre></div> </div></div><div class=\"sk-serial\"><div class=\"sk-item\"><div class=\"sk-estimator  sk-toggleable\"><input class=\"sk-toggleable__control sk-hidden--visually\" id=\"sk-estimator-id-9\" type=\"checkbox\" ><label for=\"sk-estimator-id-9\" class=\"sk-toggleable__label  sk-toggleable__label-arrow\"><div><div>drop</div></div></label><div class=\"sk-toggleable__content \"><pre>drop</pre></div> </div></div></div></div></div></div></div></div></div>"
      ],
      "text/plain": [
       "ColumnTransformer(transformers=[('pipeline-1',\n",
       "                                 Pipeline(steps=[('standardscaler',\n",
       "                                                  StandardScaler())]),\n",
       "                                 ['price', 'price_per_night', 'minimum_nights',\n",
       "                                  'number_of_reviews', 'availability_365',\n",
       "                                  'calculated_host_listings_count']),\n",
       "                                ('pipeline-2',\n",
       "                                 Pipeline(steps=[('onehotencoder',\n",
       "                                                  OneHotEncoder(handle_unknown='ignore'))]),\n",
       "                                 ['room_type', 'neighbourhood_group',\n",
       "                                  'neighbourhood']),\n",
       "                                ('passthrough', 'passthrough',\n",
       "                                 ['latitude', 'longitude']),\n",
       "                                ('drop', 'drop',\n",
       "                                 ['id', 'name', 'host_id', 'host_name',\n",
       "                                  'last_review'])])"
      ]
     },
     "execution_count": 16,
     "metadata": {},
     "output_type": "execute_result"
    }
   ],
   "source": [
    "preprocessor = make_column_transformer(\n",
    "    (numeric_transformer, numerical_features),\n",
    "    (categorical_transformer, categorical_features),\n",
    "    (\"passthrough\", passthrough_features),\n",
    "    (\"drop\", drop_features),\n",
    ")\n",
    "preprocessor"
   ]
  },
  {
   "cell_type": "markdown",
   "metadata": {
    "deletable": false,
    "editable": false
   },
   "source": [
    "<!-- END QUESTION -->\n",
    "\n",
    "<br><br>"
   ]
  },
  {
   "cell_type": "markdown",
   "metadata": {
    "deletable": false,
    "editable": false
   },
   "source": [
    "<!-- BEGIN QUESTION -->\n",
    "\n",
    "## 6. Baseline model <a name=\"6\"></a>\n",
    "<hr>\n",
    "rubric={points:2}\n",
    "\n",
    "**Your tasks:**\n",
    "1. Try `scikit-learn`'s baseline model and report results."
   ]
  },
  {
   "cell_type": "markdown",
   "metadata": {
    "deletable": false,
    "editable": false
   },
   "source": [
    "<div class=\"alert alert-warning\">\n",
    "    \n",
    "Solution_6\n",
    "    \n",
    "</div>\n",
    "\n",
    "_Points:_ 2"
   ]
  },
  {
   "cell_type": "code",
   "execution_count": 17,
   "metadata": {
    "tags": []
   },
   "outputs": [
    {
     "data": {
      "text/html": [
       "<div>\n",
       "<style scoped>\n",
       "    .dataframe tbody tr th:only-of-type {\n",
       "        vertical-align: middle;\n",
       "    }\n",
       "\n",
       "    .dataframe tbody tr th {\n",
       "        vertical-align: top;\n",
       "    }\n",
       "\n",
       "    .dataframe thead th {\n",
       "        text-align: right;\n",
       "    }\n",
       "</style>\n",
       "<table border=\"1\" class=\"dataframe\">\n",
       "  <thead>\n",
       "    <tr style=\"text-align: right;\">\n",
       "      <th></th>\n",
       "      <th>fit_time</th>\n",
       "      <th>score_time</th>\n",
       "      <th>test_score</th>\n",
       "      <th>train_score</th>\n",
       "    </tr>\n",
       "  </thead>\n",
       "  <tbody>\n",
       "    <tr>\n",
       "      <th>0</th>\n",
       "      <td>0.035002</td>\n",
       "      <td>0.003884</td>\n",
       "      <td>-0.004073</td>\n",
       "      <td>0.0</td>\n",
       "    </tr>\n",
       "    <tr>\n",
       "      <th>1</th>\n",
       "      <td>0.006976</td>\n",
       "      <td>0.002896</td>\n",
       "      <td>-0.000318</td>\n",
       "      <td>0.0</td>\n",
       "    </tr>\n",
       "    <tr>\n",
       "      <th>2</th>\n",
       "      <td>0.006664</td>\n",
       "      <td>0.002859</td>\n",
       "      <td>-0.002932</td>\n",
       "      <td>0.0</td>\n",
       "    </tr>\n",
       "    <tr>\n",
       "      <th>3</th>\n",
       "      <td>0.007192</td>\n",
       "      <td>0.002930</td>\n",
       "      <td>-0.000989</td>\n",
       "      <td>0.0</td>\n",
       "    </tr>\n",
       "    <tr>\n",
       "      <th>4</th>\n",
       "      <td>0.006615</td>\n",
       "      <td>0.002687</td>\n",
       "      <td>-0.001724</td>\n",
       "      <td>0.0</td>\n",
       "    </tr>\n",
       "    <tr>\n",
       "      <th>5</th>\n",
       "      <td>0.007096</td>\n",
       "      <td>0.002978</td>\n",
       "      <td>-0.002457</td>\n",
       "      <td>0.0</td>\n",
       "    </tr>\n",
       "    <tr>\n",
       "      <th>6</th>\n",
       "      <td>0.006859</td>\n",
       "      <td>0.002768</td>\n",
       "      <td>-0.000015</td>\n",
       "      <td>0.0</td>\n",
       "    </tr>\n",
       "    <tr>\n",
       "      <th>7</th>\n",
       "      <td>0.006777</td>\n",
       "      <td>0.002843</td>\n",
       "      <td>-0.005290</td>\n",
       "      <td>0.0</td>\n",
       "    </tr>\n",
       "    <tr>\n",
       "      <th>8</th>\n",
       "      <td>0.006839</td>\n",
       "      <td>0.002739</td>\n",
       "      <td>-0.004002</td>\n",
       "      <td>0.0</td>\n",
       "    </tr>\n",
       "    <tr>\n",
       "      <th>9</th>\n",
       "      <td>0.006806</td>\n",
       "      <td>0.003565</td>\n",
       "      <td>-0.000214</td>\n",
       "      <td>0.0</td>\n",
       "    </tr>\n",
       "  </tbody>\n",
       "</table>\n",
       "</div>"
      ],
      "text/plain": [
       "   fit_time  score_time  test_score  train_score\n",
       "0  0.035002    0.003884   -0.004073          0.0\n",
       "1  0.006976    0.002896   -0.000318          0.0\n",
       "2  0.006664    0.002859   -0.002932          0.0\n",
       "3  0.007192    0.002930   -0.000989          0.0\n",
       "4  0.006615    0.002687   -0.001724          0.0\n",
       "5  0.007096    0.002978   -0.002457          0.0\n",
       "6  0.006859    0.002768   -0.000015          0.0\n",
       "7  0.006777    0.002843   -0.005290          0.0\n",
       "8  0.006839    0.002739   -0.004002          0.0\n",
       "9  0.006806    0.003565   -0.000214          0.0"
      ]
     },
     "execution_count": 17,
     "metadata": {},
     "output_type": "execute_result"
    }
   ],
   "source": [
    "# Create dummy regressor and pipeline for CV\n",
    "dummy_regressor = DummyRegressor(strategy=\"mean\")\n",
    "dummy_pipe = make_pipeline(preprocessor, dummy_regressor)\n",
    "\n",
    "# Cross validation\n",
    "pd.DataFrame(cross_validate(dummy_pipe, X_train, y_train, cv=10, return_train_score=True))"
   ]
  },
  {
   "cell_type": "markdown",
   "metadata": {},
   "source": [
    "<b> Interpretation of results </b>\n",
    "\n",
    "The train_score ($R^2$) is 0. This indicates, on average, that the DummyRegressor predicts the training set’s own mean about as well as using the mean itself—so it “explains” none of the variance. This is typical for a model that always predicts a constant value.\n",
    "\n",
    "Any real model should ideally produce a higher $R^2$ (closer to 1) than this dummy baseline."
   ]
  },
  {
   "cell_type": "markdown",
   "metadata": {
    "deletable": false,
    "editable": false
   },
   "source": [
    "<!-- END QUESTION -->\n",
    "\n",
    "<br><br>"
   ]
  },
  {
   "cell_type": "markdown",
   "metadata": {
    "deletable": false,
    "editable": false
   },
   "source": [
    "<!-- BEGIN QUESTION -->\n",
    "\n",
    "## 7. Linear models <a name=\"7\"></a>\n",
    "<hr>\n",
    "rubric={points:10}\n",
    "\n",
    "**Your tasks:**\n",
    "\n",
    "1. Try a linear model as a first real attempt. \n",
    "2. Carry out hyperparameter tuning to explore different values for the complexity hyperparameter. \n",
    "3. Report cross-validation scores along with standard deviation. \n",
    "4. Summarize your results."
   ]
  },
  {
   "cell_type": "markdown",
   "metadata": {
    "deletable": false,
    "editable": false
   },
   "source": [
    "<div class=\"alert alert-warning\">\n",
    "    \n",
    "Solution_7\n",
    "    \n",
    "</div>\n",
    "\n",
    "_Points:_ 10"
   ]
  },
  {
   "cell_type": "markdown",
   "metadata": {},
   "source": [
    "Let's use Ridge regression as our first linear model."
   ]
  },
  {
   "cell_type": "code",
   "execution_count": 18,
   "metadata": {
    "tags": []
   },
   "outputs": [
    {
     "data": {
      "text/html": [
       "<div>\n",
       "<style scoped>\n",
       "    .dataframe tbody tr th:only-of-type {\n",
       "        vertical-align: middle;\n",
       "    }\n",
       "\n",
       "    .dataframe tbody tr th {\n",
       "        vertical-align: top;\n",
       "    }\n",
       "\n",
       "    .dataframe thead th {\n",
       "        text-align: right;\n",
       "    }\n",
       "</style>\n",
       "<table border=\"1\" class=\"dataframe\">\n",
       "  <thead>\n",
       "    <tr style=\"text-align: right;\">\n",
       "      <th></th>\n",
       "      <th>fit_time</th>\n",
       "      <th>score_time</th>\n",
       "      <th>test_score</th>\n",
       "      <th>train_score</th>\n",
       "    </tr>\n",
       "  </thead>\n",
       "  <tbody>\n",
       "    <tr>\n",
       "      <th>0</th>\n",
       "      <td>0.032311</td>\n",
       "      <td>0.004845</td>\n",
       "      <td>0.374778</td>\n",
       "      <td>0.436486</td>\n",
       "    </tr>\n",
       "    <tr>\n",
       "      <th>1</th>\n",
       "      <td>0.013271</td>\n",
       "      <td>0.003163</td>\n",
       "      <td>0.456458</td>\n",
       "      <td>0.426187</td>\n",
       "    </tr>\n",
       "    <tr>\n",
       "      <th>2</th>\n",
       "      <td>0.012759</td>\n",
       "      <td>0.003319</td>\n",
       "      <td>0.447038</td>\n",
       "      <td>0.429423</td>\n",
       "    </tr>\n",
       "    <tr>\n",
       "      <th>3</th>\n",
       "      <td>0.012101</td>\n",
       "      <td>0.003450</td>\n",
       "      <td>0.333080</td>\n",
       "      <td>0.437124</td>\n",
       "    </tr>\n",
       "    <tr>\n",
       "      <th>4</th>\n",
       "      <td>0.012202</td>\n",
       "      <td>0.003221</td>\n",
       "      <td>0.343368</td>\n",
       "      <td>0.436709</td>\n",
       "    </tr>\n",
       "    <tr>\n",
       "      <th>5</th>\n",
       "      <td>0.012379</td>\n",
       "      <td>0.002853</td>\n",
       "      <td>0.372843</td>\n",
       "      <td>0.436382</td>\n",
       "    </tr>\n",
       "    <tr>\n",
       "      <th>6</th>\n",
       "      <td>0.011891</td>\n",
       "      <td>0.002987</td>\n",
       "      <td>0.462765</td>\n",
       "      <td>0.426263</td>\n",
       "    </tr>\n",
       "    <tr>\n",
       "      <th>7</th>\n",
       "      <td>0.011530</td>\n",
       "      <td>0.002809</td>\n",
       "      <td>0.340758</td>\n",
       "      <td>0.440114</td>\n",
       "    </tr>\n",
       "    <tr>\n",
       "      <th>8</th>\n",
       "      <td>0.011100</td>\n",
       "      <td>0.003105</td>\n",
       "      <td>0.229914</td>\n",
       "      <td>0.448170</td>\n",
       "    </tr>\n",
       "    <tr>\n",
       "      <th>9</th>\n",
       "      <td>0.012487</td>\n",
       "      <td>0.003088</td>\n",
       "      <td>0.337607</td>\n",
       "      <td>0.441996</td>\n",
       "    </tr>\n",
       "  </tbody>\n",
       "</table>\n",
       "</div>"
      ],
      "text/plain": [
       "   fit_time  score_time  test_score  train_score\n",
       "0  0.032311    0.004845    0.374778     0.436486\n",
       "1  0.013271    0.003163    0.456458     0.426187\n",
       "2  0.012759    0.003319    0.447038     0.429423\n",
       "3  0.012101    0.003450    0.333080     0.437124\n",
       "4  0.012202    0.003221    0.343368     0.436709\n",
       "5  0.012379    0.002853    0.372843     0.436382\n",
       "6  0.011891    0.002987    0.462765     0.426263\n",
       "7  0.011530    0.002809    0.340758     0.440114\n",
       "8  0.011100    0.003105    0.229914     0.448170\n",
       "9  0.012487    0.003088    0.337607     0.441996"
      ]
     },
     "execution_count": 18,
     "metadata": {},
     "output_type": "execute_result"
    }
   ],
   "source": [
    "# Create Ridge pipeline\n",
    "lr_regressor = Ridge()\n",
    "lr_pipe = make_pipeline(preprocessor, lr_regressor)\n",
    "\n",
    "# Ridge CV\n",
    "pd.DataFrame(cross_validate(lr_pipe, X_train, y_train, cv=10, return_train_score=True))"
   ]
  },
  {
   "cell_type": "markdown",
   "metadata": {},
   "source": [
    "We can see that this model is performing quite poorly as there is quite a bit of variance in `test_score`. Fold 8 is especially low. <br>\n",
    "\n",
    "Let's attempt to tune the `alpha` hyperparameter to see if we can improve our scores."
   ]
  },
  {
   "cell_type": "code",
   "execution_count": 19,
   "metadata": {
    "tags": []
   },
   "outputs": [],
   "source": [
    "# Parameter grid for alpha\n",
    "param_grid = {\"ridge__alpha\": 10.0 ** np.arange(-5, 5, 1)}\n",
    "\n",
    "pipe_ridge = make_pipeline(preprocessor, Ridge())\n",
    "\n",
    "search = GridSearchCV(pipe_ridge, param_grid, return_train_score=True, n_jobs=-1)\n",
    "search.fit(X_train, y_train)\n",
    "\n",
    "train_scores = search.cv_results_[\"mean_train_score\"]\n",
    "cv_scores = search.cv_results_[\"mean_test_score\"]"
   ]
  },
  {
   "cell_type": "code",
   "execution_count": 20,
   "metadata": {},
   "outputs": [
    {
     "data": {
      "text/plain": [
       "Text(0, 0.5, 'score')"
      ]
     },
     "execution_count": 20,
     "metadata": {},
     "output_type": "execute_result"
    },
    {
     "data": {
      "image/png": "[encoded data removed]",
      "text/plain": [
       "<Figure size 640x480 with 1 Axes>"
      ]
     },
     "metadata": {},
     "output_type": "display_data"
    }
   ],
   "source": [
    "# Plot of cv and train scores against alpha\n",
    "plt.semilogx(param_grid[\"ridge__alpha\"], train_scores.tolist(), label=\"train\")\n",
    "plt.semilogx(param_grid[\"ridge__alpha\"], cv_scores.tolist(), label=\"cv\")\n",
    "plt.legend()\n",
    "plt.xlabel(\"alpha\")\n",
    "plt.ylabel(\"score\")"
   ]
  },
  {
   "cell_type": "code",
   "execution_count": 21,
   "metadata": {},
   "outputs": [
    {
     "data": {
      "text/html": [
       "<div>\n",
       "<style scoped>\n",
       "    .dataframe tbody tr th:only-of-type {\n",
       "        vertical-align: middle;\n",
       "    }\n",
       "\n",
       "    .dataframe tbody tr th {\n",
       "        vertical-align: top;\n",
       "    }\n",
       "\n",
       "    .dataframe thead th {\n",
       "        text-align: right;\n",
       "    }\n",
       "</style>\n",
       "<table border=\"1\" class=\"dataframe\">\n",
       "  <thead>\n",
       "    <tr style=\"text-align: right;\">\n",
       "      <th></th>\n",
       "      <th>alpha</th>\n",
       "      <th>mean_train_score</th>\n",
       "      <th>std_train_score</th>\n",
       "      <th>mean_test_score</th>\n",
       "      <th>std_test_score</th>\n",
       "    </tr>\n",
       "  </thead>\n",
       "  <tbody>\n",
       "    <tr>\n",
       "      <th>0</th>\n",
       "      <td>0.00001</td>\n",
       "      <td>0.441916</td>\n",
       "      <td>0.010310</td>\n",
       "      <td>0.359189</td>\n",
       "      <td>0.042633</td>\n",
       "    </tr>\n",
       "    <tr>\n",
       "      <th>1</th>\n",
       "      <td>0.00010</td>\n",
       "      <td>0.441916</td>\n",
       "      <td>0.010310</td>\n",
       "      <td>0.359191</td>\n",
       "      <td>0.042636</td>\n",
       "    </tr>\n",
       "    <tr>\n",
       "      <th>2</th>\n",
       "      <td>0.00100</td>\n",
       "      <td>0.441916</td>\n",
       "      <td>0.010310</td>\n",
       "      <td>0.359210</td>\n",
       "      <td>0.042640</td>\n",
       "    </tr>\n",
       "    <tr>\n",
       "      <th>3</th>\n",
       "      <td>0.01000</td>\n",
       "      <td>0.441912</td>\n",
       "      <td>0.010310</td>\n",
       "      <td>0.359604</td>\n",
       "      <td>0.042621</td>\n",
       "    </tr>\n",
       "    <tr>\n",
       "      <th>4</th>\n",
       "      <td>0.10000</td>\n",
       "      <td>0.441747</td>\n",
       "      <td>0.010332</td>\n",
       "      <td>0.362377</td>\n",
       "      <td>0.042405</td>\n",
       "    </tr>\n",
       "    <tr>\n",
       "      <th>5</th>\n",
       "      <td>1.00000</td>\n",
       "      <td>0.438733</td>\n",
       "      <td>0.010416</td>\n",
       "      <td>0.373252</td>\n",
       "      <td>0.041195</td>\n",
       "    </tr>\n",
       "    <tr>\n",
       "      <th>6</th>\n",
       "      <td>10.00000</td>\n",
       "      <td>0.422326</td>\n",
       "      <td>0.010174</td>\n",
       "      <td>0.383137</td>\n",
       "      <td>0.040093</td>\n",
       "    </tr>\n",
       "    <tr>\n",
       "      <th>7</th>\n",
       "      <td>100.00000</td>\n",
       "      <td>0.403131</td>\n",
       "      <td>0.009751</td>\n",
       "      <td>0.382630</td>\n",
       "      <td>0.038711</td>\n",
       "    </tr>\n",
       "    <tr>\n",
       "      <th>8</th>\n",
       "      <td>1000.00000</td>\n",
       "      <td>0.376779</td>\n",
       "      <td>0.009220</td>\n",
       "      <td>0.367632</td>\n",
       "      <td>0.031152</td>\n",
       "    </tr>\n",
       "    <tr>\n",
       "      <th>9</th>\n",
       "      <td>10000.00000</td>\n",
       "      <td>0.196425</td>\n",
       "      <td>0.004855</td>\n",
       "      <td>0.194155</td>\n",
       "      <td>0.012175</td>\n",
       "    </tr>\n",
       "  </tbody>\n",
       "</table>\n",
       "</div>"
      ],
      "text/plain": [
       "         alpha  mean_train_score  std_train_score  mean_test_score  \\\n",
       "0      0.00001          0.441916         0.010310         0.359189   \n",
       "1      0.00010          0.441916         0.010310         0.359191   \n",
       "2      0.00100          0.441916         0.010310         0.359210   \n",
       "3      0.01000          0.441912         0.010310         0.359604   \n",
       "4      0.10000          0.441747         0.010332         0.362377   \n",
       "5      1.00000          0.438733         0.010416         0.373252   \n",
       "6     10.00000          0.422326         0.010174         0.383137   \n",
       "7    100.00000          0.403131         0.009751         0.382630   \n",
       "8   1000.00000          0.376779         0.009220         0.367632   \n",
       "9  10000.00000          0.196425         0.004855         0.194155   \n",
       "\n",
       "   std_test_score  \n",
       "0        0.042633  \n",
       "1        0.042636  \n",
       "2        0.042640  \n",
       "3        0.042621  \n",
       "4        0.042405  \n",
       "5        0.041195  \n",
       "6        0.040093  \n",
       "7        0.038711  \n",
       "8        0.031152  \n",
       "9        0.012175  "
      ]
     },
     "execution_count": 21,
     "metadata": {},
     "output_type": "execute_result"
    }
   ],
   "source": [
    "# Summarising CV results with standard deviations\n",
    "cv_results = pd.DataFrame({\n",
    "    \"alpha\": search.cv_results_[\"param_ridge__alpha\"],\n",
    "    \"mean_train_score\": search.cv_results_[\"mean_train_score\"],\n",
    "    \"std_train_score\": search.cv_results_[\"std_train_score\"],\n",
    "    \"mean_test_score\": search.cv_results_[\"mean_test_score\"],\n",
    "    \"std_test_score\": search.cv_results_[\"std_test_score\"],\n",
    "})\n",
    "\n",
    "# Sort by alpha\n",
    "cv_results.sort_values(by=\"alpha\", inplace=True)\n",
    "cv_results"
   ]
  },
  {
   "cell_type": "code",
   "execution_count": 22,
   "metadata": {},
   "outputs": [
    {
     "name": "stdout",
     "output_type": "stream",
     "text": [
      "Best alpha: 10.0\n",
      "CV R^2 (mean ± std): 0.3831 ± 0.0401\n"
     ]
    }
   ],
   "source": [
    "# Identify the best alpha and its score and SD\n",
    "best_idx = search.best_index_\n",
    "\n",
    "best_alpha = search.best_params_[\"ridge__alpha\"]\n",
    "best_mean_test_score = search.cv_results_[\"mean_test_score\"][best_idx]\n",
    "best_std_test_score = search.cv_results_[\"std_test_score\"][best_idx]\n",
    "\n",
    "print(f\"Best alpha: {best_alpha}\")\n",
    "print(f\"CV R^2 (mean ± std): {best_mean_test_score:.4f} ± {best_std_test_score:.4f}\")"
   ]
  },
  {
   "cell_type": "markdown",
   "metadata": {},
   "source": [
    "It appears that `alpha` = 10.0 is the best value, achieving the highest CV $R^2$ of 38.31%, with a standard deviation of 0.04. While this is much better than the `DummyRegressor` baseline, it is still a very low score and we would want to improve it."
   ]
  },
  {
   "cell_type": "markdown",
   "metadata": {
    "deletable": false,
    "editable": false
   },
   "source": [
    "<!-- END QUESTION -->\n",
    "\n",
    "<br><br>"
   ]
  },
  {
   "cell_type": "markdown",
   "metadata": {
    "deletable": false,
    "editable": false
   },
   "source": [
    "<!-- BEGIN QUESTION -->\n",
    "\n",
    "## 8. Different models <a name=\"8\"></a>\n",
    "<hr>\n",
    "rubric={points:12}\n",
    "\n",
    "**Your tasks:**\n",
    "1. Try at least 3 other models aside from a linear model. One of these models should be a tree-based ensemble model. \n",
    "2. Summarize your results in terms of overfitting/underfitting and fit and score times. Can you beat a linear model? "
   ]
  },
  {
   "cell_type": "markdown",
   "metadata": {
    "deletable": false,
    "editable": false
   },
   "source": [
    "<div class=\"alert alert-warning\">\n",
    "    \n",
    "Solution_8\n",
    "    \n",
    "</div>\n",
    "\n",
    "_Points:_ 12"
   ]
  },
  {
   "cell_type": "markdown",
   "metadata": {},
   "source": [
    "We will now try fitting various other models to determine if we can beat the Ridge model found above. <br>\n",
    "\n",
    "First, let's create a dictionary to store our results for the different models."
   ]
  },
  {
   "cell_type": "code",
   "execution_count": 23,
   "metadata": {},
   "outputs": [],
   "source": [
    "results_dict = {}"
   ]
  },
  {
   "cell_type": "markdown",
   "metadata": {},
   "source": [
    "Now we can write a function to return the mean and std of cross validation for each model"
   ]
  },
  {
   "cell_type": "code",
   "execution_count": 24,
   "metadata": {},
   "outputs": [],
   "source": [
    "\n",
    "# Citation: CPSC 330 Lecture 5\n",
    "def mean_std_cross_val_scores(model, X_train, y_train, **kwargs):\n",
    "    \n",
    "    \"\"\"\n",
    "    Returns mean and std of cross validation\n",
    "\n",
    "    Parameters\n",
    "    ----------\n",
    "    model, X_train,  y_train\n",
    "\n",
    "    Returns\n",
    "    ----------\n",
    "    pandas Series with mean scores from cross_validation\n",
    "    \"\"\"\n",
    "\n",
    "    scores = cross_validate(model, X_train, y_train, **kwargs)\n",
    "\n",
    "    mean_scores = pd.DataFrame(scores).mean()\n",
    "    std_scores = pd.DataFrame(scores).std()\n",
    "    out_col = []\n",
    "\n",
    "    for i in range(len(mean_scores)):\n",
    "        out_col.append((f\"%0.3f (+/- %0.3f)\" % (mean_scores[i], std_scores[i])))\n",
    "\n",
    "    return pd.Series(data=out_col, index=mean_scores.index)"
   ]
  },
  {
   "cell_type": "markdown",
   "metadata": {},
   "source": [
    "Before we start with the new models, let's add the existing dummy and Ridge models to this dictionary."
   ]
  },
  {
   "cell_type": "code",
   "execution_count": 25,
   "metadata": {},
   "outputs": [
    {
     "name": "stderr",
     "output_type": "stream",
     "text": [
      "/var/folders/h7/_wcrqxc55wgb4lvpvdb4gdhr0000gn/T/ipykernel_3415/2765916500.py:23: FutureWarning: Series.__getitem__ treating keys as positions is deprecated. In a future version, integer keys will always be treated as labels (consistent with DataFrame behavior). To access a value by position, use `ser.iloc[pos]`\n",
      "  out_col.append((f\"%0.3f (+/- %0.3f)\" % (mean_scores[i], std_scores[i])))\n",
      "/var/folders/h7/_wcrqxc55wgb4lvpvdb4gdhr0000gn/T/ipykernel_3415/2765916500.py:23: FutureWarning: Series.__getitem__ treating keys as positions is deprecated. In a future version, integer keys will always be treated as labels (consistent with DataFrame behavior). To access a value by position, use `ser.iloc[pos]`\n",
      "  out_col.append((f\"%0.3f (+/- %0.3f)\" % (mean_scores[i], std_scores[i])))\n"
     ]
    }
   ],
   "source": [
    "# For dummy\n",
    "results_dict[\"dummy\"] = mean_std_cross_val_scores(\n",
    "    dummy_pipe, X_train, y_train, return_train_score=True\n",
    ")\n",
    "\n",
    "# For Ridge\n",
    "results_dict[\"Ridge\"] = mean_std_cross_val_scores(\n",
    "    lr_pipe, X_train, y_train, return_train_score=True\n",
    ")"
   ]
  },
  {
   "cell_type": "code",
   "execution_count": 26,
   "metadata": {},
   "outputs": [
    {
     "data": {
      "text/html": [
       "<div>\n",
       "<style scoped>\n",
       "    .dataframe tbody tr th:only-of-type {\n",
       "        vertical-align: middle;\n",
       "    }\n",
       "\n",
       "    .dataframe tbody tr th {\n",
       "        vertical-align: top;\n",
       "    }\n",
       "\n",
       "    .dataframe thead th {\n",
       "        text-align: right;\n",
       "    }\n",
       "</style>\n",
       "<table border=\"1\" class=\"dataframe\">\n",
       "  <thead>\n",
       "    <tr style=\"text-align: right;\">\n",
       "      <th></th>\n",
       "      <th>fit_time</th>\n",
       "      <th>score_time</th>\n",
       "      <th>test_score</th>\n",
       "      <th>train_score</th>\n",
       "    </tr>\n",
       "  </thead>\n",
       "  <tbody>\n",
       "    <tr>\n",
       "      <th>dummy</th>\n",
       "      <td>0.012 (+/- 0.010)</td>\n",
       "      <td>0.004 (+/- 0.001)</td>\n",
       "      <td>-0.001 (+/- 0.001)</td>\n",
       "      <td>0.000 (+/- 0.000)</td>\n",
       "    </tr>\n",
       "    <tr>\n",
       "      <th>Ridge</th>\n",
       "      <td>0.011 (+/- 0.000)</td>\n",
       "      <td>0.003 (+/- 0.000)</td>\n",
       "      <td>0.373 (+/- 0.046)</td>\n",
       "      <td>0.439 (+/- 0.012)</td>\n",
       "    </tr>\n",
       "  </tbody>\n",
       "</table>\n",
       "</div>"
      ],
      "text/plain": [
       "                fit_time         score_time          test_score  \\\n",
       "dummy  0.012 (+/- 0.010)  0.004 (+/- 0.001)  -0.001 (+/- 0.001)   \n",
       "Ridge  0.011 (+/- 0.000)  0.003 (+/- 0.000)   0.373 (+/- 0.046)   \n",
       "\n",
       "             train_score  \n",
       "dummy  0.000 (+/- 0.000)  \n",
       "Ridge  0.439 (+/- 0.012)  "
      ]
     },
     "execution_count": 26,
     "metadata": {},
     "output_type": "execute_result"
    }
   ],
   "source": [
    "pd.DataFrame(results_dict).T"
   ]
  },
  {
   "cell_type": "markdown",
   "metadata": {},
   "source": [
    "Now we can continue adding our new models!"
   ]
  },
  {
   "cell_type": "markdown",
   "metadata": {},
   "source": [
    "#### Model 1: KNeighborsRegressor"
   ]
  },
  {
   "cell_type": "code",
   "execution_count": 27,
   "metadata": {},
   "outputs": [
    {
     "name": "stderr",
     "output_type": "stream",
     "text": [
      "/var/folders/h7/_wcrqxc55wgb4lvpvdb4gdhr0000gn/T/ipykernel_3415/2765916500.py:23: FutureWarning: Series.__getitem__ treating keys as positions is deprecated. In a future version, integer keys will always be treated as labels (consistent with DataFrame behavior). To access a value by position, use `ser.iloc[pos]`\n",
      "  out_col.append((f\"%0.3f (+/- %0.3f)\" % (mean_scores[i], std_scores[i])))\n"
     ]
    },
    {
     "data": {
      "text/html": [
       "<div>\n",
       "<style scoped>\n",
       "    .dataframe tbody tr th:only-of-type {\n",
       "        vertical-align: middle;\n",
       "    }\n",
       "\n",
       "    .dataframe tbody tr th {\n",
       "        vertical-align: top;\n",
       "    }\n",
       "\n",
       "    .dataframe thead th {\n",
       "        text-align: right;\n",
       "    }\n",
       "</style>\n",
       "<table border=\"1\" class=\"dataframe\">\n",
       "  <thead>\n",
       "    <tr style=\"text-align: right;\">\n",
       "      <th></th>\n",
       "      <th>fit_time</th>\n",
       "      <th>score_time</th>\n",
       "      <th>test_score</th>\n",
       "      <th>train_score</th>\n",
       "    </tr>\n",
       "  </thead>\n",
       "  <tbody>\n",
       "    <tr>\n",
       "      <th>dummy</th>\n",
       "      <td>0.012 (+/- 0.010)</td>\n",
       "      <td>0.004 (+/- 0.001)</td>\n",
       "      <td>-0.001 (+/- 0.001)</td>\n",
       "      <td>0.000 (+/- 0.000)</td>\n",
       "    </tr>\n",
       "    <tr>\n",
       "      <th>Ridge</th>\n",
       "      <td>0.011 (+/- 0.000)</td>\n",
       "      <td>0.003 (+/- 0.000)</td>\n",
       "      <td>0.373 (+/- 0.046)</td>\n",
       "      <td>0.439 (+/- 0.012)</td>\n",
       "    </tr>\n",
       "    <tr>\n",
       "      <th>KNeighborsRegressor</th>\n",
       "      <td>0.010 (+/- 0.007)</td>\n",
       "      <td>0.096 (+/- 0.010)</td>\n",
       "      <td>0.331 (+/- 0.061)</td>\n",
       "      <td>0.562 (+/- 0.011)</td>\n",
       "    </tr>\n",
       "  </tbody>\n",
       "</table>\n",
       "</div>"
      ],
      "text/plain": [
       "                              fit_time         score_time          test_score  \\\n",
       "dummy                0.012 (+/- 0.010)  0.004 (+/- 0.001)  -0.001 (+/- 0.001)   \n",
       "Ridge                0.011 (+/- 0.000)  0.003 (+/- 0.000)   0.373 (+/- 0.046)   \n",
       "KNeighborsRegressor  0.010 (+/- 0.007)  0.096 (+/- 0.010)   0.331 (+/- 0.061)   \n",
       "\n",
       "                           train_score  \n",
       "dummy                0.000 (+/- 0.000)  \n",
       "Ridge                0.439 (+/- 0.012)  \n",
       "KNeighborsRegressor  0.562 (+/- 0.011)  "
      ]
     },
     "execution_count": 27,
     "metadata": {},
     "output_type": "execute_result"
    }
   ],
   "source": [
    "from sklearn.neighbors import KNeighborsRegressor\n",
    "\n",
    "pipe = make_pipeline(preprocessor, KNeighborsRegressor())\n",
    "\n",
    "results_dict[\"KNeighborsRegressor\"] = mean_std_cross_val_scores(\n",
    "    pipe, X_train, y_train, return_train_score=True\n",
    ")\n",
    "pd.DataFrame(results_dict).T"
   ]
  },
  {
   "cell_type": "markdown",
   "metadata": {},
   "source": [
    "We can see that `KNeighborsRegressor` is giving a much higher validation score than the other two, which is a great start. However, it is still overfitting since there is a large variance between `train_score` and `test_score`."
   ]
  },
  {
   "cell_type": "markdown",
   "metadata": {},
   "source": [
    "#### Model 2: Random Forest"
   ]
  },
  {
   "cell_type": "code",
   "execution_count": 29,
   "metadata": {},
   "outputs": [
    {
     "name": "stderr",
     "output_type": "stream",
     "text": [
      "/var/folders/h7/_wcrqxc55wgb4lvpvdb4gdhr0000gn/T/ipykernel_3415/2765916500.py:23: FutureWarning: Series.__getitem__ treating keys as positions is deprecated. In a future version, integer keys will always be treated as labels (consistent with DataFrame behavior). To access a value by position, use `ser.iloc[pos]`\n",
      "  out_col.append((f\"%0.3f (+/- %0.3f)\" % (mean_scores[i], std_scores[i])))\n"
     ]
    },
    {
     "data": {
      "text/html": [
       "<div>\n",
       "<style scoped>\n",
       "    .dataframe tbody tr th:only-of-type {\n",
       "        vertical-align: middle;\n",
       "    }\n",
       "\n",
       "    .dataframe tbody tr th {\n",
       "        vertical-align: top;\n",
       "    }\n",
       "\n",
       "    .dataframe thead th {\n",
       "        text-align: right;\n",
       "    }\n",
       "</style>\n",
       "<table border=\"1\" class=\"dataframe\">\n",
       "  <thead>\n",
       "    <tr style=\"text-align: right;\">\n",
       "      <th></th>\n",
       "      <th>fit_time</th>\n",
       "      <th>score_time</th>\n",
       "      <th>test_score</th>\n",
       "      <th>train_score</th>\n",
       "    </tr>\n",
       "  </thead>\n",
       "  <tbody>\n",
       "    <tr>\n",
       "      <th>dummy</th>\n",
       "      <td>0.012 (+/- 0.010)</td>\n",
       "      <td>0.004 (+/- 0.001)</td>\n",
       "      <td>-0.001 (+/- 0.001)</td>\n",
       "      <td>0.000 (+/- 0.000)</td>\n",
       "    </tr>\n",
       "    <tr>\n",
       "      <th>Ridge</th>\n",
       "      <td>0.011 (+/- 0.000)</td>\n",
       "      <td>0.003 (+/- 0.000)</td>\n",
       "      <td>0.373 (+/- 0.046)</td>\n",
       "      <td>0.439 (+/- 0.012)</td>\n",
       "    </tr>\n",
       "    <tr>\n",
       "      <th>KNeighborsRegressor</th>\n",
       "      <td>0.010 (+/- 0.007)</td>\n",
       "      <td>0.096 (+/- 0.010)</td>\n",
       "      <td>0.331 (+/- 0.061)</td>\n",
       "      <td>0.562 (+/- 0.011)</td>\n",
       "    </tr>\n",
       "    <tr>\n",
       "      <th>RandomForestRegressor</th>\n",
       "      <td>3.989 (+/- 0.043)</td>\n",
       "      <td>0.019 (+/- 0.002)</td>\n",
       "      <td>0.495 (+/- 0.049)</td>\n",
       "      <td>0.929 (+/- 0.003)</td>\n",
       "    </tr>\n",
       "  </tbody>\n",
       "</table>\n",
       "</div>"
      ],
      "text/plain": [
       "                                fit_time         score_time  \\\n",
       "dummy                  0.012 (+/- 0.010)  0.004 (+/- 0.001)   \n",
       "Ridge                  0.011 (+/- 0.000)  0.003 (+/- 0.000)   \n",
       "KNeighborsRegressor    0.010 (+/- 0.007)  0.096 (+/- 0.010)   \n",
       "RandomForestRegressor  3.989 (+/- 0.043)  0.019 (+/- 0.002)   \n",
       "\n",
       "                               test_score        train_score  \n",
       "dummy                  -0.001 (+/- 0.001)  0.000 (+/- 0.000)  \n",
       "Ridge                   0.373 (+/- 0.046)  0.439 (+/- 0.012)  \n",
       "KNeighborsRegressor     0.331 (+/- 0.061)  0.562 (+/- 0.011)  \n",
       "RandomForestRegressor   0.495 (+/- 0.049)  0.929 (+/- 0.003)  "
      ]
     },
     "execution_count": 29,
     "metadata": {},
     "output_type": "execute_result"
    }
   ],
   "source": [
    "from sklearn.ensemble import RandomForestRegressor\n",
    "\n",
    "pipe_rf = make_pipeline(preprocessor, RandomForestRegressor(random_state=123))\n",
    "\n",
    "results_dict[\"RandomForestRegressor\"] = mean_std_cross_val_scores(\n",
    "    pipe_rf, X_train, y_train, return_train_score=True\n",
    ")\n",
    "pd.DataFrame(results_dict).T"
   ]
  },
  {
   "cell_type": "markdown",
   "metadata": {},
   "source": [
    "Using the `RandomForestRegressor` has given us a much higher `train_score` of 92.9% but is still significantly overfitting since the `test_score` (validation score) is only 49.5%."
   ]
  },
  {
   "cell_type": "markdown",
   "metadata": {},
   "source": [
    "#### Model 3: Gradient Boosted Trees"
   ]
  },
  {
   "cell_type": "code",
   "execution_count": 30,
   "metadata": {},
   "outputs": [
    {
     "name": "stderr",
     "output_type": "stream",
     "text": [
      "/var/folders/h7/_wcrqxc55wgb4lvpvdb4gdhr0000gn/T/ipykernel_3415/2765916500.py:23: FutureWarning: Series.__getitem__ treating keys as positions is deprecated. In a future version, integer keys will always be treated as labels (consistent with DataFrame behavior). To access a value by position, use `ser.iloc[pos]`\n",
      "  out_col.append((f\"%0.3f (+/- %0.3f)\" % (mean_scores[i], std_scores[i])))\n"
     ]
    },
    {
     "data": {
      "text/html": [
       "<div>\n",
       "<style scoped>\n",
       "    .dataframe tbody tr th:only-of-type {\n",
       "        vertical-align: middle;\n",
       "    }\n",
       "\n",
       "    .dataframe tbody tr th {\n",
       "        vertical-align: top;\n",
       "    }\n",
       "\n",
       "    .dataframe thead th {\n",
       "        text-align: right;\n",
       "    }\n",
       "</style>\n",
       "<table border=\"1\" class=\"dataframe\">\n",
       "  <thead>\n",
       "    <tr style=\"text-align: right;\">\n",
       "      <th></th>\n",
       "      <th>fit_time</th>\n",
       "      <th>score_time</th>\n",
       "      <th>test_score</th>\n",
       "      <th>train_score</th>\n",
       "    </tr>\n",
       "  </thead>\n",
       "  <tbody>\n",
       "    <tr>\n",
       "      <th>dummy</th>\n",
       "      <td>0.012 (+/- 0.010)</td>\n",
       "      <td>0.004 (+/- 0.001)</td>\n",
       "      <td>-0.001 (+/- 0.001)</td>\n",
       "      <td>0.000 (+/- 0.000)</td>\n",
       "    </tr>\n",
       "    <tr>\n",
       "      <th>Ridge</th>\n",
       "      <td>0.011 (+/- 0.000)</td>\n",
       "      <td>0.003 (+/- 0.000)</td>\n",
       "      <td>0.373 (+/- 0.046)</td>\n",
       "      <td>0.439 (+/- 0.012)</td>\n",
       "    </tr>\n",
       "    <tr>\n",
       "      <th>KNeighborsRegressor</th>\n",
       "      <td>0.010 (+/- 0.007)</td>\n",
       "      <td>0.096 (+/- 0.010)</td>\n",
       "      <td>0.331 (+/- 0.061)</td>\n",
       "      <td>0.562 (+/- 0.011)</td>\n",
       "    </tr>\n",
       "    <tr>\n",
       "      <th>RandomForestRegressor</th>\n",
       "      <td>3.989 (+/- 0.043)</td>\n",
       "      <td>0.019 (+/- 0.002)</td>\n",
       "      <td>0.495 (+/- 0.049)</td>\n",
       "      <td>0.929 (+/- 0.003)</td>\n",
       "    </tr>\n",
       "    <tr>\n",
       "      <th>GradientBoostingRegressor</th>\n",
       "      <td>0.544 (+/- 0.054)</td>\n",
       "      <td>0.005 (+/- 0.001)</td>\n",
       "      <td>0.514 (+/- 0.038)</td>\n",
       "      <td>0.622 (+/- 0.009)</td>\n",
       "    </tr>\n",
       "  </tbody>\n",
       "</table>\n",
       "</div>"
      ],
      "text/plain": [
       "                                    fit_time         score_time  \\\n",
       "dummy                      0.012 (+/- 0.010)  0.004 (+/- 0.001)   \n",
       "Ridge                      0.011 (+/- 0.000)  0.003 (+/- 0.000)   \n",
       "KNeighborsRegressor        0.010 (+/- 0.007)  0.096 (+/- 0.010)   \n",
       "RandomForestRegressor      3.989 (+/- 0.043)  0.019 (+/- 0.002)   \n",
       "GradientBoostingRegressor  0.544 (+/- 0.054)  0.005 (+/- 0.001)   \n",
       "\n",
       "                                   test_score        train_score  \n",
       "dummy                      -0.001 (+/- 0.001)  0.000 (+/- 0.000)  \n",
       "Ridge                       0.373 (+/- 0.046)  0.439 (+/- 0.012)  \n",
       "KNeighborsRegressor         0.331 (+/- 0.061)  0.562 (+/- 0.011)  \n",
       "RandomForestRegressor       0.495 (+/- 0.049)  0.929 (+/- 0.003)  \n",
       "GradientBoostingRegressor   0.514 (+/- 0.038)  0.622 (+/- 0.009)  "
      ]
     },
     "execution_count": 30,
     "metadata": {},
     "output_type": "execute_result"
    }
   ],
   "source": [
    "from sklearn.ensemble import GradientBoostingRegressor\n",
    "\n",
    "pipe_gbr = make_pipeline(preprocessor, GradientBoostingRegressor(random_state=123))\n",
    "\n",
    "results_dict[\"GradientBoostingRegressor\"] = mean_std_cross_val_scores(\n",
    "    pipe_gbr, X_train, y_train, return_train_score=True\n",
    ")\n",
    "pd.DataFrame(results_dict).T"
   ]
  },
  {
   "cell_type": "markdown",
   "metadata": {},
   "source": [
    "Since the `GradientBoostingRegressor` has reduced the problem of overfitting but now has much lower `train_score` and `test_score`, we can try using another gradient boosting model like `XGBRegressor`."
   ]
  },
  {
   "cell_type": "code",
   "execution_count": 31,
   "metadata": {},
   "outputs": [
    {
     "name": "stderr",
     "output_type": "stream",
     "text": [
      "/var/folders/h7/_wcrqxc55wgb4lvpvdb4gdhr0000gn/T/ipykernel_3415/2765916500.py:23: FutureWarning: Series.__getitem__ treating keys as positions is deprecated. In a future version, integer keys will always be treated as labels (consistent with DataFrame behavior). To access a value by position, use `ser.iloc[pos]`\n",
      "  out_col.append((f\"%0.3f (+/- %0.3f)\" % (mean_scores[i], std_scores[i])))\n"
     ]
    },
    {
     "data": {
      "text/html": [
       "<div>\n",
       "<style scoped>\n",
       "    .dataframe tbody tr th:only-of-type {\n",
       "        vertical-align: middle;\n",
       "    }\n",
       "\n",
       "    .dataframe tbody tr th {\n",
       "        vertical-align: top;\n",
       "    }\n",
       "\n",
       "    .dataframe thead th {\n",
       "        text-align: right;\n",
       "    }\n",
       "</style>\n",
       "<table border=\"1\" class=\"dataframe\">\n",
       "  <thead>\n",
       "    <tr style=\"text-align: right;\">\n",
       "      <th></th>\n",
       "      <th>fit_time</th>\n",
       "      <th>score_time</th>\n",
       "      <th>test_score</th>\n",
       "      <th>train_score</th>\n",
       "    </tr>\n",
       "  </thead>\n",
       "  <tbody>\n",
       "    <tr>\n",
       "      <th>dummy</th>\n",
       "      <td>0.012 (+/- 0.010)</td>\n",
       "      <td>0.004 (+/- 0.001)</td>\n",
       "      <td>-0.001 (+/- 0.001)</td>\n",
       "      <td>0.000 (+/- 0.000)</td>\n",
       "    </tr>\n",
       "    <tr>\n",
       "      <th>Ridge</th>\n",
       "      <td>0.011 (+/- 0.000)</td>\n",
       "      <td>0.003 (+/- 0.000)</td>\n",
       "      <td>0.373 (+/- 0.046)</td>\n",
       "      <td>0.439 (+/- 0.012)</td>\n",
       "    </tr>\n",
       "    <tr>\n",
       "      <th>KNeighborsRegressor</th>\n",
       "      <td>0.010 (+/- 0.007)</td>\n",
       "      <td>0.096 (+/- 0.010)</td>\n",
       "      <td>0.331 (+/- 0.061)</td>\n",
       "      <td>0.562 (+/- 0.011)</td>\n",
       "    </tr>\n",
       "    <tr>\n",
       "      <th>RandomForestRegressor</th>\n",
       "      <td>3.989 (+/- 0.043)</td>\n",
       "      <td>0.019 (+/- 0.002)</td>\n",
       "      <td>0.495 (+/- 0.049)</td>\n",
       "      <td>0.929 (+/- 0.003)</td>\n",
       "    </tr>\n",
       "    <tr>\n",
       "      <th>GradientBoostingRegressor</th>\n",
       "      <td>0.544 (+/- 0.054)</td>\n",
       "      <td>0.005 (+/- 0.001)</td>\n",
       "      <td>0.514 (+/- 0.038)</td>\n",
       "      <td>0.622 (+/- 0.009)</td>\n",
       "    </tr>\n",
       "    <tr>\n",
       "      <th>XGBRegressor</th>\n",
       "      <td>0.155 (+/- 0.009)</td>\n",
       "      <td>0.005 (+/- 0.001)</td>\n",
       "      <td>0.468 (+/- 0.065)</td>\n",
       "      <td>0.902 (+/- 0.009)</td>\n",
       "    </tr>\n",
       "  </tbody>\n",
       "</table>\n",
       "</div>"
      ],
      "text/plain": [
       "                                    fit_time         score_time  \\\n",
       "dummy                      0.012 (+/- 0.010)  0.004 (+/- 0.001)   \n",
       "Ridge                      0.011 (+/- 0.000)  0.003 (+/- 0.000)   \n",
       "KNeighborsRegressor        0.010 (+/- 0.007)  0.096 (+/- 0.010)   \n",
       "RandomForestRegressor      3.989 (+/- 0.043)  0.019 (+/- 0.002)   \n",
       "GradientBoostingRegressor  0.544 (+/- 0.054)  0.005 (+/- 0.001)   \n",
       "XGBRegressor               0.155 (+/- 0.009)  0.005 (+/- 0.001)   \n",
       "\n",
       "                                   test_score        train_score  \n",
       "dummy                      -0.001 (+/- 0.001)  0.000 (+/- 0.000)  \n",
       "Ridge                       0.373 (+/- 0.046)  0.439 (+/- 0.012)  \n",
       "KNeighborsRegressor         0.331 (+/- 0.061)  0.562 (+/- 0.011)  \n",
       "RandomForestRegressor       0.495 (+/- 0.049)  0.929 (+/- 0.003)  \n",
       "GradientBoostingRegressor   0.514 (+/- 0.038)  0.622 (+/- 0.009)  \n",
       "XGBRegressor                0.468 (+/- 0.065)  0.902 (+/- 0.009)  "
      ]
     },
     "execution_count": 31,
     "metadata": {},
     "output_type": "execute_result"
    }
   ],
   "source": [
    "from xgboost import XGBRegressor\n",
    "\n",
    "xgb_pipe = make_pipeline(preprocessor, XGBRegressor(random_state=123, objective='reg:squarederror'))\n",
    "\n",
    "results_dict[\"XGBRegressor\"] = mean_std_cross_val_scores(\n",
    "    xgb_pipe, X_train, y_train, return_train_score=True\n",
    ")\n",
    "pd.DataFrame(results_dict).T"
   ]
  },
  {
   "cell_type": "markdown",
   "metadata": {},
   "source": [
    "#### Summary Of Results"
   ]
  },
  {
   "cell_type": "markdown",
   "metadata": {},
   "source": [
    "We evaluated six models on our dataset: `Dummy`, `Ridge`, `KNeighborsRegressor`, `RandomForestRegressor`, `GradientBoostingRegressor`, and `XGBRegressor`. The `Dummy` model serves as a baseline, always predicting the mean and scoring near 0 for both training and test $R^2$. `Ridge`, our linear model, achieves a balanced performance with a training $R^2$ of about 43.9% and a test $R^2$ of 37.3%, indicating minimal overfitting. `KNeighborsRegressor` shows moderate overfitting, with its training $R^2$ (56.2%) notably higher than its test $R^2$ (33.1%), and it also has a longer score time (0.096 s) because of the distance computations at prediction.\n",
    "\n",
    "Among the tree-based methods, `RandomForestRegressor` and `XGBRegressor` achieve the highest train $R^2$ scores (49.5% and 46.8%, respectively), outperforming `Ridge` and `KNeighborsRegressor` on unseen data. However, they both display more overfitting, evidenced by higher training $R^2$ scores (92.9% for `RandomForest` and 90.2% for `XGB`). `GradientBoostingRegressor` also overfits (62.2% training vs. 51.4% test), though it remains faster to train than RandomForest (0.005s vs. 0.019s). Overall, the tree-based models do beat the linear approach in predictive accuracy on the test set, but at the cost of longer training times and larger gaps between training and test performance.\n"
   ]
  },
  {
   "cell_type": "markdown",
   "metadata": {
    "deletable": false,
    "editable": false
   },
   "source": [
    "<!-- END QUESTION -->\n",
    "\n",
    "<br><br>"
   ]
  },
  {
   "cell_type": "markdown",
   "metadata": {
    "deletable": false,
    "editable": false
   },
   "source": [
    "<!-- BEGIN QUESTION -->\n",
    "\n",
    "## 9. Feature selection <a name=\"9\"></a>\n",
    "<hr>\n",
    "rubric={points:2}\n",
    "\n",
    "**Your tasks:**\n",
    "\n",
    "Make some attempts to select relevant features. You may try `RFECV` or forward selection for this. Do the results improve with feature selection? Summarize your results. If you see improvements in the results, keep feature selection in your pipeline. If not, you may abandon it in the next exercises. "
   ]
  },
  {
   "cell_type": "markdown",
   "metadata": {
    "deletable": false,
    "editable": false
   },
   "source": [
    "<div class=\"alert alert-warning\">\n",
    "    \n",
    "Solution_9\n",
    "    \n",
    "</div>\n",
    "\n",
    "_Points:_ 2"
   ]
  },
  {
   "cell_type": "code",
   "execution_count": 32,
   "metadata": {},
   "outputs": [
    {
     "name": "stdout",
     "output_type": "stream",
     "text": [
      "RFECV (Ridge) mean CV R^2: 0.363 ± 0.042\n",
      "Number of features selected: 14\n",
      "Feature ranking (1 = selected): [159 149 122   1 130 173 152 178 179 143 141 142  71  20  65 107  99 139\n",
      "  70 186  91  17  79 146  50  22 104  76  16  23  18  12  61  77  52 119\n",
      "  28   9  80  69 174  13  51 105 120 147 137  36 169  68 163  67 148   5\n",
      "  90   1 166  55  93  27 168  11  92 102   1  35   3 151   1 101 109  62\n",
      " 112  75   6  46  89  19   1  31  38 117  73 128 180  37  34  32 135 165\n",
      " 106 114  94 132 100  48  82  72 153  25 184  57  30 129  88 183 144 167\n",
      " 145 133  84 170  78   1 164  26 103   8 182 172  87   1  42  53  39  83\n",
      " 118 156  45 110  56 150  14 138 131 134  81  44 155  63 160  41  60  74\n",
      " 121 123 115 175 116  64   2  54 161  97  29  86  24 171  47 124  15 108\n",
      " 187 140  66  98   1   7  10   1 127 154 181 176   1  40  43 162  95   1\n",
      " 126  33 185 136  49  59   1 157  21 111   1   4  96  58 177 125 158  85\n",
      " 113   1]\n",
      "Selected features (True = kept): [False False False  True False False False False False False False False\n",
      " False False False False False False False False False False False False\n",
      " False False False False False False False False False False False False\n",
      " False False False False False False False False False False False False\n",
      " False False False False False False False  True False False False False\n",
      " False False False False  True False False False  True False False False\n",
      " False False False False False False  True False False False False False\n",
      " False False False False False False False False False False False False\n",
      " False False False False False False False False False False False False\n",
      " False False False False False  True False False False False False False\n",
      " False  True False False False False False False False False False False\n",
      " False False False False False False False False False False False False\n",
      " False False False False False False False False False False False False\n",
      " False False False False False False False False False False  True False\n",
      " False  True False False False False  True False False False False  True\n",
      " False False False False False False  True False False False  True False\n",
      " False False False False False False False  True]\n"
     ]
    }
   ],
   "source": [
    "from sklearn.feature_selection import RFECV\n",
    "\n",
    "# Create a pipeline with:\n",
    "#    - Preprocessing\n",
    "#    - RFECV (which wraps Ridge in a recursive feature selection)\n",
    "\n",
    "# RFECV will:\n",
    "#   - Fit multiple times with different subsets of features\n",
    "#   - Use an internal CV=5 by default (or you can change it)\n",
    "#   - Score by R^2 (scoring=\"r2\") unless you choose otherwise\n",
    "#   - step=1 means eliminate one feature per iteration\n",
    "rfecv_cv = RFECV(Ridge(random_state=123, max_iter=2000), cv=10)\n",
    "\n",
    "# Pipeline\n",
    "pipe_rfe = Pipeline([\n",
    "    (\"preprocessor\", preprocessor),\n",
    "    (\"rfecv\", rfecv_cv)\n",
    "])\n",
    "\n",
    "# Evaluate with an outer CV\n",
    "scores = cross_val_score(pipe_rfe, X_train, y_train, cv=5, scoring=\"r2\", n_jobs=-1)\n",
    "print(f\"RFECV (Ridge) mean CV R^2: {scores.mean():.3f} ± {scores.std():.3f}\")\n",
    "\n",
    "# Fit once on the entire training set to inspect selected features\n",
    "pipe_rfe.fit(X_train, y_train)\n",
    "\n",
    "# Access the underlying RFECV object\n",
    "rfecv_fitted = pipe_rfe.named_steps[\"rfecv\"]\n",
    "\n",
    "print(\"Number of features selected:\", rfecv_fitted.n_features_)\n",
    "print(\"Feature ranking (1 = selected):\", rfecv_fitted.ranking_)\n",
    "\n",
    "# Selected features\n",
    "print(\"Selected features (True = kept):\", rfecv_fitted.support_)"
   ]
  },
  {
   "cell_type": "markdown",
   "metadata": {},
   "source": [
    "Now, let's compare whether the feature selection improves our model results. We will use Ridge in the feature selection pipeline mainly for demonstration and computational efficiency. Ridge is a linear model that has stable, well-behaved coefficients, which makes it easier for RFECV to rank and eliminate features."
   ]
  },
  {
   "cell_type": "code",
   "execution_count": 34,
   "metadata": {},
   "outputs": [
    {
     "name": "stdout",
     "output_type": "stream",
     "text": [
      "With Feature Selection: 0.363 ± 0.042\n",
      "Without Feature Selection: 0.373 ± 0.041\n"
     ]
    }
   ],
   "source": [
    "# Pipeline without feature selection: Preprocessor -> Ridge\n",
    "pipeline_no_fs = Pipeline([\n",
    "    ('preprocessor', preprocessor),\n",
    "    ('ridge', Ridge(random_state=123))\n",
    "])\n",
    "\n",
    "# Evaluate both pipelines using 5-fold cross-validation with R² as the scoring metric\n",
    "scores_fs = cross_val_score(pipe_rfe, X_train, y_train, cv=5, scoring='r2', n_jobs=-1)\n",
    "scores_no_fs = cross_val_score(pipeline_no_fs, X_train, y_train, cv=5, scoring='r2', n_jobs=-1)\n",
    "\n",
    "print(\"With Feature Selection: {:.3f} ± {:.3f}\".format(np.mean(scores_fs), np.std(scores_fs)))\n",
    "print(\"Without Feature Selection: {:.3f} ± {:.3f}\".format(np.mean(scores_no_fs), np.std(scores_no_fs)))"
   ]
  },
  {
   "cell_type": "markdown",
   "metadata": {},
   "source": [
    "**Summary of RFECV with Ridge**\n",
    "\n",
    "After applying RFECV (with a Ridge estimator), the model selected **14** features out of the full transformed set. These include the original numeric features, as well as a large number of one-hot‐encoded **neighbourhood** columns and the passthrough columns. The mean cross-validation $R^2$ was **0.363 ± 0.042**, which is actually less than the baseline Ridge model on all features (**0.373 ± 0.041**)\n",
    "\n",
    "Since RFECV did not provide a meaningful improvement in this case, we will not be including the feature selection in our pipeline."
   ]
  },
  {
   "cell_type": "markdown",
   "metadata": {
    "deletable": false,
    "editable": false
   },
   "source": [
    "<!-- END QUESTION -->\n",
    "\n",
    "<br><br>"
   ]
  },
  {
   "cell_type": "markdown",
   "metadata": {
    "deletable": false,
    "editable": false
   },
   "source": [
    "<!-- BEGIN QUESTION -->\n",
    "\n",
    "## 10. Hyperparameter optimization <a name=\"10\"></a>\n",
    "<hr>\n",
    "rubric={points:10}\n",
    "\n",
    "**Your tasks:**\n",
    "\n",
    "Make some attempts to optimize hyperparameters for the models you've tried and summarize your results. In at least one case you should be optimizing multiple hyperparameters for a single model. You may use `sklearn`'s methods for hyperparameter optimization or fancier Bayesian optimization methods. \n",
    "  - [GridSearchCV](http://scikit-learn.org/stable/modules/generated/sklearn.model_selection.GridSearchCV.html)   \n",
    "  - [RandomizedSearchCV](http://scikit-learn.org/stable/modules/generated/sklearn.model_selection.RandomizedSearchCV.html)\n",
    "  - [scikit-optimize](https://github.com/scikit-optimize/scikit-optimize) "
   ]
  },
  {
   "cell_type": "markdown",
   "metadata": {
    "deletable": false,
    "editable": false
   },
   "source": [
    "<div class=\"alert alert-warning\">\n",
    "    \n",
    "Solution_10\n",
    "    \n",
    "</div>\n",
    "\n",
    "_Points:_ 10"
   ]
  },
  {
   "cell_type": "code",
   "execution_count": 64,
   "metadata": {
    "tags": []
   },
   "outputs": [],
   "source": [
    "def optimize_model(pipeline, param_grid, search_type='grid', n_iter=20, cv=5, scoring='r2', random_state=123):\n",
    "    \"\"\"\n",
    "    Optimize a pipeline using either GridSearchCV or RandomizedSearchCV.\n",
    "\n",
    "    Parameters:\n",
    "      - pipeline: A scikit-learn Pipeline containing preprocessor and estimator.\n",
    "      - param_grid: Dictionary of hyperparameters (grid or distribution).\n",
    "      - search_type: 'grid' for GridSearchCV or 'random' for RandomizedSearchCV.\n",
    "      - n_iter: Number of iterations for RandomizedSearchCV.\n",
    "      - cv: Number of cross-validation folds.\n",
    "      - scoring: Metric to optimize.\n",
    "      - random_state: For reproducibility.\n",
    "    \n",
    "    Returns:\n",
    "      A dictionary with keys 'best_params' and 'best_cv_score'.\n",
    "    \"\"\"\n",
    "    if search_type == 'grid':\n",
    "        search = GridSearchCV(pipeline, param_grid, cv=cv, scoring=scoring, n_jobs=-1, return_train_score=True)\n",
    "    elif search_type == 'random':\n",
    "        search = RandomizedSearchCV(pipeline, param_distributions=param_grid, n_iter=n_iter, cv=cv,\n",
    "                                    scoring=scoring, n_jobs=-1, random_state=123, return_train_score=True)\n",
    "    else:\n",
    "        raise ValueError(\"search_type must be 'grid' or 'random'\")\n",
    "    \n",
    "    search.fit(X_train, y_train)\n",
    "    return {\"best_params\": search.best_params_, \"best_cv_score\": search.best_score_}\n",
    "\n",
    "optimised_results_dict = {}"
   ]
  },
  {
   "cell_type": "markdown",
   "metadata": {},
   "source": [
    "Now we need to define pipelines and hyperparameter grids for each estimator and run the helper function."
   ]
  },
  {
   "cell_type": "code",
   "execution_count": 65,
   "metadata": {
    "tags": []
   },
   "outputs": [],
   "source": [
    "# KNeighborsRegressor Pipeline and Parameter Grid\n",
    "pipeline_knn = Pipeline([\n",
    "    ('preprocessor', preprocessor),\n",
    "    ('knn', KNeighborsRegressor())\n",
    "])\n",
    "param_grid_knn = {\n",
    "    'knn__n_neighbors': [3, 5, 7, 9, 11],\n",
    "    'knn__weights': ['uniform', 'distance']\n",
    "}\n",
    "optimised_results_dict[\"KNeighborsRegressor\"] = optimize_model(pipeline_knn, param_grid_knn, search_type='grid')"
   ]
  },
  {
   "cell_type": "code",
   "execution_count": 37,
   "metadata": {},
   "outputs": [],
   "source": [
    "# RandomForestRegressor Pipeline and Parameter Grid\n",
    "pipeline_rf = Pipeline([\n",
    "    ('preprocessor', preprocessor),\n",
    "    ('rf', RandomForestRegressor(random_state=123))\n",
    "])\n",
    "param_grid_rf = {\n",
    "    'rf__n_estimators': [50, 100, 200],\n",
    "    'rf__max_depth': [None, 10, 20],\n",
    "    'rf__min_samples_leaf': [1, 2, 4]\n",
    "}\n",
    "\n",
    "optimised_results_dict[\"RandomForestRegressor\"] = optimize_model(pipeline_rf, param_grid_rf, search_type='grid')"
   ]
  },
  {
   "cell_type": "code",
   "execution_count": 38,
   "metadata": {},
   "outputs": [],
   "source": [
    "# GradientBoostingRegressor Pipeline and Parameter Grid\n",
    "pipeline_gb = Pipeline([\n",
    "    ('preprocessor', preprocessor),\n",
    "    ('gb', GradientBoostingRegressor(random_state=123))\n",
    "])\n",
    "param_grid_gb = {\n",
    "    'gb__n_estimators': [100, 200, 300],\n",
    "    'gb__learning_rate': [0.01, 0.05, 0.1, 0.2],\n",
    "    'gb__max_depth': [3, 4, 5],\n",
    "    'gb__min_samples_split': [2, 4, 6]\n",
    "}\n",
    "\n",
    "optimised_results_dict[\"GradientBoostingRegressor\"] = optimize_model(pipeline_gb, param_grid_gb, search_type='grid')"
   ]
  },
  {
   "cell_type": "code",
   "execution_count": 39,
   "metadata": {},
   "outputs": [],
   "source": [
    "import xgboost as xg\n",
    "\n",
    "# XGBRegressor Pipeline and Parameter Distribution (for RandomizedSearchCV)\n",
    "pipeline_xgb = Pipeline([\n",
    "    ('preprocessor', preprocessor),\n",
    "    ('xgb', xg.XGBRegressor(random_state=123, objective='reg:squarederror'))\n",
    "])\n",
    "param_dist_xgb = {\n",
    "    'xgb__n_estimators': [50, 100, 200, 300],\n",
    "    'xgb__max_depth': [3, 5, 7, 9],\n",
    "    'xgb__learning_rate': [0.01, 0.05, 0.1, 0.2],\n",
    "    'xgb__subsample': [0.6, 0.8, 1.0]\n",
    "}\n",
    "\n",
    "optimised_results_dict[\"XGBRegressor\"] = optimize_model(pipeline_xgb, param_dist_xgb, search_type='random', n_iter=20)"
   ]
  },
  {
   "cell_type": "code",
   "execution_count": 40,
   "metadata": {
    "tags": []
   },
   "outputs": [
    {
     "name": "stdout",
     "output_type": "stream",
     "text": [
      "KNeighborsRegressor:\n",
      "  Best Parameters: {'knn__n_neighbors': 11, 'knn__weights': 'distance'}\n",
      "  Best CV R²: 0.388\n",
      "\n",
      "RandomForestRegressor:\n",
      "  Best Parameters: {'rf__max_depth': 10, 'rf__min_samples_leaf': 4, 'rf__n_estimators': 200}\n",
      "  Best CV R²: 0.515\n",
      "\n",
      "GradientBoostingRegressor:\n",
      "  Best Parameters: {'gb__learning_rate': 0.05, 'gb__max_depth': 3, 'gb__min_samples_split': 4, 'gb__n_estimators': 200}\n",
      "  Best CV R²: 0.518\n",
      "\n",
      "XGBRegressor:\n",
      "  Best Parameters: {'xgb__subsample': 0.6, 'xgb__n_estimators': 100, 'xgb__max_depth': 5, 'xgb__learning_rate': 0.05}\n",
      "  Best CV R²: 0.520\n",
      "\n"
     ]
    }
   ],
   "source": [
    "# --- Print out a summary of the results ---\n",
    "for model, res in optimised_results_dict.items():\n",
    "    print(f\"{model}:\")\n",
    "    print(f\"  Best Parameters: {res['best_params']}\")\n",
    "    print(f\"  Best CV R²: {res['best_cv_score']:.3f}\")\n",
    "    print()"
   ]
  },
  {
   "cell_type": "markdown",
   "metadata": {
    "deletable": false,
    "editable": false
   },
   "source": [
    "<!-- END QUESTION -->\n",
    "\n",
    "<br><br>"
   ]
  },
  {
   "cell_type": "markdown",
   "metadata": {
    "deletable": false,
    "editable": false
   },
   "source": [
    "<!-- BEGIN QUESTION -->\n",
    "\n",
    "## 11. Interpretation and feature importances <a name=\"1\"></a>\n",
    "<hr>\n",
    "rubric={points:10}\n",
    "\n",
    "**Your tasks:**\n",
    "\n",
    "1. Use the methods we saw in class (e.g., `shap`) (or any other methods of your choice) to examine the most important features of one of the non-linear models. \n",
    "2. Summarize your observations. "
   ]
  },
  {
   "cell_type": "markdown",
   "metadata": {
    "deletable": false,
    "editable": false
   },
   "source": [
    "<div class=\"alert alert-warning\">\n",
    "    \n",
    "Solution_11\n",
    "    \n",
    "</div>\n",
    "\n",
    "_Points:_ 10"
   ]
  },
  {
   "cell_type": "markdown",
   "metadata": {},
   "source": [
    "Based on the results of our hyperparameter optimsation, the best non-linear model is XGBRegressor with a CV $R^2$ of 0.520. Now we can use SHAP to examine the most important features in this model."
   ]
  },
  {
   "cell_type": "markdown",
   "metadata": {},
   "source": [
    "_Type your answer here, replacing this text._"
   ]
  },
  {
   "cell_type": "code",
   "execution_count": 69,
   "metadata": {},
   "outputs": [
    {
     "name": "stdout",
     "output_type": "stream",
     "text": [
      "['pipeline-1__price' 'pipeline-1__price_per_night'\n",
      " 'pipeline-1__minimum_nights' 'pipeline-1__number_of_reviews'\n",
      " 'pipeline-1__availability_365'\n",
      " 'pipeline-1__calculated_host_listings_count'\n",
      " 'pipeline-2__room_type_Entire home/apt'\n",
      " 'pipeline-2__room_type_Private room' 'pipeline-2__room_type_Shared room'\n",
      " 'pipeline-2__neighbourhood_group_Bronx'\n",
      " 'pipeline-2__neighbourhood_group_Brooklyn'\n",
      " 'pipeline-2__neighbourhood_group_Manhattan'\n",
      " 'pipeline-2__neighbourhood_group_Queens'\n",
      " 'pipeline-2__neighbourhood_group_Staten Island'\n",
      " 'pipeline-2__neighbourhood_Allerton'\n",
      " 'pipeline-2__neighbourhood_Arden Heights'\n",
      " 'pipeline-2__neighbourhood_Arrochar' 'pipeline-2__neighbourhood_Arverne'\n",
      " 'pipeline-2__neighbourhood_Astoria'\n",
      " 'pipeline-2__neighbourhood_Bath Beach'\n",
      " 'pipeline-2__neighbourhood_Battery Park City'\n",
      " 'pipeline-2__neighbourhood_Bay Ridge'\n",
      " 'pipeline-2__neighbourhood_Bay Terrace, Staten Island'\n",
      " 'pipeline-2__neighbourhood_Baychester'\n",
      " 'pipeline-2__neighbourhood_Bayside' 'pipeline-2__neighbourhood_Bayswater'\n",
      " 'pipeline-2__neighbourhood_Bedford-Stuyvesant'\n",
      " 'pipeline-2__neighbourhood_Belle Harbor'\n",
      " 'pipeline-2__neighbourhood_Bellerose' 'pipeline-2__neighbourhood_Belmont'\n",
      " 'pipeline-2__neighbourhood_Bensonhurst'\n",
      " 'pipeline-2__neighbourhood_Bergen Beach'\n",
      " 'pipeline-2__neighbourhood_Boerum Hill'\n",
      " 'pipeline-2__neighbourhood_Borough Park'\n",
      " 'pipeline-2__neighbourhood_Breezy Point'\n",
      " 'pipeline-2__neighbourhood_Briarwood'\n",
      " 'pipeline-2__neighbourhood_Brighton Beach'\n",
      " 'pipeline-2__neighbourhood_Bronxdale'\n",
      " 'pipeline-2__neighbourhood_Brooklyn Heights'\n",
      " 'pipeline-2__neighbourhood_Brownsville'\n",
      " 'pipeline-2__neighbourhood_Bushwick'\n",
      " 'pipeline-2__neighbourhood_Cambria Heights'\n",
      " 'pipeline-2__neighbourhood_Canarsie'\n",
      " 'pipeline-2__neighbourhood_Carroll Gardens'\n",
      " 'pipeline-2__neighbourhood_Castle Hill'\n",
      " 'pipeline-2__neighbourhood_Castleton Corners'\n",
      " 'pipeline-2__neighbourhood_Chelsea' 'pipeline-2__neighbourhood_Chinatown'\n",
      " 'pipeline-2__neighbourhood_City Island'\n",
      " 'pipeline-2__neighbourhood_Civic Center'\n",
      " 'pipeline-2__neighbourhood_Claremont Village'\n",
      " 'pipeline-2__neighbourhood_Clason Point'\n",
      " 'pipeline-2__neighbourhood_Clinton Hill'\n",
      " 'pipeline-2__neighbourhood_Cobble Hill'\n",
      " 'pipeline-2__neighbourhood_Columbia St'\n",
      " 'pipeline-2__neighbourhood_Concord' 'pipeline-2__neighbourhood_Concourse'\n",
      " 'pipeline-2__neighbourhood_Concourse Village'\n",
      " 'pipeline-2__neighbourhood_Coney Island'\n",
      " 'pipeline-2__neighbourhood_Corona'\n",
      " 'pipeline-2__neighbourhood_Crown Heights'\n",
      " 'pipeline-2__neighbourhood_Cypress Hills'\n",
      " 'pipeline-2__neighbourhood_DUMBO'\n",
      " 'pipeline-2__neighbourhood_Ditmars Steinway'\n",
      " 'pipeline-2__neighbourhood_Dongan Hills'\n",
      " 'pipeline-2__neighbourhood_Douglaston'\n",
      " 'pipeline-2__neighbourhood_Downtown Brooklyn'\n",
      " 'pipeline-2__neighbourhood_Dyker Heights'\n",
      " 'pipeline-2__neighbourhood_East Elmhurst'\n",
      " 'pipeline-2__neighbourhood_East Flatbush'\n",
      " 'pipeline-2__neighbourhood_East Harlem'\n",
      " 'pipeline-2__neighbourhood_East New York'\n",
      " 'pipeline-2__neighbourhood_East Village'\n",
      " 'pipeline-2__neighbourhood_Eastchester'\n",
      " 'pipeline-2__neighbourhood_Edenwald' 'pipeline-2__neighbourhood_Edgemere'\n",
      " 'pipeline-2__neighbourhood_Elmhurst'\n",
      " 'pipeline-2__neighbourhood_Eltingville'\n",
      " 'pipeline-2__neighbourhood_Far Rockaway'\n",
      " 'pipeline-2__neighbourhood_Fieldston'\n",
      " 'pipeline-2__neighbourhood_Financial District'\n",
      " 'pipeline-2__neighbourhood_Flatbush'\n",
      " 'pipeline-2__neighbourhood_Flatiron District'\n",
      " 'pipeline-2__neighbourhood_Flatlands'\n",
      " 'pipeline-2__neighbourhood_Flushing' 'pipeline-2__neighbourhood_Fordham'\n",
      " 'pipeline-2__neighbourhood_Forest Hills'\n",
      " 'pipeline-2__neighbourhood_Fort Greene'\n",
      " 'pipeline-2__neighbourhood_Fort Hamilton'\n",
      " 'pipeline-2__neighbourhood_Fresh Meadows'\n",
      " 'pipeline-2__neighbourhood_Glendale' 'pipeline-2__neighbourhood_Gowanus'\n",
      " 'pipeline-2__neighbourhood_Gramercy'\n",
      " 'pipeline-2__neighbourhood_Gravesend'\n",
      " 'pipeline-2__neighbourhood_Great Kills'\n",
      " 'pipeline-2__neighbourhood_Greenpoint'\n",
      " 'pipeline-2__neighbourhood_Greenwich Village'\n",
      " 'pipeline-2__neighbourhood_Grymes Hill'\n",
      " 'pipeline-2__neighbourhood_Harlem'\n",
      " \"pipeline-2__neighbourhood_Hell's Kitchen\"\n",
      " 'pipeline-2__neighbourhood_Highbridge' 'pipeline-2__neighbourhood_Hollis'\n",
      " 'pipeline-2__neighbourhood_Howard Beach'\n",
      " 'pipeline-2__neighbourhood_Hunts Point'\n",
      " 'pipeline-2__neighbourhood_Inwood'\n",
      " 'pipeline-2__neighbourhood_Jackson Heights'\n",
      " 'pipeline-2__neighbourhood_Jamaica'\n",
      " 'pipeline-2__neighbourhood_Jamaica Estates'\n",
      " 'pipeline-2__neighbourhood_Kensington'\n",
      " 'pipeline-2__neighbourhood_Kew Gardens'\n",
      " 'pipeline-2__neighbourhood_Kew Gardens Hills'\n",
      " 'pipeline-2__neighbourhood_Kingsbridge'\n",
      " 'pipeline-2__neighbourhood_Kips Bay'\n",
      " 'pipeline-2__neighbourhood_Laurelton'\n",
      " 'pipeline-2__neighbourhood_Little Italy'\n",
      " 'pipeline-2__neighbourhood_Little Neck'\n",
      " 'pipeline-2__neighbourhood_Long Island City'\n",
      " 'pipeline-2__neighbourhood_Longwood'\n",
      " 'pipeline-2__neighbourhood_Lower East Side'\n",
      " 'pipeline-2__neighbourhood_Manhattan Beach'\n",
      " 'pipeline-2__neighbourhood_Marble Hill'\n",
      " 'pipeline-2__neighbourhood_Mariners Harbor'\n",
      " 'pipeline-2__neighbourhood_Maspeth' 'pipeline-2__neighbourhood_Melrose'\n",
      " 'pipeline-2__neighbourhood_Middle Village'\n",
      " 'pipeline-2__neighbourhood_Midtown' 'pipeline-2__neighbourhood_Midwood'\n",
      " 'pipeline-2__neighbourhood_Morningside Heights'\n",
      " 'pipeline-2__neighbourhood_Morris Heights'\n",
      " 'pipeline-2__neighbourhood_Morris Park'\n",
      " 'pipeline-2__neighbourhood_Morrisania'\n",
      " 'pipeline-2__neighbourhood_Mott Haven'\n",
      " 'pipeline-2__neighbourhood_Mount Hope'\n",
      " 'pipeline-2__neighbourhood_Murray Hill'\n",
      " 'pipeline-2__neighbourhood_New Brighton'\n",
      " 'pipeline-2__neighbourhood_New Dorp Beach'\n",
      " 'pipeline-2__neighbourhood_NoHo' 'pipeline-2__neighbourhood_Nolita'\n",
      " 'pipeline-2__neighbourhood_North Riverdale'\n",
      " 'pipeline-2__neighbourhood_Norwood' 'pipeline-2__neighbourhood_Oakwood'\n",
      " 'pipeline-2__neighbourhood_Ozone Park'\n",
      " 'pipeline-2__neighbourhood_Park Slope'\n",
      " 'pipeline-2__neighbourhood_Parkchester'\n",
      " 'pipeline-2__neighbourhood_Pelham Bay'\n",
      " 'pipeline-2__neighbourhood_Pelham Gardens'\n",
      " 'pipeline-2__neighbourhood_Port Morris'\n",
      " 'pipeline-2__neighbourhood_Port Richmond'\n",
      " 'pipeline-2__neighbourhood_Prospect Heights'\n",
      " 'pipeline-2__neighbourhood_Prospect-Lefferts Gardens'\n",
      " 'pipeline-2__neighbourhood_Queens Village'\n",
      " 'pipeline-2__neighbourhood_Randall Manor'\n",
      " 'pipeline-2__neighbourhood_Red Hook'\n",
      " 'pipeline-2__neighbourhood_Rego Park'\n",
      " 'pipeline-2__neighbourhood_Richmond Hill'\n",
      " 'pipeline-2__neighbourhood_Ridgewood'\n",
      " 'pipeline-2__neighbourhood_Rockaway Beach'\n",
      " 'pipeline-2__neighbourhood_Roosevelt Island'\n",
      " 'pipeline-2__neighbourhood_Rosedale'\n",
      " 'pipeline-2__neighbourhood_Schuylerville'\n",
      " 'pipeline-2__neighbourhood_Sheepshead Bay'\n",
      " 'pipeline-2__neighbourhood_Shore Acres' 'pipeline-2__neighbourhood_SoHo'\n",
      " 'pipeline-2__neighbourhood_Soundview'\n",
      " 'pipeline-2__neighbourhood_South Ozone Park'\n",
      " 'pipeline-2__neighbourhood_South Slope'\n",
      " 'pipeline-2__neighbourhood_Springfield Gardens'\n",
      " 'pipeline-2__neighbourhood_St. Albans'\n",
      " 'pipeline-2__neighbourhood_St. George'\n",
      " 'pipeline-2__neighbourhood_Stapleton'\n",
      " 'pipeline-2__neighbourhood_Stuyvesant Town'\n",
      " 'pipeline-2__neighbourhood_Sunnyside'\n",
      " 'pipeline-2__neighbourhood_Sunset Park'\n",
      " 'pipeline-2__neighbourhood_Theater District'\n",
      " 'pipeline-2__neighbourhood_Throgs Neck'\n",
      " 'pipeline-2__neighbourhood_Tompkinsville'\n",
      " 'pipeline-2__neighbourhood_Tottenville'\n",
      " 'pipeline-2__neighbourhood_Tremont' 'pipeline-2__neighbourhood_Tribeca'\n",
      " 'pipeline-2__neighbourhood_Two Bridges'\n",
      " 'pipeline-2__neighbourhood_Unionport'\n",
      " 'pipeline-2__neighbourhood_University Heights'\n",
      " 'pipeline-2__neighbourhood_Upper East Side'\n",
      " 'pipeline-2__neighbourhood_Upper West Side'\n",
      " 'pipeline-2__neighbourhood_Van Nest'\n",
      " 'pipeline-2__neighbourhood_Vinegar Hill'\n",
      " 'pipeline-2__neighbourhood_Wakefield'\n",
      " 'pipeline-2__neighbourhood_Washington Heights'\n",
      " 'pipeline-2__neighbourhood_West Brighton'\n",
      " 'pipeline-2__neighbourhood_West Village'\n",
      " 'pipeline-2__neighbourhood_Whitestone'\n",
      " 'pipeline-2__neighbourhood_Williamsbridge'\n",
      " 'pipeline-2__neighbourhood_Williamsburg'\n",
      " 'pipeline-2__neighbourhood_Windsor Terrace'\n",
      " 'pipeline-2__neighbourhood_Woodhaven'\n",
      " 'pipeline-2__neighbourhood_Woodlawn' 'pipeline-2__neighbourhood_Woodrow'\n",
      " 'pipeline-2__neighbourhood_Woodside' 'passthrough__latitude'\n",
      " 'passthrough__longitude']\n"
     ]
    }
   ],
   "source": [
    "pipeline_xgb_shap = Pipeline([\n",
    "    ('preprocessor', preprocessor),\n",
    "    ('xgb', xg.XGBRegressor(\n",
    "        subsample=0.6,\n",
    "        n_estimators=100,\n",
    "        max_depth=5,\n",
    "        learning_rate=0.05,\n",
    "        objective='reg:squarederror',\n",
    "        random_state=123\n",
    "    ))\n",
    "])\n",
    "\n",
    "feature_names = pipeline_xgb_shap.named_steps['preprocessor'].get_feature_names_out(X_train.columns)\n",
    "print(feature_names)"
   ]
  },
  {
   "cell_type": "code",
   "execution_count": 72,
   "metadata": {},
   "outputs": [
    {
     "data": {
      "text/html": [
       "<div>\n",
       "<style scoped>\n",
       "    .dataframe tbody tr th:only-of-type {\n",
       "        vertical-align: middle;\n",
       "    }\n",
       "\n",
       "    .dataframe tbody tr th {\n",
       "        vertical-align: top;\n",
       "    }\n",
       "\n",
       "    .dataframe thead th {\n",
       "        text-align: right;\n",
       "    }\n",
       "</style>\n",
       "<table border=\"1\" class=\"dataframe\">\n",
       "  <thead>\n",
       "    <tr style=\"text-align: right;\">\n",
       "      <th></th>\n",
       "      <th>pipeline-1__price</th>\n",
       "      <th>pipeline-1__price_per_night</th>\n",
       "      <th>pipeline-1__minimum_nights</th>\n",
       "      <th>pipeline-1__number_of_reviews</th>\n",
       "      <th>pipeline-1__availability_365</th>\n",
       "      <th>pipeline-1__calculated_host_listings_count</th>\n",
       "      <th>pipeline-2__room_type_Entire home/apt</th>\n",
       "      <th>pipeline-2__room_type_Private room</th>\n",
       "      <th>pipeline-2__room_type_Shared room</th>\n",
       "      <th>pipeline-2__neighbourhood_group_Bronx</th>\n",
       "      <th>...</th>\n",
       "      <th>pipeline-2__neighbourhood_Whitestone</th>\n",
       "      <th>pipeline-2__neighbourhood_Williamsbridge</th>\n",
       "      <th>pipeline-2__neighbourhood_Williamsburg</th>\n",
       "      <th>pipeline-2__neighbourhood_Windsor Terrace</th>\n",
       "      <th>pipeline-2__neighbourhood_Woodhaven</th>\n",
       "      <th>pipeline-2__neighbourhood_Woodlawn</th>\n",
       "      <th>pipeline-2__neighbourhood_Woodrow</th>\n",
       "      <th>pipeline-2__neighbourhood_Woodside</th>\n",
       "      <th>passthrough__latitude</th>\n",
       "      <th>passthrough__longitude</th>\n",
       "    </tr>\n",
       "  </thead>\n",
       "  <tbody>\n",
       "    <tr>\n",
       "      <th>8829</th>\n",
       "      <td>-0.420282</td>\n",
       "      <td>-0.325643</td>\n",
       "      <td>-0.267334</td>\n",
       "      <td>0.689618</td>\n",
       "      <td>0.337688</td>\n",
       "      <td>-0.113378</td>\n",
       "      <td>0.0</td>\n",
       "      <td>1.0</td>\n",
       "      <td>0.0</td>\n",
       "      <td>0.0</td>\n",
       "      <td>...</td>\n",
       "      <td>0.0</td>\n",
       "      <td>0.0</td>\n",
       "      <td>0.0</td>\n",
       "      <td>0.0</td>\n",
       "      <td>0.0</td>\n",
       "      <td>0.0</td>\n",
       "      <td>0.0</td>\n",
       "      <td>0.0</td>\n",
       "      <td>40.75443</td>\n",
       "      <td>-73.80787</td>\n",
       "    </tr>\n",
       "    <tr>\n",
       "      <th>9030</th>\n",
       "      <td>-0.041818</td>\n",
       "      <td>-0.242902</td>\n",
       "      <td>-0.152342</td>\n",
       "      <td>2.966241</td>\n",
       "      <td>1.321616</td>\n",
       "      <td>-0.180542</td>\n",
       "      <td>1.0</td>\n",
       "      <td>0.0</td>\n",
       "      <td>0.0</td>\n",
       "      <td>0.0</td>\n",
       "      <td>...</td>\n",
       "      <td>0.0</td>\n",
       "      <td>0.0</td>\n",
       "      <td>0.0</td>\n",
       "      <td>0.0</td>\n",
       "      <td>0.0</td>\n",
       "      <td>0.0</td>\n",
       "      <td>0.0</td>\n",
       "      <td>0.0</td>\n",
       "      <td>40.68378</td>\n",
       "      <td>-73.93573</td>\n",
       "    </tr>\n",
       "    <tr>\n",
       "      <th>19652</th>\n",
       "      <td>0.003930</td>\n",
       "      <td>-0.125525</td>\n",
       "      <td>-0.209838</td>\n",
       "      <td>-0.483188</td>\n",
       "      <td>-0.838414</td>\n",
       "      <td>-0.180542</td>\n",
       "      <td>1.0</td>\n",
       "      <td>0.0</td>\n",
       "      <td>0.0</td>\n",
       "      <td>0.0</td>\n",
       "      <td>...</td>\n",
       "      <td>0.0</td>\n",
       "      <td>0.0</td>\n",
       "      <td>0.0</td>\n",
       "      <td>0.0</td>\n",
       "      <td>0.0</td>\n",
       "      <td>0.0</td>\n",
       "      <td>0.0</td>\n",
       "      <td>0.0</td>\n",
       "      <td>40.77043</td>\n",
       "      <td>-73.95557</td>\n",
       "    </tr>\n",
       "    <tr>\n",
       "      <th>22344</th>\n",
       "      <td>-0.204017</td>\n",
       "      <td>-0.125525</td>\n",
       "      <td>-0.267334</td>\n",
       "      <td>2.023397</td>\n",
       "      <td>-0.761545</td>\n",
       "      <td>-0.146960</td>\n",
       "      <td>1.0</td>\n",
       "      <td>0.0</td>\n",
       "      <td>0.0</td>\n",
       "      <td>0.0</td>\n",
       "      <td>...</td>\n",
       "      <td>0.0</td>\n",
       "      <td>0.0</td>\n",
       "      <td>0.0</td>\n",
       "      <td>0.0</td>\n",
       "      <td>0.0</td>\n",
       "      <td>0.0</td>\n",
       "      <td>0.0</td>\n",
       "      <td>0.0</td>\n",
       "      <td>40.68824</td>\n",
       "      <td>-73.91567</td>\n",
       "    </tr>\n",
       "    <tr>\n",
       "      <th>25129</th>\n",
       "      <td>-0.079249</td>\n",
       "      <td>-0.010072</td>\n",
       "      <td>-0.267334</td>\n",
       "      <td>1.655458</td>\n",
       "      <td>0.060958</td>\n",
       "      <td>-0.180542</td>\n",
       "      <td>1.0</td>\n",
       "      <td>0.0</td>\n",
       "      <td>0.0</td>\n",
       "      <td>0.0</td>\n",
       "      <td>...</td>\n",
       "      <td>0.0</td>\n",
       "      <td>0.0</td>\n",
       "      <td>0.0</td>\n",
       "      <td>0.0</td>\n",
       "      <td>0.0</td>\n",
       "      <td>0.0</td>\n",
       "      <td>0.0</td>\n",
       "      <td>0.0</td>\n",
       "      <td>40.69499</td>\n",
       "      <td>-73.79910</td>\n",
       "    </tr>\n",
       "  </tbody>\n",
       "</table>\n",
       "<p>5 rows × 200 columns</p>\n",
       "</div>"
      ],
      "text/plain": [
       "       pipeline-1__price  pipeline-1__price_per_night  \\\n",
       "8829           -0.420282                    -0.325643   \n",
       "9030           -0.041818                    -0.242902   \n",
       "19652           0.003930                    -0.125525   \n",
       "22344          -0.204017                    -0.125525   \n",
       "25129          -0.079249                    -0.010072   \n",
       "\n",
       "       pipeline-1__minimum_nights  pipeline-1__number_of_reviews  \\\n",
       "8829                    -0.267334                       0.689618   \n",
       "9030                    -0.152342                       2.966241   \n",
       "19652                   -0.209838                      -0.483188   \n",
       "22344                   -0.267334                       2.023397   \n",
       "25129                   -0.267334                       1.655458   \n",
       "\n",
       "       pipeline-1__availability_365  \\\n",
       "8829                       0.337688   \n",
       "9030                       1.321616   \n",
       "19652                     -0.838414   \n",
       "22344                     -0.761545   \n",
       "25129                      0.060958   \n",
       "\n",
       "       pipeline-1__calculated_host_listings_count  \\\n",
       "8829                                    -0.113378   \n",
       "9030                                    -0.180542   \n",
       "19652                                   -0.180542   \n",
       "22344                                   -0.146960   \n",
       "25129                                   -0.180542   \n",
       "\n",
       "       pipeline-2__room_type_Entire home/apt  \\\n",
       "8829                                     0.0   \n",
       "9030                                     1.0   \n",
       "19652                                    1.0   \n",
       "22344                                    1.0   \n",
       "25129                                    1.0   \n",
       "\n",
       "       pipeline-2__room_type_Private room  pipeline-2__room_type_Shared room  \\\n",
       "8829                                  1.0                                0.0   \n",
       "9030                                  0.0                                0.0   \n",
       "19652                                 0.0                                0.0   \n",
       "22344                                 0.0                                0.0   \n",
       "25129                                 0.0                                0.0   \n",
       "\n",
       "       pipeline-2__neighbourhood_group_Bronx  ...  \\\n",
       "8829                                     0.0  ...   \n",
       "9030                                     0.0  ...   \n",
       "19652                                    0.0  ...   \n",
       "22344                                    0.0  ...   \n",
       "25129                                    0.0  ...   \n",
       "\n",
       "       pipeline-2__neighbourhood_Whitestone  \\\n",
       "8829                                    0.0   \n",
       "9030                                    0.0   \n",
       "19652                                   0.0   \n",
       "22344                                   0.0   \n",
       "25129                                   0.0   \n",
       "\n",
       "       pipeline-2__neighbourhood_Williamsbridge  \\\n",
       "8829                                        0.0   \n",
       "9030                                        0.0   \n",
       "19652                                       0.0   \n",
       "22344                                       0.0   \n",
       "25129                                       0.0   \n",
       "\n",
       "       pipeline-2__neighbourhood_Williamsburg  \\\n",
       "8829                                      0.0   \n",
       "9030                                      0.0   \n",
       "19652                                     0.0   \n",
       "22344                                     0.0   \n",
       "25129                                     0.0   \n",
       "\n",
       "       pipeline-2__neighbourhood_Windsor Terrace  \\\n",
       "8829                                         0.0   \n",
       "9030                                         0.0   \n",
       "19652                                        0.0   \n",
       "22344                                        0.0   \n",
       "25129                                        0.0   \n",
       "\n",
       "       pipeline-2__neighbourhood_Woodhaven  \\\n",
       "8829                                   0.0   \n",
       "9030                                   0.0   \n",
       "19652                                  0.0   \n",
       "22344                                  0.0   \n",
       "25129                                  0.0   \n",
       "\n",
       "       pipeline-2__neighbourhood_Woodlawn  pipeline-2__neighbourhood_Woodrow  \\\n",
       "8829                                  0.0                                0.0   \n",
       "9030                                  0.0                                0.0   \n",
       "19652                                 0.0                                0.0   \n",
       "22344                                 0.0                                0.0   \n",
       "25129                                 0.0                                0.0   \n",
       "\n",
       "       pipeline-2__neighbourhood_Woodside  passthrough__latitude  \\\n",
       "8829                                  0.0               40.75443   \n",
       "9030                                  0.0               40.68378   \n",
       "19652                                 0.0               40.77043   \n",
       "22344                                 0.0               40.68824   \n",
       "25129                                 0.0               40.69499   \n",
       "\n",
       "       passthrough__longitude  \n",
       "8829                -73.80787  \n",
       "9030                -73.93573  \n",
       "19652               -73.95557  \n",
       "22344               -73.91567  \n",
       "25129               -73.79910  \n",
       "\n",
       "[5 rows x 200 columns]"
      ]
     },
     "execution_count": 72,
     "metadata": {},
     "output_type": "execute_result"
    }
   ],
   "source": [
    "X_train_enc = pd.DataFrame(\n",
    "    data=preprocessor.transform(X_train).toarray(),\n",
    "    columns=feature_names,\n",
    "    index=X_train.index,\n",
    ")\n",
    "X_train_enc.head()"
   ]
  },
  {
   "cell_type": "code",
   "execution_count": 73,
   "metadata": {},
   "outputs": [
    {
     "data": {
      "text/html": [
       "<style>#sk-container-id-2 {\n",
       "  /* Definition of color scheme common for light and dark mode */\n",
       "  --sklearn-color-text: #000;\n",
       "  --sklearn-color-text-muted: #666;\n",
       "  --sklearn-color-line: gray;\n",
       "  /* Definition of color scheme for unfitted estimators */\n",
       "  --sklearn-color-unfitted-level-0: #fff5e6;\n",
       "  --sklearn-color-unfitted-level-1: #f6e4d2;\n",
       "  --sklearn-color-unfitted-level-2: #ffe0b3;\n",
       "  --sklearn-color-unfitted-level-3: chocolate;\n",
       "  /* Definition of color scheme for fitted estimators */\n",
       "  --sklearn-color-fitted-level-0: #f0f8ff;\n",
       "  --sklearn-color-fitted-level-1: #d4ebff;\n",
       "  --sklearn-color-fitted-level-2: #b3dbfd;\n",
       "  --sklearn-color-fitted-level-3: cornflowerblue;\n",
       "\n",
       "  /* Specific color for light theme */\n",
       "  --sklearn-color-text-on-default-background: var(--sg-text-color, var(--theme-code-foreground, var(--jp-content-font-color1, black)));\n",
       "  --sklearn-color-background: var(--sg-background-color, var(--theme-background, var(--jp-layout-color0, white)));\n",
       "  --sklearn-color-border-box: var(--sg-text-color, var(--theme-code-foreground, var(--jp-content-font-color1, black)));\n",
       "  --sklearn-color-icon: #696969;\n",
       "\n",
       "  @media (prefers-color-scheme: dark) {\n",
       "    /* Redefinition of color scheme for dark theme */\n",
       "    --sklearn-color-text-on-default-background: var(--sg-text-color, var(--theme-code-foreground, var(--jp-content-font-color1, white)));\n",
       "    --sklearn-color-background: var(--sg-background-color, var(--theme-background, var(--jp-layout-color0, #111)));\n",
       "    --sklearn-color-border-box: var(--sg-text-color, var(--theme-code-foreground, var(--jp-content-font-color1, white)));\n",
       "    --sklearn-color-icon: #878787;\n",
       "  }\n",
       "}\n",
       "\n",
       "#sk-container-id-2 {\n",
       "  color: var(--sklearn-color-text);\n",
       "}\n",
       "\n",
       "#sk-container-id-2 pre {\n",
       "  padding: 0;\n",
       "}\n",
       "\n",
       "#sk-container-id-2 input.sk-hidden--visually {\n",
       "  border: 0;\n",
       "  clip: rect(1px 1px 1px 1px);\n",
       "  clip: rect(1px, 1px, 1px, 1px);\n",
       "  height: 1px;\n",
       "  margin: -1px;\n",
       "  overflow: hidden;\n",
       "  padding: 0;\n",
       "  position: absolute;\n",
       "  width: 1px;\n",
       "}\n",
       "\n",
       "#sk-container-id-2 div.sk-dashed-wrapped {\n",
       "  border: 1px dashed var(--sklearn-color-line);\n",
       "  margin: 0 0.4em 0.5em 0.4em;\n",
       "  box-sizing: border-box;\n",
       "  padding-bottom: 0.4em;\n",
       "  background-color: var(--sklearn-color-background);\n",
       "}\n",
       "\n",
       "#sk-container-id-2 div.sk-container {\n",
       "  /* jupyter's `normalize.less` sets `[hidden] { display: none; }`\n",
       "     but bootstrap.min.css set `[hidden] { display: none !important; }`\n",
       "     so we also need the `!important` here to be able to override the\n",
       "     default hidden behavior on the sphinx rendered scikit-learn.org.\n",
       "     See: https://github.com/scikit-learn/scikit-learn/issues/21755 */\n",
       "  display: inline-block !important;\n",
       "  position: relative;\n",
       "}\n",
       "\n",
       "#sk-container-id-2 div.sk-text-repr-fallback {\n",
       "  display: none;\n",
       "}\n",
       "\n",
       "div.sk-parallel-item,\n",
       "div.sk-serial,\n",
       "div.sk-item {\n",
       "  /* draw centered vertical line to link estimators */\n",
       "  background-image: linear-gradient(var(--sklearn-color-text-on-default-background), var(--sklearn-color-text-on-default-background));\n",
       "  background-size: 2px 100%;\n",
       "  background-repeat: no-repeat;\n",
       "  background-position: center center;\n",
       "}\n",
       "\n",
       "/* Parallel-specific style estimator block */\n",
       "\n",
       "#sk-container-id-2 div.sk-parallel-item::after {\n",
       "  content: \"\";\n",
       "  width: 100%;\n",
       "  border-bottom: 2px solid var(--sklearn-color-text-on-default-background);\n",
       "  flex-grow: 1;\n",
       "}\n",
       "\n",
       "#sk-container-id-2 div.sk-parallel {\n",
       "  display: flex;\n",
       "  align-items: stretch;\n",
       "  justify-content: center;\n",
       "  background-color: var(--sklearn-color-background);\n",
       "  position: relative;\n",
       "}\n",
       "\n",
       "#sk-container-id-2 div.sk-parallel-item {\n",
       "  display: flex;\n",
       "  flex-direction: column;\n",
       "}\n",
       "\n",
       "#sk-container-id-2 div.sk-parallel-item:first-child::after {\n",
       "  align-self: flex-end;\n",
       "  width: 50%;\n",
       "}\n",
       "\n",
       "#sk-container-id-2 div.sk-parallel-item:last-child::after {\n",
       "  align-self: flex-start;\n",
       "  width: 50%;\n",
       "}\n",
       "\n",
       "#sk-container-id-2 div.sk-parallel-item:only-child::after {\n",
       "  width: 0;\n",
       "}\n",
       "\n",
       "/* Serial-specific style estimator block */\n",
       "\n",
       "#sk-container-id-2 div.sk-serial {\n",
       "  display: flex;\n",
       "  flex-direction: column;\n",
       "  align-items: center;\n",
       "  background-color: var(--sklearn-color-background);\n",
       "  padding-right: 1em;\n",
       "  padding-left: 1em;\n",
       "}\n",
       "\n",
       "\n",
       "/* Toggleable style: style used for estimator/Pipeline/ColumnTransformer box that is\n",
       "clickable and can be expanded/collapsed.\n",
       "- Pipeline and ColumnTransformer use this feature and define the default style\n",
       "- Estimators will overwrite some part of the style using the `sk-estimator` class\n",
       "*/\n",
       "\n",
       "/* Pipeline and ColumnTransformer style (default) */\n",
       "\n",
       "#sk-container-id-2 div.sk-toggleable {\n",
       "  /* Default theme specific background. It is overwritten whether we have a\n",
       "  specific estimator or a Pipeline/ColumnTransformer */\n",
       "  background-color: var(--sklearn-color-background);\n",
       "}\n",
       "\n",
       "/* Toggleable label */\n",
       "#sk-container-id-2 label.sk-toggleable__label {\n",
       "  cursor: pointer;\n",
       "  display: flex;\n",
       "  width: 100%;\n",
       "  margin-bottom: 0;\n",
       "  padding: 0.5em;\n",
       "  box-sizing: border-box;\n",
       "  text-align: center;\n",
       "  align-items: start;\n",
       "  justify-content: space-between;\n",
       "  gap: 0.5em;\n",
       "}\n",
       "\n",
       "#sk-container-id-2 label.sk-toggleable__label .caption {\n",
       "  font-size: 0.6rem;\n",
       "  font-weight: lighter;\n",
       "  color: var(--sklearn-color-text-muted);\n",
       "}\n",
       "\n",
       "#sk-container-id-2 label.sk-toggleable__label-arrow:before {\n",
       "  /* Arrow on the left of the label */\n",
       "  content: \"▸\";\n",
       "  float: left;\n",
       "  margin-right: 0.25em;\n",
       "  color: var(--sklearn-color-icon);\n",
       "}\n",
       "\n",
       "#sk-container-id-2 label.sk-toggleable__label-arrow:hover:before {\n",
       "  color: var(--sklearn-color-text);\n",
       "}\n",
       "\n",
       "/* Toggleable content - dropdown */\n",
       "\n",
       "#sk-container-id-2 div.sk-toggleable__content {\n",
       "  max-height: 0;\n",
       "  max-width: 0;\n",
       "  overflow: hidden;\n",
       "  text-align: left;\n",
       "  /* unfitted */\n",
       "  background-color: var(--sklearn-color-unfitted-level-0);\n",
       "}\n",
       "\n",
       "#sk-container-id-2 div.sk-toggleable__content.fitted {\n",
       "  /* fitted */\n",
       "  background-color: var(--sklearn-color-fitted-level-0);\n",
       "}\n",
       "\n",
       "#sk-container-id-2 div.sk-toggleable__content pre {\n",
       "  margin: 0.2em;\n",
       "  border-radius: 0.25em;\n",
       "  color: var(--sklearn-color-text);\n",
       "  /* unfitted */\n",
       "  background-color: var(--sklearn-color-unfitted-level-0);\n",
       "}\n",
       "\n",
       "#sk-container-id-2 div.sk-toggleable__content.fitted pre {\n",
       "  /* unfitted */\n",
       "  background-color: var(--sklearn-color-fitted-level-0);\n",
       "}\n",
       "\n",
       "#sk-container-id-2 input.sk-toggleable__control:checked~div.sk-toggleable__content {\n",
       "  /* Expand drop-down */\n",
       "  max-height: 200px;\n",
       "  max-width: 100%;\n",
       "  overflow: auto;\n",
       "}\n",
       "\n",
       "#sk-container-id-2 input.sk-toggleable__control:checked~label.sk-toggleable__label-arrow:before {\n",
       "  content: \"▾\";\n",
       "}\n",
       "\n",
       "/* Pipeline/ColumnTransformer-specific style */\n",
       "\n",
       "#sk-container-id-2 div.sk-label input.sk-toggleable__control:checked~label.sk-toggleable__label {\n",
       "  color: var(--sklearn-color-text);\n",
       "  background-color: var(--sklearn-color-unfitted-level-2);\n",
       "}\n",
       "\n",
       "#sk-container-id-2 div.sk-label.fitted input.sk-toggleable__control:checked~label.sk-toggleable__label {\n",
       "  background-color: var(--sklearn-color-fitted-level-2);\n",
       "}\n",
       "\n",
       "/* Estimator-specific style */\n",
       "\n",
       "/* Colorize estimator box */\n",
       "#sk-container-id-2 div.sk-estimator input.sk-toggleable__control:checked~label.sk-toggleable__label {\n",
       "  /* unfitted */\n",
       "  background-color: var(--sklearn-color-unfitted-level-2);\n",
       "}\n",
       "\n",
       "#sk-container-id-2 div.sk-estimator.fitted input.sk-toggleable__control:checked~label.sk-toggleable__label {\n",
       "  /* fitted */\n",
       "  background-color: var(--sklearn-color-fitted-level-2);\n",
       "}\n",
       "\n",
       "#sk-container-id-2 div.sk-label label.sk-toggleable__label,\n",
       "#sk-container-id-2 div.sk-label label {\n",
       "  /* The background is the default theme color */\n",
       "  color: var(--sklearn-color-text-on-default-background);\n",
       "}\n",
       "\n",
       "/* On hover, darken the color of the background */\n",
       "#sk-container-id-2 div.sk-label:hover label.sk-toggleable__label {\n",
       "  color: var(--sklearn-color-text);\n",
       "  background-color: var(--sklearn-color-unfitted-level-2);\n",
       "}\n",
       "\n",
       "/* Label box, darken color on hover, fitted */\n",
       "#sk-container-id-2 div.sk-label.fitted:hover label.sk-toggleable__label.fitted {\n",
       "  color: var(--sklearn-color-text);\n",
       "  background-color: var(--sklearn-color-fitted-level-2);\n",
       "}\n",
       "\n",
       "/* Estimator label */\n",
       "\n",
       "#sk-container-id-2 div.sk-label label {\n",
       "  font-family: monospace;\n",
       "  font-weight: bold;\n",
       "  display: inline-block;\n",
       "  line-height: 1.2em;\n",
       "}\n",
       "\n",
       "#sk-container-id-2 div.sk-label-container {\n",
       "  text-align: center;\n",
       "}\n",
       "\n",
       "/* Estimator-specific */\n",
       "#sk-container-id-2 div.sk-estimator {\n",
       "  font-family: monospace;\n",
       "  border: 1px dotted var(--sklearn-color-border-box);\n",
       "  border-radius: 0.25em;\n",
       "  box-sizing: border-box;\n",
       "  margin-bottom: 0.5em;\n",
       "  /* unfitted */\n",
       "  background-color: var(--sklearn-color-unfitted-level-0);\n",
       "}\n",
       "\n",
       "#sk-container-id-2 div.sk-estimator.fitted {\n",
       "  /* fitted */\n",
       "  background-color: var(--sklearn-color-fitted-level-0);\n",
       "}\n",
       "\n",
       "/* on hover */\n",
       "#sk-container-id-2 div.sk-estimator:hover {\n",
       "  /* unfitted */\n",
       "  background-color: var(--sklearn-color-unfitted-level-2);\n",
       "}\n",
       "\n",
       "#sk-container-id-2 div.sk-estimator.fitted:hover {\n",
       "  /* fitted */\n",
       "  background-color: var(--sklearn-color-fitted-level-2);\n",
       "}\n",
       "\n",
       "/* Specification for estimator info (e.g. \"i\" and \"?\") */\n",
       "\n",
       "/* Common style for \"i\" and \"?\" */\n",
       "\n",
       ".sk-estimator-doc-link,\n",
       "a:link.sk-estimator-doc-link,\n",
       "a:visited.sk-estimator-doc-link {\n",
       "  float: right;\n",
       "  font-size: smaller;\n",
       "  line-height: 1em;\n",
       "  font-family: monospace;\n",
       "  background-color: var(--sklearn-color-background);\n",
       "  border-radius: 1em;\n",
       "  height: 1em;\n",
       "  width: 1em;\n",
       "  text-decoration: none !important;\n",
       "  margin-left: 0.5em;\n",
       "  text-align: center;\n",
       "  /* unfitted */\n",
       "  border: var(--sklearn-color-unfitted-level-1) 1pt solid;\n",
       "  color: var(--sklearn-color-unfitted-level-1);\n",
       "}\n",
       "\n",
       ".sk-estimator-doc-link.fitted,\n",
       "a:link.sk-estimator-doc-link.fitted,\n",
       "a:visited.sk-estimator-doc-link.fitted {\n",
       "  /* fitted */\n",
       "  border: var(--sklearn-color-fitted-level-1) 1pt solid;\n",
       "  color: var(--sklearn-color-fitted-level-1);\n",
       "}\n",
       "\n",
       "/* On hover */\n",
       "div.sk-estimator:hover .sk-estimator-doc-link:hover,\n",
       ".sk-estimator-doc-link:hover,\n",
       "div.sk-label-container:hover .sk-estimator-doc-link:hover,\n",
       ".sk-estimator-doc-link:hover {\n",
       "  /* unfitted */\n",
       "  background-color: var(--sklearn-color-unfitted-level-3);\n",
       "  color: var(--sklearn-color-background);\n",
       "  text-decoration: none;\n",
       "}\n",
       "\n",
       "div.sk-estimator.fitted:hover .sk-estimator-doc-link.fitted:hover,\n",
       ".sk-estimator-doc-link.fitted:hover,\n",
       "div.sk-label-container:hover .sk-estimator-doc-link.fitted:hover,\n",
       ".sk-estimator-doc-link.fitted:hover {\n",
       "  /* fitted */\n",
       "  background-color: var(--sklearn-color-fitted-level-3);\n",
       "  color: var(--sklearn-color-background);\n",
       "  text-decoration: none;\n",
       "}\n",
       "\n",
       "/* Span, style for the box shown on hovering the info icon */\n",
       ".sk-estimator-doc-link span {\n",
       "  display: none;\n",
       "  z-index: 9999;\n",
       "  position: relative;\n",
       "  font-weight: normal;\n",
       "  right: .2ex;\n",
       "  padding: .5ex;\n",
       "  margin: .5ex;\n",
       "  width: min-content;\n",
       "  min-width: 20ex;\n",
       "  max-width: 50ex;\n",
       "  color: var(--sklearn-color-text);\n",
       "  box-shadow: 2pt 2pt 4pt #999;\n",
       "  /* unfitted */\n",
       "  background: var(--sklearn-color-unfitted-level-0);\n",
       "  border: .5pt solid var(--sklearn-color-unfitted-level-3);\n",
       "}\n",
       "\n",
       ".sk-estimator-doc-link.fitted span {\n",
       "  /* fitted */\n",
       "  background: var(--sklearn-color-fitted-level-0);\n",
       "  border: var(--sklearn-color-fitted-level-3);\n",
       "}\n",
       "\n",
       ".sk-estimator-doc-link:hover span {\n",
       "  display: block;\n",
       "}\n",
       "\n",
       "/* \"?\"-specific style due to the `<a>` HTML tag */\n",
       "\n",
       "#sk-container-id-2 a.estimator_doc_link {\n",
       "  float: right;\n",
       "  font-size: 1rem;\n",
       "  line-height: 1em;\n",
       "  font-family: monospace;\n",
       "  background-color: var(--sklearn-color-background);\n",
       "  border-radius: 1rem;\n",
       "  height: 1rem;\n",
       "  width: 1rem;\n",
       "  text-decoration: none;\n",
       "  /* unfitted */\n",
       "  color: var(--sklearn-color-unfitted-level-1);\n",
       "  border: var(--sklearn-color-unfitted-level-1) 1pt solid;\n",
       "}\n",
       "\n",
       "#sk-container-id-2 a.estimator_doc_link.fitted {\n",
       "  /* fitted */\n",
       "  border: var(--sklearn-color-fitted-level-1) 1pt solid;\n",
       "  color: var(--sklearn-color-fitted-level-1);\n",
       "}\n",
       "\n",
       "/* On hover */\n",
       "#sk-container-id-2 a.estimator_doc_link:hover {\n",
       "  /* unfitted */\n",
       "  background-color: var(--sklearn-color-unfitted-level-3);\n",
       "  color: var(--sklearn-color-background);\n",
       "  text-decoration: none;\n",
       "}\n",
       "\n",
       "#sk-container-id-2 a.estimator_doc_link.fitted:hover {\n",
       "  /* fitted */\n",
       "  background-color: var(--sklearn-color-fitted-level-3);\n",
       "}\n",
       "</style><div id=\"sk-container-id-2\" class=\"sk-top-container\"><div class=\"sk-text-repr-fallback\"><pre>XGBRegressor(base_score=None, booster=None, callbacks=None,\n",
       "             colsample_bylevel=None, colsample_bynode=None,\n",
       "             colsample_bytree=None, device=None, early_stopping_rounds=None,\n",
       "             enable_categorical=False, eval_metric=None, feature_types=None,\n",
       "             gamma=None, grow_policy=None, importance_type=None,\n",
       "             interaction_constraints=None, learning_rate=0.05, max_bin=None,\n",
       "             max_cat_threshold=None, max_cat_to_onehot=None,\n",
       "             max_delta_step=None, max_depth=5, max_leaves=None,\n",
       "             min_child_weight=None, missing=nan, monotone_constraints=None,\n",
       "             multi_strategy=None, n_estimators=100, n_jobs=None,\n",
       "             num_parallel_tree=None, random_state=123, ...)</pre><b>In a Jupyter environment, please rerun this cell to show the HTML representation or trust the notebook. <br />On GitHub, the HTML representation is unable to render, please try loading this page with nbviewer.org.</b></div><div class=\"sk-container\" hidden><div class=\"sk-item\"><div class=\"sk-estimator fitted sk-toggleable\"><input class=\"sk-toggleable__control sk-hidden--visually\" id=\"sk-estimator-id-10\" type=\"checkbox\" checked><label for=\"sk-estimator-id-10\" class=\"sk-toggleable__label fitted sk-toggleable__label-arrow\"><div><div>XGBRegressor</div></div><div><span class=\"sk-estimator-doc-link fitted\">i<span>Fitted</span></span></div></label><div class=\"sk-toggleable__content fitted\"><pre>XGBRegressor(base_score=None, booster=None, callbacks=None,\n",
       "             colsample_bylevel=None, colsample_bynode=None,\n",
       "             colsample_bytree=None, device=None, early_stopping_rounds=None,\n",
       "             enable_categorical=False, eval_metric=None, feature_types=None,\n",
       "             gamma=None, grow_policy=None, importance_type=None,\n",
       "             interaction_constraints=None, learning_rate=0.05, max_bin=None,\n",
       "             max_cat_threshold=None, max_cat_to_onehot=None,\n",
       "             max_delta_step=None, max_depth=5, max_leaves=None,\n",
       "             min_child_weight=None, missing=nan, monotone_constraints=None,\n",
       "             multi_strategy=None, n_estimators=100, n_jobs=None,\n",
       "             num_parallel_tree=None, random_state=123, ...)</pre></div> </div></div></div></div>"
      ],
      "text/plain": [
       "XGBRegressor(base_score=None, booster=None, callbacks=None,\n",
       "             colsample_bylevel=None, colsample_bynode=None,\n",
       "             colsample_bytree=None, device=None, early_stopping_rounds=None,\n",
       "             enable_categorical=False, eval_metric=None, feature_types=None,\n",
       "             gamma=None, grow_policy=None, importance_type=None,\n",
       "             interaction_constraints=None, learning_rate=0.05, max_bin=None,\n",
       "             max_cat_threshold=None, max_cat_to_onehot=None,\n",
       "             max_delta_step=None, max_depth=5, max_leaves=None,\n",
       "             min_child_weight=None, missing=nan, monotone_constraints=None,\n",
       "             multi_strategy=None, n_estimators=100, n_jobs=None,\n",
       "             num_parallel_tree=None, random_state=123, ...)"
      ]
     },
     "execution_count": 73,
     "metadata": {},
     "output_type": "execute_result"
    }
   ],
   "source": [
    "model = pipeline_xgb_shap.named_steps[\"xgb\"]\n",
    "model.fit(X_train_enc, y_train)"
   ]
  },
  {
   "cell_type": "code",
   "execution_count": 74,
   "metadata": {
    "tags": []
   },
   "outputs": [],
   "source": [
    "import shap \n",
    "\n",
    "explainer = shap.TreeExplainer(model) # define the shap explainer \n",
    "train_shap_values = explainer(X_train_enc) # train shap values"
   ]
  },
  {
   "cell_type": "code",
   "execution_count": null,
   "metadata": {},
   "outputs": [
    {
     "data": {
      "image/png": "[encoded data removed]",
      "text/plain": [
       "<Figure size 800x950 with 2 Axes>"
      ]
     },
     "metadata": {},
     "output_type": "display_data"
    }
   ],
   "source": [
    "shap.summary_plot(train_shap_values, X_train_enc)"
   ]
  },
  {
   "cell_type": "code",
   "execution_count": 76,
   "metadata": {},
   "outputs": [
    {
     "data": {
      "image/png": "[encoded data removed]",
      "text/plain": [
       "<Figure size 800x950 with 1 Axes>"
      ]
     },
     "metadata": {},
     "output_type": "display_data"
    }
   ],
   "source": [
    "shap.summary_plot(train_shap_values, X_train_enc, plot_type=\"bar\")"
   ]
  },
  {
   "cell_type": "code",
   "execution_count": 81,
   "metadata": {},
   "outputs": [
    {
     "data": {
      "image/png": "[encoded data removed]",
      "text/plain": [
       "<Figure size 750x500 with 2 Axes>"
      ]
     },
     "metadata": {},
     "output_type": "display_data"
    }
   ],
   "source": [
    "shap.dependence_plot(\"pipeline-1__number_of_reviews\", train_shap_values.values, X_train_enc)"
   ]
  },
  {
   "cell_type": "markdown",
   "metadata": {},
   "source": [
    "<div class=\"alert alert-warning\">\n",
    "    \n",
    "Solution_11\n",
    "    \n",
    "</div>\n",
    "\n",
    "_Points:_ 10"
   ]
  },
  {
   "cell_type": "code",
   "execution_count": null,
   "metadata": {
    "tags": []
   },
   "outputs": [],
   "source": [
    "..."
   ]
  },
  {
   "cell_type": "code",
   "execution_count": null,
   "metadata": {
    "tags": []
   },
   "outputs": [],
   "source": [
    "..."
   ]
  },
  {
   "cell_type": "code",
   "execution_count": null,
   "metadata": {
    "tags": []
   },
   "outputs": [],
   "source": [
    "..."
   ]
  },
  {
   "cell_type": "code",
   "execution_count": null,
   "metadata": {
    "tags": []
   },
   "outputs": [],
   "source": [
    "..."
   ]
  },
  {
   "cell_type": "code",
   "execution_count": null,
   "metadata": {
    "tags": []
   },
   "outputs": [],
   "source": [
    "..."
   ]
  },
  {
   "cell_type": "code",
   "execution_count": null,
   "metadata": {
    "tags": []
   },
   "outputs": [],
   "source": [
    "..."
   ]
  },
  {
   "cell_type": "code",
   "execution_count": null,
   "metadata": {
    "tags": []
   },
   "outputs": [],
   "source": [
    "..."
   ]
  },
  {
   "cell_type": "code",
   "execution_count": null,
   "metadata": {
    "tags": []
   },
   "outputs": [],
   "source": [
    "..."
   ]
  },
  {
   "cell_type": "markdown",
   "metadata": {
    "deletable": false,
    "editable": false
   },
   "source": [
    "<!-- END QUESTION -->\n",
    "\n",
    "<br><br>"
   ]
  },
  {
   "cell_type": "markdown",
   "metadata": {
    "deletable": false,
    "editable": false,
    "tags": []
   },
   "source": [
    "<!-- BEGIN QUESTION -->\n",
    "\n",
    "## 12. Results on the test set <a name=\"12\"></a>\n",
    "<hr>\n",
    "\n",
    "rubric={points:10}\n",
    "\n",
    "**Your tasks:**\n",
    "\n",
    "1. Try your best performing model on the test data and report test scores. \n",
    "2. Do the test scores agree with the validation scores from before? To what extent do you trust your results? Do you think you've had issues with optimization bias? \n",
    "3. Take one or two test predictions and explain these individual predictions (e.g., with SHAP force plots).  "
   ]
  },
  {
   "cell_type": "markdown",
   "metadata": {
    "deletable": false,
    "editable": false
   },
   "source": [
    "<div class=\"alert alert-warning\">\n",
    "    \n",
    "Solution_12\n",
    "    \n",
    "</div>\n",
    "\n",
    "_Points:_ 10"
   ]
  },
  {
   "cell_type": "markdown",
   "metadata": {},
   "source": [
    "_Type your answer here, replacing this text._"
   ]
  },
  {
   "cell_type": "code",
   "execution_count": null,
   "metadata": {
    "tags": []
   },
   "outputs": [],
   "source": [
    "..."
   ]
  },
  {
   "cell_type": "code",
   "execution_count": null,
   "metadata": {
    "tags": []
   },
   "outputs": [],
   "source": [
    "..."
   ]
  },
  {
   "cell_type": "code",
   "execution_count": null,
   "metadata": {
    "tags": []
   },
   "outputs": [],
   "source": [
    "..."
   ]
  },
  {
   "cell_type": "code",
   "execution_count": null,
   "metadata": {
    "tags": []
   },
   "outputs": [],
   "source": [
    "..."
   ]
  },
  {
   "cell_type": "code",
   "execution_count": null,
   "metadata": {
    "tags": []
   },
   "outputs": [],
   "source": [
    "..."
   ]
  },
  {
   "cell_type": "code",
   "execution_count": null,
   "metadata": {
    "tags": []
   },
   "outputs": [],
   "source": [
    "..."
   ]
  },
  {
   "cell_type": "code",
   "execution_count": null,
   "metadata": {
    "tags": []
   },
   "outputs": [],
   "source": [
    "..."
   ]
  },
  {
   "cell_type": "code",
   "execution_count": null,
   "metadata": {
    "tags": []
   },
   "outputs": [],
   "source": [
    "..."
   ]
  },
  {
   "cell_type": "code",
   "execution_count": null,
   "metadata": {
    "tags": []
   },
   "outputs": [],
   "source": [
    "..."
   ]
  },
  {
   "cell_type": "code",
   "execution_count": null,
   "metadata": {
    "tags": []
   },
   "outputs": [],
   "source": [
    "..."
   ]
  },
  {
   "cell_type": "code",
   "execution_count": null,
   "metadata": {
    "tags": []
   },
   "outputs": [],
   "source": [
    "..."
   ]
  },
  {
   "cell_type": "code",
   "execution_count": null,
   "metadata": {
    "tags": []
   },
   "outputs": [],
   "source": [
    "..."
   ]
  },
  {
   "cell_type": "markdown",
   "metadata": {
    "deletable": false,
    "editable": false
   },
   "source": [
    "<!-- END QUESTION -->\n",
    "\n",
    "<br><br>"
   ]
  },
  {
   "cell_type": "markdown",
   "metadata": {
    "deletable": false,
    "editable": false
   },
   "source": [
    "<!-- BEGIN QUESTION -->\n",
    "\n",
    "## 13. Summary of results <a name=\"13\"></a>\n",
    "<hr>\n",
    "rubric={points:12}\n",
    "\n",
    "Imagine that you want to present the summary of these results to your boss and co-workers. \n",
    "\n",
    "**Your tasks:**\n",
    "\n",
    "1. Create a table summarizing important results. \n",
    "2. Write concluding remarks.\n",
    "3. Discuss other ideas that you did not try but could potentially improve the performance/interpretability . \n",
    "3. Report your final test score along with the metric you used at the top of this notebook in the [Submission instructions section](#si)."
   ]
  },
  {
   "cell_type": "markdown",
   "metadata": {
    "deletable": false,
    "editable": false
   },
   "source": [
    "<div class=\"alert alert-warning\">\n",
    "    \n",
    "Solution_13\n",
    "    \n",
    "</div>\n",
    "\n",
    "_Points:_ 12"
   ]
  },
  {
   "cell_type": "markdown",
   "metadata": {},
   "source": [
    "_Type your answer here, replacing this text._"
   ]
  },
  {
   "cell_type": "code",
   "execution_count": null,
   "metadata": {
    "tags": []
   },
   "outputs": [],
   "source": [
    "..."
   ]
  },
  {
   "cell_type": "code",
   "execution_count": null,
   "metadata": {
    "tags": []
   },
   "outputs": [],
   "source": [
    "..."
   ]
  },
  {
   "cell_type": "markdown",
   "metadata": {
    "deletable": false,
    "editable": false
   },
   "source": [
    "<!-- END QUESTION -->\n",
    "\n",
    "<br><br>"
   ]
  },
  {
   "cell_type": "markdown",
   "metadata": {},
   "source": [
    "<br><br>"
   ]
  },
  {
   "cell_type": "markdown",
   "metadata": {
    "deletable": false,
    "editable": false
   },
   "source": [
    "<!-- BEGIN QUESTION -->\n",
    "\n",
    "## 14. Your takeaway <a name=\"15\"></a>\n",
    "<hr>\n",
    "rubric={points:2}\n",
    "\n",
    "**Your tasks:**\n",
    "\n",
    "What is your biggest takeaway from the supervised machine learning material we have learned so far? Please write thoughtful answers.  "
   ]
  },
  {
   "cell_type": "markdown",
   "metadata": {
    "deletable": false,
    "editable": false
   },
   "source": [
    "<div class=\"alert alert-warning\">\n",
    "    \n",
    "Solution_14\n",
    "    \n",
    "</div>\n",
    "\n",
    "_Points:_ 2"
   ]
  },
  {
   "cell_type": "markdown",
   "metadata": {
    "deletable": false,
    "editable": false
   },
   "source": [
    "<!-- END QUESTION -->\n",
    "\n",
    "<br><br>"
   ]
  },
  {
   "cell_type": "markdown",
   "metadata": {},
   "source": [
    "**PLEASE READ BEFORE YOU SUBMIT:** \n",
    "\n",
    "When you are ready to submit your assignment do the following:\n",
    "\n",
    "1. Run all cells in your notebook to make sure there are no errors by doing `Kernel -> Restart Kernel and Clear All Outputs` and then `Run -> Run All Cells`. \n",
    "2. Notebooks with cell execution numbers out of order or not starting from \"1\" will have marks deducted. Notebooks without the output displayed may not be graded at all (because we need to see the output in order to grade your work).\n",
    "4. Upload the assignment using Gradescope's drag and drop tool. Check out this [Gradescope Student Guide](https://lthub.ubc.ca/guides/gradescope-student-guide/) if you need help with Gradescope submission. \n",
    "5. Make sure that the plots and output are rendered properly in your submitted file. If the .ipynb file is too big and doesn't render on Gradescope, also upload a pdf or html in addition to the .ipynb so that the TAs can view your submission on Gradescope. "
   ]
  },
  {
   "cell_type": "markdown",
   "metadata": {},
   "source": [
    "This was a tricky one but you did it! "
   ]
  },
  {
   "cell_type": "markdown",
   "metadata": {},
   "source": [
    "![](img/eva-well-done.png)"
   ]
  }
 ],
 "metadata": {
  "kernelspec": {
   "display_name": "Python [conda env:base]",
   "language": "python",
   "name": "conda-base-py"
  },
  "language_info": {
   "codemirror_mode": {
    "name": "ipython",
    "version": 3
   },
   "file_extension": ".py",
   "mimetype": "text/x-python",
   "name": "python",
   "nbconvert_exporter": "python",
   "pygments_lexer": "ipython3",
   "version": "3.12.2"
  },
  "otter": {
   "OK_FORMAT": true,
   "tests": {}
  }
 },
 "nbformat": 4,
 "nbformat_minor": 4
}
